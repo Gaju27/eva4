{
  "nbformat": 4,
  "nbformat_minor": 0,
  "metadata": {
    "colab": {
      "name": "fg_bg.ipynb",
      "provenance": [],
      "collapsed_sections": []
    },
    "kernelspec": {
      "name": "python3",
      "display_name": "Python 3"
    },
    "accelerator": "TPU"
  },
  "cells": [
    {
      "cell_type": "code",
      "metadata": {
        "id": "aWd8uEA1DhSC",
        "colab_type": "code",
        "colab": {}
      },
      "source": [
        "import glob\n",
        "import timeit\n",
        "import zipfile\n",
        "from random import randint\n",
        "from zipfile import ZipFile\n",
        "from PIL import Image"
      ],
      "execution_count": 0,
      "outputs": []
    },
    {
      "cell_type": "code",
      "metadata": {
        "id": "9Ob08WMpD1xa",
        "colab_type": "code",
        "outputId": "6bf5da75-a987-470f-beba-28ba05b01f4e",
        "colab": {
          "base_uri": "https://localhost:8080/",
          "height": 122
        }
      },
      "source": [
        "from google.colab import drive\n",
        "drive.mount('/content/gdrive')"
      ],
      "execution_count": 0,
      "outputs": [
        {
          "output_type": "stream",
          "text": [
            "Go to this URL in a browser: https://accounts.google.com/o/oauth2/auth?client_id=947318989803-6bn6qk8qdgf4n4g3pfee6491hc0brc4i.apps.googleusercontent.com&redirect_uri=urn%3aietf%3awg%3aoauth%3a2.0%3aoob&response_type=code&scope=email%20https%3a%2f%2fwww.googleapis.com%2fauth%2fdocs.test%20https%3a%2f%2fwww.googleapis.com%2fauth%2fdrive%20https%3a%2f%2fwww.googleapis.com%2fauth%2fdrive.photos.readonly%20https%3a%2f%2fwww.googleapis.com%2fauth%2fpeopleapi.readonly\n",
            "\n",
            "Enter your authorization code:\n",
            "··········\n",
            "Mounted at /content/gdrive\n"
          ],
          "name": "stdout"
        }
      ]
    },
    {
      "cell_type": "code",
      "metadata": {
        "id": "YhSwXYySEyiZ",
        "colab_type": "code",
        "outputId": "0d0610d1-7dee-409d-f555-94619346a9fe",
        "colab": {
          "base_uri": "https://localhost:8080/",
          "height": 34
        }
      },
      "source": [
        "!ls"
      ],
      "execution_count": 0,
      "outputs": [
        {
          "output_type": "stream",
          "text": [
            "gdrive\tsample_data\n"
          ],
          "name": "stdout"
        }
      ]
    },
    {
      "cell_type": "code",
      "metadata": {
        "id": "7DDTVGosE0Q3",
        "colab_type": "code",
        "outputId": "432a0ecc-a5e3-4d3c-c027-9bec8eb2135a",
        "colab": {
          "base_uri": "https://localhost:8080/",
          "height": 34
        }
      },
      "source": [
        "cd gdrive"
      ],
      "execution_count": 0,
      "outputs": [
        {
          "output_type": "stream",
          "text": [
            "/content/gdrive\n"
          ],
          "name": "stdout"
        }
      ]
    },
    {
      "cell_type": "code",
      "metadata": {
        "id": "7WbWF0mfHT2X",
        "colab_type": "code",
        "outputId": "de553ed1-d20e-423e-db4a-f5ac837da283",
        "colab": {
          "base_uri": "https://localhost:8080/",
          "height": 34
        }
      },
      "source": [
        "!ls"
      ],
      "execution_count": 0,
      "outputs": [
        {
          "output_type": "stream",
          "text": [
            "'My Drive'\n"
          ],
          "name": "stdout"
        }
      ]
    },
    {
      "cell_type": "code",
      "metadata": {
        "id": "6D30cfRyHV22",
        "colab_type": "code",
        "outputId": "22fe74a0-1cb2-4a5d-f999-ae15a96e30ac",
        "colab": {
          "base_uri": "https://localhost:8080/",
          "height": 34
        }
      },
      "source": [
        "cd My Drive"
      ],
      "execution_count": 0,
      "outputs": [
        {
          "output_type": "stream",
          "text": [
            "/content/gdrive/My Drive\n"
          ],
          "name": "stdout"
        }
      ]
    },
    {
      "cell_type": "code",
      "metadata": {
        "id": "LrQeHmlpHc8l",
        "colab_type": "code",
        "outputId": "31b31b87-761f-40a0-a2a1-b78104e11877",
        "colab": {
          "base_uri": "https://localhost:8080/",
          "height": 34
        }
      },
      "source": [
        "from datetime import datetime\n",
        "now = datetime.now()\n",
        "\n",
        "current_time = now.strftime(\"%H:%M:%S\")\n",
        "print(\"Current Time =\", current_time)\n",
        "\n",
        "# below location where images zipped\n",
        "save_dir = \"fg_bg/\"\n",
        "save_dir_mask = \"fb_bg_mask/\""
      ],
      "execution_count": 0,
      "outputs": [
        {
          "output_type": "stream",
          "text": [
            "Current Time = 04:08:01\n"
          ],
          "name": "stdout"
        }
      ]
    },
    {
      "cell_type": "code",
      "metadata": {
        "id": "bJ2D9xxjHl42",
        "colab_type": "code",
        "outputId": "a4002696-c178-4118-abc4-02c92b94c66f",
        "colab": {
          "base_uri": "https://localhost:8080/",
          "height": 1000
        }
      },
      "source": [
        "zip_index =0\n",
        "def main():\n",
        "    i = 1\n",
        "    bpath = \"/content/gdrive/My Drive/S14_Images/Background_jpeg/*.*\"\n",
        "    fpath = \"/content/gdrive/My Drive/S14_Images/Foreground/*.*\"\n",
        "    zipped = ZipFile('fg_bg_overlay.zip', mode='a', compression=zipfile.ZIP_STORED)\n",
        "    zip_index = 4080 +i\n",
        "    for file_back in glob.glob(bpath):\n",
        "        k = 1\n",
        "        for file_fore in glob.glob(fpath):\n",
        "            fimg = Image.open(file_fore).convert(\"RGBA\")\n",
        "            # fimg.show()\n",
        "            filter_size = (100, 100)\n",
        "            fimg = fimg.resize(filter_size, Image.BILINEAR)\n",
        "\n",
        "            for j in range(1, 21):\n",
        "                bimg = Image.open(file_back)\n",
        "                img_mask = Image.new(\"L\", (150, 150), 0)\n",
        "                alphadata = fimg.tobytes(\"raw\", \"A\")\n",
        "                alphaimage = Image.frombytes(\"L\", fimg.size, alphadata)\n",
        "                size = (randint(10, 150), randint(10, 150))\n",
        "                bimg.paste(fimg, size, fimg)\n",
        "                img_mask.paste(alphaimage, size, alphaimage)\n",
        "                bimg.save('back_file_temp.jpg', optimize=True, quality=40)\n",
        "                img_mask.save('b_file_mask_temp.jpg', optimize=True, quality=40)\n",
        "                zipped.write('back_file_temp.jpg', f'{save_dir}/fg_bg_{i}_{k}_{j}.jpg')\n",
        "                zipped.write('b_file_mask_temp.jpg', f'{save_dir_mask}/fg_bg_mask_{i}_{k}_{j}.jpg')\n",
        "                zip_index+=1\n",
        "            k += 1\n",
        "        print(\"completed for: \", i)\n",
        "        i += 1\n",
        "    zipped.close()\n",
        "starttime = timeit.default_timer()\n",
        "print(\"The start time is :\",starttime)\n",
        "if __name__ == '__main__':\n",
        "    # Calling main() function\n",
        "    main()\n",
        "print(\"The time difference is :\", timeit.default_timer() - starttime)"
      ],
      "execution_count": 0,
      "outputs": [
        {
          "output_type": "stream",
          "text": [
            "The start time is : 2685.045559553\n",
            "completed for:  1\n",
            "completed for:  2\n",
            "completed for:  3\n",
            "completed for:  4\n",
            "completed for:  5\n",
            "completed for:  6\n",
            "completed for:  7\n",
            "completed for:  8\n",
            "completed for:  9\n",
            "completed for:  10\n",
            "completed for:  11\n",
            "completed for:  12\n",
            "completed for:  13\n",
            "completed for:  14\n",
            "completed for:  15\n",
            "completed for:  16\n",
            "completed for:  17\n",
            "completed for:  18\n",
            "completed for:  19\n",
            "completed for:  20\n",
            "completed for:  21\n",
            "completed for:  22\n",
            "completed for:  23\n",
            "completed for:  24\n",
            "completed for:  25\n",
            "completed for:  26\n",
            "completed for:  27\n",
            "completed for:  28\n",
            "completed for:  29\n",
            "completed for:  30\n",
            "completed for:  31\n",
            "completed for:  32\n",
            "completed for:  33\n",
            "completed for:  34\n",
            "completed for:  35\n",
            "completed for:  36\n",
            "completed for:  37\n",
            "completed for:  38\n",
            "completed for:  39\n",
            "completed for:  40\n",
            "completed for:  41\n",
            "completed for:  42\n",
            "completed for:  43\n",
            "completed for:  44\n",
            "completed for:  45\n",
            "completed for:  46\n",
            "completed for:  47\n",
            "completed for:  48\n",
            "completed for:  49\n",
            "completed for:  50\n",
            "completed for:  51\n",
            "completed for:  52\n",
            "completed for:  53\n",
            "completed for:  54\n",
            "completed for:  55\n",
            "completed for:  56\n",
            "completed for:  57\n",
            "completed for:  58\n",
            "completed for:  59\n",
            "completed for:  60\n",
            "completed for:  61\n",
            "completed for:  62\n",
            "completed for:  63\n",
            "completed for:  64\n",
            "completed for:  65\n",
            "completed for:  66\n",
            "completed for:  67\n",
            "completed for:  68\n",
            "completed for:  69\n",
            "completed for:  70\n",
            "completed for:  71\n",
            "completed for:  72\n",
            "completed for:  73\n",
            "completed for:  74\n",
            "completed for:  75\n",
            "completed for:  76\n",
            "completed for:  77\n",
            "completed for:  78\n",
            "completed for:  79\n",
            "completed for:  80\n",
            "completed for:  81\n",
            "completed for:  82\n",
            "completed for:  83\n",
            "completed for:  84\n",
            "completed for:  85\n",
            "completed for:  86\n",
            "completed for:  87\n",
            "completed for:  88\n",
            "completed for:  89\n",
            "completed for:  90\n",
            "completed for:  91\n",
            "completed for:  92\n",
            "completed for:  93\n",
            "completed for:  94\n",
            "completed for:  95\n",
            "completed for:  96\n",
            "completed for:  97\n",
            "completed for:  98\n",
            "completed for:  99\n",
            "completed for:  100\n",
            "The time difference is : 7010.660126589\n"
          ],
          "name": "stdout"
        }
      ]
    },
    {
      "cell_type": "code",
      "metadata": {
        "id": "XhnifiFfHy2a",
        "colab_type": "code",
        "outputId": "81d70ae0-5fe3-4d8b-900e-94e86b9a3923",
        "colab": {
          "base_uri": "https://localhost:8080/",
          "height": 34
        }
      },
      "source": [
        "now = datetime.now()\n",
        "\n",
        "current_time = now.strftime(\"%H:%M:%S\")\n",
        "print(\"Current Time =\", current_time)"
      ],
      "execution_count": 0,
      "outputs": [
        {
          "output_type": "stream",
          "text": [
            "Current Time = 06:06:44\n"
          ],
          "name": "stdout"
        }
      ]
    },
    {
      "cell_type": "code",
      "metadata": {
        "id": "Uw4NV2yyFyOo",
        "colab_type": "code",
        "colab": {}
      },
      "source": [
        ""
      ],
      "execution_count": 0,
      "outputs": []
    }
  ]
}