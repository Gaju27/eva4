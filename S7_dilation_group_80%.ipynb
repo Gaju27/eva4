{
 "cells": [
  {
   "cell_type": "code",
   "execution_count": 1,
   "metadata": {
    "colab": {},
    "colab_type": "code",
    "id": "QVbdg0z4poCc"
   },
   "outputs": [],
   "source": [
    "%matplotlib inline"
   ]
  },
  {
   "cell_type": "markdown",
   "metadata": {
    "colab_type": "text",
    "id": "fPogbueepoCh"
   },
   "source": [
    "\n",
    "Training a Classifier\n",
    "=====================\n",
    "\n",
    "This is it. You have seen how to define neural networks, compute loss and make\n",
    "updates to the weights of the network.\n",
    "\n",
    "Now you might be thinking,\n",
    "\n",
    "What about data?\n",
    "----------------\n",
    "\n",
    "Generally, when you have to deal with image, text, audio or video data,\n",
    "you can use standard python packages that load data into a numpy array.\n",
    "Then you can convert this array into a ``torch.*Tensor``.\n",
    "\n",
    "-  For images, packages such as Pillow, OpenCV are useful\n",
    "-  For audio, packages such as scipy and librosa\n",
    "-  For text, either raw Python or Cython based loading, or NLTK and\n",
    "   SpaCy are useful\n",
    "\n",
    "Specifically for vision, we have created a package called\n",
    "``torchvision``, that has data loaders for common datasets such as\n",
    "Imagenet, CIFAR10, MNIST, etc. and data transformers for images, viz.,\n",
    "``torchvision.datasets`` and ``torch.utils.data.DataLoader``.\n",
    "\n",
    "This provides a huge convenience and avoids writing boilerplate code.\n",
    "\n",
    "For this tutorial, we will use the CIFAR10 dataset.\n",
    "It has the classes: ‘airplane’, ‘automobile’, ‘bird’, ‘cat’, ‘deer’,\n",
    "‘dog’, ‘frog’, ‘horse’, ‘ship’, ‘truck’. The images in CIFAR-10 are of\n",
    "size 3x32x32, i.e. 3-channel color images of 32x32 pixels in size.\n",
    "\n",
    ".. figure:: /_static/img/cifar10.png\n",
    "   :alt: cifar10\n",
    "\n",
    "   cifar10\n",
    "\n",
    "\n",
    "Training an image classifier\n",
    "----------------------------\n",
    "\n",
    "We will do the following steps in order:\n",
    "\n",
    "1. Load and normalizing the CIFAR10 training and test datasets using\n",
    "   ``torchvision``\n",
    "2. Define a Convolution Neural Network\n",
    "3. Define a loss function\n",
    "4. Train the network on the training data\n",
    "5. Test the network on the test data\n",
    "\n",
    "1. Loading and normalizing CIFAR10\n",
    "^^^^^^^^^^^^^^^^^^^^^^^^^^^^^^^^^^\n",
    "\n",
    "Using ``torchvision``, it’s extremely easy to load CIFAR10.\n",
    "\n"
   ]
  },
  {
   "cell_type": "code",
   "execution_count": 2,
   "metadata": {
    "colab": {},
    "colab_type": "code",
    "id": "-yVpodAMpoCi"
   },
   "outputs": [],
   "source": [
    "import torch\n",
    "import torchvision\n",
    "import torchvision.transforms as transforms"
   ]
  },
  {
   "cell_type": "markdown",
   "metadata": {
    "colab_type": "text",
    "id": "5kjt4e2TpoCk"
   },
   "source": [
    "#### Transform\n",
    "\n",
    "Checking for GPU and using that in the code below\n"
   ]
  },
  {
   "cell_type": "code",
   "execution_count": 3,
   "metadata": {
    "colab": {
     "base_uri": "https://localhost:8080/",
     "height": 70
    },
    "colab_type": "code",
    "id": "D8Tjigo2poCl",
    "outputId": "e98df9fe-8bf0-4024-8bb4-6ec917f56cfa"
   },
   "outputs": [
    {
     "name": "stdout",
     "output_type": "stream",
     "text": [
      "CUDA Available? cuda:0\n",
      "Files already downloaded and verified\n",
      "Files already downloaded and verified\n"
     ]
    }
   ],
   "source": [
    "SEED = 1\n",
    "\n",
    "# CUDA?\n",
    "# cuda = torch.cuda.is_available()\n",
    "device = torch.device(\"cuda:0\" if torch.cuda.is_available() else \"cpu\")\n",
    "print(\"CUDA Available?\", device)\n",
    "\n",
    "# For reproducibility\n",
    "torch.manual_seed(SEED)\n",
    "\n",
    "if device:\n",
    "    torch.cuda.manual_seed(SEED)\n",
    "\n",
    "# dataloader arguments - something you'll fetch these from cmdprmt\n",
    "dataloader_args = dict(shuffle=True, batch_size=4, num_workers=2, pin_memory=True) if device else dict(shuffle=True, batch_size=4)\n",
    "\n",
    "transform = transforms.Compose(\n",
    "    [transforms.ToTensor(),\n",
    "     transforms.Normalize((0.5, 0.5, 0.5), (0.5, 0.5, 0.5))])\n",
    "\n",
    "trainset = torchvision.datasets.CIFAR10(root='./data', train=True, download=True, transform=transform)\n",
    "\n",
    "trainloader = torch.utils.data.DataLoader(trainset,** dataloader_args)\n",
    "\n",
    "testset = torchvision.datasets.CIFAR10(root='./data', train=False, download=True, transform=transform)\n",
    "\n",
    "testloader = torch.utils.data.DataLoader(testset, **dataloader_args)\n",
    "\n",
    "classes = ('plane', 'car', 'bird', 'cat',\n",
    "           'deer', 'dog', 'frog', 'horse', 'ship', 'truck')"
   ]
  },
  {
   "cell_type": "markdown",
   "metadata": {
    "colab_type": "text",
    "id": "_cj433rtpoCn"
   },
   "source": [
    "Let us show some of the training images, for fun.\n",
    "\n"
   ]
  },
  {
   "cell_type": "code",
   "execution_count": 4,
   "metadata": {
    "colab": {
     "base_uri": "https://localhost:8080/",
     "height": 155
    },
    "colab_type": "code",
    "id": "daA7bADhpoCo",
    "outputId": "4bc420bf-007e-4d42-895f-52d2785de817"
   },
   "outputs": [
    {
     "name": "stdout",
     "output_type": "stream",
     "text": [
      "plane   dog  deer  deer\n"
     ]
    },
    {
     "data": {
      "image/png": "[encoded data removed]",
      "text/plain": [
       "<Figure size 432x288 with 1 Axes>"
      ]
     },
     "metadata": {
      "needs_background": "light"
     },
     "output_type": "display_data"
    }
   ],
   "source": [
    "import matplotlib.pyplot as plt\n",
    "import numpy as np\n",
    "\n",
    "# functions to show an image\n",
    "\n",
    "\n",
    "def imshow(img):\n",
    "    img = img / 2 + 0.5     # unnormalize\n",
    "    npimg = img.numpy()\n",
    "    plt.imshow(np.transpose(npimg, (1, 2, 0)))\n",
    "\n",
    "\n",
    "# get some random training images\n",
    "dataiter = iter(trainloader)\n",
    "images, labels = dataiter.next()\n",
    "\n",
    "\n",
    "# show images\n",
    "imshow(torchvision.utils.make_grid(images))\n",
    "# print labels\n",
    "print(' '.join('%5s' % classes[labels[j]] for j in range(4)))"
   ]
  },
  {
   "cell_type": "markdown",
   "metadata": {
    "colab_type": "text",
    "id": "28OpHA_LpoCq"
   },
   "source": [
    "### 2. Define a Convolution Neural Network\n",
    "\n",
    "#### Used Dilation and group convolution, GAP layer \n",
    "\n",
    "##### Below is calculation\n",
    "    1. Kernel=3 Padding=1 stride=1 dilation=2 Input=32 Output=32 Recp_field=1  JumpOut=1 groups=1\n",
    "    2. Kernel=3 Padding=1 stride=1 dilation=2 Input=32 Output=30 Recp_field=5  JumpOut=1 \n",
    "    3. Kernel=3 Padding=1 stride=1 dilation=2 Input=30 Output=15 Recp_field=6  JumpOut=1 groups=32\n",
    "    4. Kernel=3 Padding=1 stride=1 dilation=2 Input=15 Output=13 Recp_field=14 JumpOut=2 groups=32\n",
    "    5. Kernel=3 Padding=1 stride=1 dilation=2 Input=13 Output=6  Recp_field=16 JumpOut=2 \n",
    "    6. Kernel=3 Padding=1 stride=1 dilation=2 Input=6  Output=4  Recp_field=32 JumpOut=4 groups=32\n",
    "    7. Kernel=5 Padding=1 stride=1 dilation=1 Input=4  Output=2  Recp_field=48 JumpOut=4 \n",
    "    8. Global Average Pooling\n",
    "    9. Fully Connected layer\n",
    "\n"
   ]
  },
  {
   "cell_type": "code",
   "execution_count": 5,
   "metadata": {
    "colab": {},
    "colab_type": "code",
    "id": "0jjLwLLQpoCr"
   },
   "outputs": [],
   "source": [
    "import torch.nn as nn\n",
    "import torch.nn.functional as F\n",
    "\n",
    "\n",
    "class Net(torch.nn.Module):\n",
    "    def __init__(self):\n",
    "        super(Net, self).__init__()\n",
    "        \n",
    "        self.con1=nn.Sequential(\n",
    "            nn.Conv2d(in_channels=3, out_channels=128, kernel_size=5, stride=1, padding=1), # Out=32, RF=1, Jout=1\n",
    "            nn.ReLU(),\n",
    "            nn.BatchNorm2d(128), \n",
    "         )\n",
    "            \n",
    "        self.con2=nn.Sequential(\n",
    "            nn.Conv2d(in_channels=128, out_channels=128, kernel_size=3, stride=1, padding=1,dilation=2,groups=32), # In=32, out=30, RF=5, Jout=1\n",
    "            nn.ReLU(),\n",
    "            nn.BatchNorm2d(128),\n",
    "        )\n",
    "\n",
    "        self.pool1=nn.MaxPool2d(2,2) # In=30, out=15, RF=6, Jout=1\n",
    "\n",
    "\n",
    "        self.con3=nn.Sequential(\n",
    "            nn.Conv2d(in_channels=128, out_channels=256, kernel_size=3, stride=1, padding=1,dilation=2,groups=32), # In=15, out=13, RF=14, Jout=2\n",
    "            nn.ReLU(),\n",
    "            nn.BatchNorm2d(256),\n",
    "        )\n",
    "\n",
    "        self.pool2=nn.MaxPool2d(2,2) # In=13, out=6, RF=16, Jout=2\n",
    "\n",
    "\n",
    "        self.con4=nn.Sequential(\n",
    "            nn.Conv2d(in_channels=256, out_channels=256, kernel_size=3, stride=1, padding=1,dilation=2,groups=32),  # In=6, out=4, RF=32, Jout=4\n",
    "            nn.ReLU(),\n",
    "            nn.BatchNorm2d(256),\n",
    "            nn.Conv2d(in_channels=256, out_channels=10, kernel_size=5, stride=1, padding=1), # In=4, out=2, RF=48, Jout=4\n",
    "#             nn.ReLU(),\n",
    "#             nn.BatchNorm2d(10),\n",
    "        )\n",
    "\n",
    "        self.avg_pool=nn.AvgPool2d(kernel_size=2)\n",
    "\n",
    "\n",
    "    def forward(self, x):\n",
    "        x = self.con1(x)\n",
    "        x = self.con2(x)\n",
    "        x = self.pool1(x)\n",
    "        x = self.con3(x)\n",
    "        x = self.pool2(x)\n",
    "        x = self.con4(x)\n",
    "        x = self.avg_pool(x)\n",
    "        x = x.view(-1, 10)\n",
    "        return F.log_softmax(x, dim=1)\n",
    "    \n",
    "\n",
    "\n",
    "# net =  Net()\n",
    "# if torch.cuda.is_available():\n",
    "#     net.cuda()"
   ]
  },
  {
   "cell_type": "markdown",
   "metadata": {},
   "source": [
    "### Summary"
   ]
  },
  {
   "cell_type": "code",
   "execution_count": 6,
   "metadata": {
    "scrolled": false
   },
   "outputs": [
    {
     "name": "stdout",
     "output_type": "stream",
     "text": [
      "Requirement already satisfied: torchsummary in c:\\programdata\\anaconda3\\lib\\site-packages (1.5.1)\n",
      "cuda\n",
      "----------------------------------------------------------------\n",
      "        Layer (type)               Output Shape         Param #\n",
      "================================================================\n",
      "            Conv2d-1          [-1, 128, 30, 30]           9,728\n",
      "              ReLU-2          [-1, 128, 30, 30]               0\n",
      "       BatchNorm2d-3          [-1, 128, 30, 30]             256\n",
      "            Conv2d-4          [-1, 128, 28, 28]           4,736\n",
      "              ReLU-5          [-1, 128, 28, 28]               0\n",
      "       BatchNorm2d-6          [-1, 128, 28, 28]             256\n",
      "         MaxPool2d-7          [-1, 128, 14, 14]               0\n",
      "            Conv2d-8          [-1, 256, 12, 12]           9,472\n",
      "              ReLU-9          [-1, 256, 12, 12]               0\n",
      "      BatchNorm2d-10          [-1, 256, 12, 12]             512\n",
      "        MaxPool2d-11            [-1, 256, 6, 6]               0\n",
      "           Conv2d-12            [-1, 256, 4, 4]          18,688\n",
      "             ReLU-13            [-1, 256, 4, 4]               0\n",
      "      BatchNorm2d-14            [-1, 256, 4, 4]             512\n",
      "           Conv2d-15             [-1, 10, 2, 2]          64,010\n",
      "        AvgPool2d-16             [-1, 10, 1, 1]               0\n",
      "================================================================\n",
      "Total params: 108,170\n",
      "Trainable params: 108,170\n",
      "Non-trainable params: 0\n",
      "----------------------------------------------------------------\n",
      "Input size (MB): 0.01\n",
      "Forward/backward pass size (MB): 6.13\n",
      "Params size (MB): 0.41\n",
      "Estimated Total Size (MB): 6.56\n",
      "----------------------------------------------------------------\n"
     ]
    }
   ],
   "source": [
    "!pip install torchsummary\n",
    "from torchsummary import summary\n",
    "use_cuda = torch.cuda.is_available()\n",
    "device = torch.device(\"cuda\" if use_cuda else \"cpu\")\n",
    "print(device)\n",
    "net = Net().to(device)\n",
    "summary(net, input_size=(3, 32, 32))"
   ]
  },
  {
   "cell_type": "markdown",
   "metadata": {
    "colab_type": "text",
    "id": "Wdw2NNCUpoCu"
   },
   "source": [
    "### 3. Define a Loss function and optimizer\n",
    "\n",
    "Let's use a Classification Cross-Entropy loss and SGD with momentum.\n",
    "\n"
   ]
  },
  {
   "cell_type": "code",
   "execution_count": 7,
   "metadata": {
    "colab": {},
    "colab_type": "code",
    "id": "M4xBbDROpoCv"
   },
   "outputs": [],
   "source": [
    "import torch.optim as optim\n",
    "\n",
    "criterion = nn.CrossEntropyLoss()\n",
    "optimizer = optim.SGD(net.parameters(), lr=0.001, momentum=0.9)"
   ]
  },
  {
   "cell_type": "markdown",
   "metadata": {
    "colab_type": "text",
    "id": "O-odOrhdpoC2"
   },
   "source": [
    "### 4. Train the network for 20 epochs\n",
    "\n",
    "\n",
    "This is when things start to get interesting.\n",
    "We simply have to loop over our data iterator, and feed the inputs to the\n",
    "network and optimize.\n",
    "\n"
   ]
  },
  {
   "cell_type": "code",
   "execution_count": 8,
   "metadata": {
    "colab": {
     "base_uri": "https://localhost:8080/",
     "height": 246
    },
    "colab_type": "code",
    "id": "kkuRfo1IpoC3",
    "outputId": "4bb7bb5b-3c2c-450f-e34f-03dc7b3948f1"
   },
   "outputs": [
    {
     "name": "stdout",
     "output_type": "stream",
     "text": [
      "[1,  2000] loss: 2.099\n",
      "[1,  4000] loss: 1.866\n",
      "[1,  6000] loss: 1.655\n",
      "[1,  8000] loss: 1.498\n",
      "[1, 10000] loss: 1.411\n",
      "[1, 12000] loss: 1.293\n",
      "[2,  2000] loss: 1.128\n",
      "[2,  4000] loss: 1.154\n",
      "[2,  6000] loss: 1.092\n",
      "[2,  8000] loss: 1.077\n",
      "[2, 10000] loss: 1.063\n",
      "[2, 12000] loss: 1.037\n",
      "[3,  2000] loss: 0.889\n",
      "[3,  4000] loss: 0.921\n",
      "[3,  6000] loss: 0.913\n",
      "[3,  8000] loss: 0.897\n",
      "[3, 10000] loss: 0.905\n",
      "[3, 12000] loss: 0.908\n",
      "[4,  2000] loss: 0.800\n",
      "[4,  4000] loss: 0.811\n",
      "[4,  6000] loss: 0.831\n",
      "[4,  8000] loss: 0.831\n",
      "[4, 10000] loss: 0.838\n",
      "[4, 12000] loss: 0.832\n",
      "[5,  2000] loss: 0.716\n",
      "[5,  4000] loss: 0.764\n",
      "[5,  6000] loss: 0.740\n",
      "[5,  8000] loss: 0.785\n",
      "[5, 10000] loss: 0.782\n",
      "[5, 12000] loss: 0.792\n",
      "[6,  2000] loss: 0.685\n",
      "[6,  4000] loss: 0.702\n",
      "[6,  6000] loss: 0.719\n",
      "[6,  8000] loss: 0.730\n",
      "[6, 10000] loss: 0.730\n",
      "[6, 12000] loss: 0.744\n",
      "[7,  2000] loss: 0.651\n",
      "[7,  4000] loss: 0.688\n",
      "[7,  6000] loss: 0.664\n",
      "[7,  8000] loss: 0.676\n",
      "[7, 10000] loss: 0.708\n",
      "[7, 12000] loss: 0.700\n",
      "[8,  2000] loss: 0.637\n",
      "[8,  4000] loss: 0.629\n",
      "[8,  6000] loss: 0.630\n",
      "[8,  8000] loss: 0.668\n",
      "[8, 10000] loss: 0.657\n",
      "[8, 12000] loss: 0.675\n",
      "[9,  2000] loss: 0.581\n",
      "[9,  4000] loss: 0.603\n",
      "[9,  6000] loss: 0.613\n",
      "[9,  8000] loss: 0.632\n",
      "[9, 10000] loss: 0.644\n",
      "[9, 12000] loss: 0.672\n",
      "[10,  2000] loss: 0.553\n",
      "[10,  4000] loss: 0.567\n",
      "[10,  6000] loss: 0.607\n",
      "[10,  8000] loss: 0.619\n",
      "[10, 10000] loss: 0.619\n",
      "[10, 12000] loss: 0.615\n",
      "[11,  2000] loss: 0.526\n",
      "[11,  4000] loss: 0.557\n",
      "[11,  6000] loss: 0.582\n",
      "[11,  8000] loss: 0.574\n",
      "[11, 10000] loss: 0.597\n",
      "[11, 12000] loss: 0.601\n",
      "[12,  2000] loss: 0.516\n",
      "[12,  4000] loss: 0.535\n",
      "[12,  6000] loss: 0.557\n",
      "[12,  8000] loss: 0.559\n",
      "[12, 10000] loss: 0.577\n",
      "[12, 12000] loss: 0.584\n",
      "[13,  2000] loss: 0.490\n",
      "[13,  4000] loss: 0.506\n",
      "[13,  6000] loss: 0.524\n",
      "[13,  8000] loss: 0.545\n",
      "[13, 10000] loss: 0.570\n",
      "[13, 12000] loss: 0.565\n",
      "[14,  2000] loss: 0.463\n",
      "[14,  4000] loss: 0.476\n",
      "[14,  6000] loss: 0.517\n",
      "[14,  8000] loss: 0.535\n",
      "[14, 10000] loss: 0.535\n",
      "[14, 12000] loss: 0.554\n",
      "[15,  2000] loss: 0.441\n",
      "[15,  4000] loss: 0.458\n",
      "[15,  6000] loss: 0.508\n",
      "[15,  8000] loss: 0.512\n",
      "[15, 10000] loss: 0.531\n",
      "[15, 12000] loss: 0.546\n",
      "[16,  2000] loss: 0.440\n",
      "[16,  4000] loss: 0.455\n",
      "[16,  6000] loss: 0.484\n",
      "[16,  8000] loss: 0.483\n",
      "[16, 10000] loss: 0.511\n",
      "[16, 12000] loss: 0.518\n",
      "[17,  2000] loss: 0.407\n",
      "[17,  4000] loss: 0.450\n",
      "[17,  6000] loss: 0.468\n",
      "[17,  8000] loss: 0.456\n",
      "[17, 10000] loss: 0.502\n",
      "[17, 12000] loss: 0.496\n",
      "[18,  2000] loss: 0.393\n",
      "[18,  4000] loss: 0.430\n",
      "[18,  6000] loss: 0.446\n",
      "[18,  8000] loss: 0.463\n",
      "[18, 10000] loss: 0.465\n",
      "[18, 12000] loss: 0.487\n",
      "[19,  2000] loss: 0.382\n",
      "[19,  4000] loss: 0.403\n",
      "[19,  6000] loss: 0.429\n",
      "[19,  8000] loss: 0.448\n",
      "[19, 10000] loss: 0.456\n",
      "[19, 12000] loss: 0.484\n",
      "[20,  2000] loss: 0.371\n",
      "[20,  4000] loss: 0.388\n",
      "[20,  6000] loss: 0.410\n",
      "[20,  8000] loss: 0.462\n",
      "[20, 10000] loss: 0.442\n",
      "[20, 12000] loss: 0.455\n",
      "Finished Training\n"
     ]
    }
   ],
   "source": [
    "for epoch in range(20):  # loop over the dataset multiple times\n",
    "\n",
    "    running_loss = 0.0\n",
    "    for i, data in enumerate(trainloader, 0):\n",
    "        # get the inputs\n",
    "        inputs, labels = data\n",
    "        \n",
    "        inputs, labels = inputs.to(device), labels.to(device)\n",
    "\n",
    "        # zero the parameter gradients\n",
    "        optimizer.zero_grad()\n",
    "\n",
    "        # forward + backward + optimize\n",
    "        outputs = net(inputs)\n",
    "        outputs = outputs.to(device)\n",
    "        loss = criterion(outputs, labels)\n",
    "        loss.backward()\n",
    "        optimizer.step()\n",
    "\n",
    "        # print statistics\n",
    "        running_loss += loss.item()\n",
    "        if i % 2000 == 1999:    # print every 2000 mini-batches\n",
    "            print('[%d, %5d] loss: %.3f' %\n",
    "                  (epoch + 1, i + 1, running_loss / 2000))\n",
    "            running_loss = 0.0\n",
    "\n",
    "print('Finished Training')"
   ]
  },
  {
   "cell_type": "markdown",
   "metadata": {
    "colab_type": "text",
    "id": "YLrvL_fHpoC5"
   },
   "source": [
    "### 5. Test the network on the test data\n",
    "\n",
    "\n",
    "We have trained the network for 20 passes over the training dataset.\n",
    "But we need to check if the network has learnt anything at all.\n",
    "\n",
    "We will check this by predicting the class label that the neural network\n",
    "outputs, and checking it against the ground-truth. If the prediction is\n",
    "correct, we add the sample to the list of correct predictions.\n",
    "\n",
    "Okay, first step. Let us display an image from the test set to get familiar.\n",
    "\n"
   ]
  },
  {
   "cell_type": "code",
   "execution_count": 9,
   "metadata": {
    "colab": {
     "base_uri": "https://localhost:8080/",
     "height": 155
    },
    "colab_type": "code",
    "id": "nizbsvw9poC6",
    "outputId": "c3bd71eb-4546-4bf1-e384-9707e9d1182c"
   },
   "outputs": [
    {
     "name": "stdout",
     "output_type": "stream",
     "text": [
      "GroundTruth:  truck  frog  bird  frog\n"
     ]
    },
    {
     "data": {
      "image/png": "[encoded data removed]",
      "text/plain": [
       "<Figure size 432x288 with 1 Axes>"
      ]
     },
     "metadata": {
      "needs_background": "light"
     },
     "output_type": "display_data"
    }
   ],
   "source": [
    "dataiter = iter(testloader)\n",
    "images, labels = dataiter.next()\n",
    "\n",
    "# print images\n",
    "imshow(torchvision.utils.make_grid(images))\n",
    "print('GroundTruth: ', ' '.join('%5s' % classes[labels[j]] for j in range(4)))"
   ]
  },
  {
   "cell_type": "markdown",
   "metadata": {
    "colab_type": "text",
    "id": "DAx4QPHVpoC8"
   },
   "source": [
    "Okay, now let us see what the neural network thinks these examples above are:\n",
    "\n"
   ]
  },
  {
   "cell_type": "code",
   "execution_count": 10,
   "metadata": {
    "colab": {},
    "colab_type": "code",
    "id": "HVLjlssWpoC9"
   },
   "outputs": [],
   "source": [
    "images = images.to(device)\n",
    "outputs = net(images)\n"
   ]
  },
  {
   "cell_type": "markdown",
   "metadata": {
    "colab_type": "text",
    "id": "u8OTHZEApoC_"
   },
   "source": [
    "The outputs are energies for the 10 classes.\n",
    "Higher the energy for a class, the more the network\n",
    "thinks that the image is of the particular class.\n",
    "So, let's get the index of the highest energy:\n",
    "\n"
   ]
  },
  {
   "cell_type": "code",
   "execution_count": 11,
   "metadata": {
    "colab": {
     "base_uri": "https://localhost:8080/",
     "height": 35
    },
    "colab_type": "code",
    "id": "ABRIDW3lpoDA",
    "outputId": "ed4b85a8-b1c7-49e8-f92f-134b7e8e4973"
   },
   "outputs": [
    {
     "name": "stdout",
     "output_type": "stream",
     "text": [
      "Predicted:  truck  frog  bird  frog\n"
     ]
    }
   ],
   "source": [
    "_, predicted = torch.max(outputs, 1)\n",
    "\n",
    "print('Predicted: ', ' '.join('%5s' % classes[predicted[j]]\n",
    "                              for j in range(4)))"
   ]
  },
  {
   "cell_type": "markdown",
   "metadata": {
    "colab_type": "text",
    "id": "2TV0TXL1poDC"
   },
   "source": [
    "The results seem pretty good.\n",
    "\n",
    "Let us look at how the network performs on the whole dataset.\n",
    "\n"
   ]
  },
  {
   "cell_type": "code",
   "execution_count": 12,
   "metadata": {
    "colab": {
     "base_uri": "https://localhost:8080/",
     "height": 35
    },
    "colab_type": "code",
    "id": "SZ4-5CESpoDD",
    "outputId": "4ba42561-b8a4-4530-9402-a856ae1c3158"
   },
   "outputs": [
    {
     "name": "stdout",
     "output_type": "stream",
     "text": [
      "Accuracy of the network on the 10000 test images: 67 %\n"
     ]
    }
   ],
   "source": [
    "correct = 0\n",
    "total = 0\n",
    "with torch.no_grad():\n",
    "    for data in testloader:\n",
    "        images, labels = data\n",
    "        images, labels = images.to(device), labels.to(device)\n",
    "        outputs = net(images)\n",
    "        _, predicted = torch.max(outputs.data, 1)\n",
    "        total += labels.size(0)\n",
    "        correct += (predicted == labels).sum().item()\n",
    "\n",
    "print('Accuracy of the network on the 10000 test images: %d %%' % (\n",
    "    100 * correct / total))"
   ]
  },
  {
   "cell_type": "markdown",
   "metadata": {
    "colab_type": "text",
    "id": "eDdwPBl8poDF"
   },
   "source": [
    "### Achieve 80 and above accuracy\n"
   ]
  },
  {
   "cell_type": "code",
   "execution_count": 13,
   "metadata": {
    "colab": {
     "base_uri": "https://localhost:8080/",
     "height": 193
    },
    "colab_type": "code",
    "id": "pDNFuDEDpoDG",
    "outputId": "43bca7a0-ef6f-48b8-d42f-5d0d89aba2dc"
   },
   "outputs": [
    {
     "name": "stdout",
     "output_type": "stream",
     "text": [
      "Accuracy of plane : 77 %\n",
      "Accuracy of   car : 71 %\n",
      "Accuracy of  bird : 57 %\n",
      "Accuracy of   cat : 56 %\n",
      "Accuracy of  deer : 58 %\n",
      "Accuracy of   dog : 51 %\n",
      "Accuracy of  frog : 67 %\n",
      "Accuracy of horse : 72 %\n",
      "Accuracy of  ship : 76 %\n",
      "Accuracy of truck : 82 %\n"
     ]
    }
   ],
   "source": [
    "class_correct = list(0. for i in range(10))\n",
    "class_total = list(0. for i in range(10))\n",
    "with torch.no_grad():\n",
    "    for data in testloader:\n",
    "        images, labels = data\n",
    "        images, labels = images.to(device), labels.to(device)\n",
    "        outputs = net(images)\n",
    "        _, predicted = torch.max(outputs, 1)\n",
    "        c = (predicted == labels).squeeze()\n",
    "        for i in range(4):\n",
    "            label = labels[i]\n",
    "            class_correct[label] += c[i].item()\n",
    "            class_total[label] += 1\n",
    "\n",
    "\n",
    "for i in range(10):\n",
    "    print('Accuracy of %5s : %2d %%' % (\n",
    "        classes[i], 100 * class_correct[i] / class_total[i]))"
   ]
  }
 ],
 "metadata": {
  "accelerator": "GPU",
  "colab": {
   "collapsed_sections": [],
   "name": "S7_test_1.ipynb",
   "provenance": []
  },
  "kernelspec": {
   "display_name": "Python 3",
   "language": "python",
   "name": "python3"
  },
  "language_info": {
   "codemirror_mode": {
    "name": "ipython",
    "version": 3
   },
   "file_extension": ".py",
   "mimetype": "text/x-python",
   "name": "python",
   "nbconvert_exporter": "python",
   "pygments_lexer": "ipython3",
   "version": "3.7.4"
  }
 },
 "nbformat": 4,
 "nbformat_minor": 1
}
