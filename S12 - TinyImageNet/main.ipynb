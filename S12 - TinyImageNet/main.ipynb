{
 "cells": [
  {
   "cell_type": "markdown",
   "metadata": {
    "colab_type": "text",
    "id": "fPogbueepoCh"
   },
   "source": [
    "Training an image classifier\n",
    "----------------------------\n",
    "\n",
    "Import all necessary packages from all.py file"
   ]
  },
  {
   "cell_type": "code",
   "execution_count": 1,
   "metadata": {
    "colab": {},
    "colab_type": "code",
    "id": "-yVpodAMpoCi",
    "scrolled": true
   },
   "outputs": [
    {
     "name": "stderr",
     "output_type": "stream",
     "text": [
      "C:\\ProgramData\\Anaconda3\\lib\\site-packages\\tqdm\\autonotebook.py:17: TqdmExperimentalWarning: Using `tqdm.autonotebook.tqdm` in notebook mode. Use `tqdm.tqdm` instead to force console mode (e.g. in jupyter console)\n",
      "  \" (e.g. in jupyter console)\", TqdmExperimentalWarning)\n",
      "WARNING:torch_lr_finder.lr_finder:To enable mixed precision training, please install `apex`. Or you can re-install this package by the following command:\n",
      "  pip install torch-lr-finder -v --global-option=\"amp\"\n"
     ]
    }
   ],
   "source": [
    "from all import *"
   ]
  },
  {
   "cell_type": "markdown",
   "metadata": {},
   "source": [
    "### Network Summary"
   ]
  },
  {
   "cell_type": "code",
   "execution_count": 2,
   "metadata": {
    "scrolled": false
   },
   "outputs": [
    {
     "name": "stdout",
     "output_type": "stream",
     "text": [
      "cuda\n"
     ]
    }
   ],
   "source": [
    "device = has_cuda()\n",
    "print(device)\n",
    "# net = ResNet18().to(device)\n",
    "net = torchvision.models.resnet18(pretrained=False, num_classes=200).to(device)"
   ]
  },
  {
   "cell_type": "markdown",
   "metadata": {
    "colab_type": "text",
    "id": "eDdwPBl8poDF"
   },
   "source": [
    "### Load train and test data for CIFAR10 with albumentation\n"
   ]
  },
  {
   "cell_type": "code",
   "execution_count": 3,
   "metadata": {
    "scrolled": true
   },
   "outputs": [],
   "source": [
    "dataloader = tinyImgNet_dataloader\n",
    "trainloader = dataloader(split='train')\n",
    "testloader = dataloader( split='val')\n",
    "criterion = nn.CrossEntropyLoss()\n",
    "# optimizer = optim.SGD(net.parameters(), lr=0.001, momentum=0.9)"
   ]
  },
  {
   "cell_type": "markdown",
   "metadata": {},
   "source": [
    "### Achieve 87 and above accuracy"
   ]
  },
  {
   "cell_type": "code",
   "execution_count": 4,
   "metadata": {},
   "outputs": [
    {
     "data": {
      "application/vnd.jupyter.widget-view+json": {
       "model_id": "169eb605a3f74f1591dba00e7ccc44b9",
       "version_major": 2,
       "version_minor": 0
      },
      "text/plain": [
       "HBox(children=(IntProgress(value=0, max=1000), HTML(value='')))"
      ]
     },
     "metadata": {},
     "output_type": "display_data"
    },
    {
     "name": "stdout",
     "output_type": "stream",
     "text": [
      "\n",
      "Learning rate search finished. See the graph with {finder_name}.plot()\n"
     ]
    }
   ],
   "source": [
    "optimizer = optim.SGD(net.parameters(), lr=0.001, weight_decay=1e-2)\n",
    "lr_finder = LRFinder(net, optimizer, criterion, device=\"cuda\")\n",
    "lr_finder.range_test(trainloader, end_lr=100, num_iter=1000, step_mode=\"exp\")"
   ]
  },
  {
   "cell_type": "code",
   "execution_count": 5,
   "metadata": {
    "scrolled": true
   },
   "outputs": [
    {
     "data": {
      "image/png": "[encoded data removed]",
      "text/plain": [
       "<Figure size 432x288 with 1 Axes>"
      ]
     },
     "metadata": {
      "needs_background": "light"
     },
     "output_type": "display_data"
    }
   ],
   "source": [
    "lr_finder.plot()\n",
    "lr_finder.reset()"
   ]
  },
  {
   "cell_type": "code",
   "execution_count": 6,
   "metadata": {},
   "outputs": [
    {
     "data": {
      "application/vnd.jupyter.widget-view+json": {
       "model_id": "ff63f9edc85c426b98c8b1fb00b64e6b",
       "version_major": 2,
       "version_minor": 0
      },
      "text/plain": [
       "HBox(children=(IntProgress(value=0), HTML(value='')))"
      ]
     },
     "metadata": {},
     "output_type": "display_data"
    },
    {
     "name": "stdout",
     "output_type": "stream",
     "text": [
      "\n",
      "Learning rate search finished. See the graph with {finder_name}.plot()\n"
     ]
    }
   ],
   "source": [
    "lr_finder.range_test(trainloader, val_loader=testloader, end_lr=100, num_iter=100, step_mode=\"exp\")"
   ]
  },
  {
   "cell_type": "code",
   "execution_count": 7,
   "metadata": {},
   "outputs": [
    {
     "data": {
      "image/png": "[encoded data removed]",
      "text/plain": [
       "<Figure size 432x288 with 1 Axes>"
      ]
     },
     "metadata": {
      "needs_background": "light"
     },
     "output_type": "display_data"
    }
   ],
   "source": [
    "lr_finder.plot(skip_end=0)"
   ]
  },
  {
   "cell_type": "markdown",
   "metadata": {},
   "source": [
    "# please see lr and add below"
   ]
  },
  {
   "cell_type": "code",
   "execution_count": 8,
   "metadata": {},
   "outputs": [],
   "source": [
    "optimizer = optim.SGD(net.parameters(), lr=0.001,momentum=0.9, weight_decay=0, nesterov=True)\n",
    "# scheduler = torch.optim.lr_scheduler.ReduceLROnPlateau(optimizer, mode='max',factor=0.9, patience=2, verbose=True)\n",
    "lmbda = lambda epoch: (epoch * 0.4)\n",
    "scheduler = LambdaLR(optimizer, lr_lambda=lmbda)\n",
    "# scheduler = LambdaLR(optimizer, lr_lambda=[lambda1, lambda2])"
   ]
  },
  {
   "cell_type": "code",
   "execution_count": 9,
   "metadata": {
    "scrolled": true
   },
   "outputs": [
    {
     "name": "stderr",
     "output_type": "stream",
     "text": [
      "Epoch=1 Loss=5.299622058868408 Batch_id=195 Training Accuracy=0.42: 100%|████████████| 196/196 [04:29<00:00,  1.37s/it]\n"
     ]
    },
    {
     "name": "stdout",
     "output_type": "stream",
     "text": [
      "\n",
      "Test set: Average loss: 0.0106, Accuracy: 0/10000 (0.00%)\n",
      "\n",
      "Learning rate = 0.35  for epoch:  2\n"
     ]
    },
    {
     "name": "stderr",
     "output_type": "stream",
     "text": [
      "Epoch=2 Loss=5.305327415466309 Batch_id=195 Training Accuracy=0.46: 100%|████████████| 196/196 [04:01<00:00,  1.23s/it]\n"
     ]
    },
    {
     "name": "stdout",
     "output_type": "stream",
     "text": [
      "\n",
      "Test set: Average loss: 0.0105, Accuracy: 0/10000 (0.00%)\n",
      "\n",
      "Learning rate = 0.35  for epoch:  3\n"
     ]
    },
    {
     "name": "stderr",
     "output_type": "stream",
     "text": [
      "Epoch=3 Loss=5.302862644195557 Batch_id=195 Training Accuracy=0.49: 100%|████████████| 196/196 [03:58<00:00,  1.22s/it]\n"
     ]
    },
    {
     "name": "stdout",
     "output_type": "stream",
     "text": [
      "\n",
      "Test set: Average loss: 0.0105, Accuracy: 0/10000 (0.00%)\n",
      "\n",
      "Learning rate = 0.35  for epoch:  4\n"
     ]
    },
    {
     "name": "stderr",
     "output_type": "stream",
     "text": [
      "Epoch=4 Loss=5.29874849319458 Batch_id=195 Training Accuracy=0.43: 100%|█████████████| 196/196 [04:12<00:00,  1.29s/it]\n"
     ]
    },
    {
     "name": "stdout",
     "output_type": "stream",
     "text": [
      "\n",
      "Test set: Average loss: 0.0104, Accuracy: 0/10000 (0.00%)\n",
      "\n",
      "Epoch     3: reducing learning rate of group 0 to 3.1500e-01.\n",
      "Learning rate = 0.315  for epoch:  5\n"
     ]
    },
    {
     "name": "stderr",
     "output_type": "stream",
     "text": [
      "Epoch=5 Loss=5.29624080657959 Batch_id=195 Training Accuracy=0.47: 100%|█████████████| 196/196 [04:27<00:00,  1.36s/it]\n"
     ]
    },
    {
     "name": "stdout",
     "output_type": "stream",
     "text": [
      "\n",
      "Test set: Average loss: 0.0105, Accuracy: 0/10000 (0.00%)\n",
      "\n",
      "Learning rate = 0.315  for epoch:  6\n"
     ]
    },
    {
     "name": "stderr",
     "output_type": "stream",
     "text": [
      "Epoch=6 Loss=5.298217296600342 Batch_id=195 Training Accuracy=0.45: 100%|████████████| 196/196 [04:24<00:00,  1.35s/it]\n"
     ]
    },
    {
     "name": "stdout",
     "output_type": "stream",
     "text": [
      "\n",
      "Test set: Average loss: 0.0106, Accuracy: 0/10000 (0.00%)\n",
      "\n",
      "Learning rate = 0.315  for epoch:  7\n"
     ]
    },
    {
     "name": "stderr",
     "output_type": "stream",
     "text": [
      "Epoch=7 Loss=5.303391456604004 Batch_id=195 Training Accuracy=0.42: 100%|████████████| 196/196 [04:21<00:00,  1.33s/it]\n"
     ]
    },
    {
     "name": "stdout",
     "output_type": "stream",
     "text": [
      "\n",
      "Test set: Average loss: 0.0107, Accuracy: 0/10000 (0.00%)\n",
      "\n",
      "Epoch     6: reducing learning rate of group 0 to 2.8350e-01.\n",
      "Learning rate = 0.28350000000000003  for epoch:  8\n"
     ]
    },
    {
     "name": "stderr",
     "output_type": "stream",
     "text": [
      "Epoch=8 Loss=5.300598621368408 Batch_id=195 Training Accuracy=0.45: 100%|████████████| 196/196 [04:07<00:00,  1.26s/it]\n"
     ]
    },
    {
     "name": "stdout",
     "output_type": "stream",
     "text": [
      "\n",
      "Test set: Average loss: 0.0106, Accuracy: 0/10000 (0.00%)\n",
      "\n",
      "Learning rate = 0.28350000000000003  for epoch:  9\n"
     ]
    },
    {
     "name": "stderr",
     "output_type": "stream",
     "text": [
      "Epoch=9 Loss=5.301366329193115 Batch_id=195 Training Accuracy=0.42: 100%|████████████| 196/196 [04:13<00:00,  1.29s/it]\n"
     ]
    },
    {
     "name": "stdout",
     "output_type": "stream",
     "text": [
      "\n",
      "Test set: Average loss: 0.0106, Accuracy: 0/10000 (0.00%)\n",
      "\n",
      "Learning rate = 0.28350000000000003  for epoch:  10\n"
     ]
    },
    {
     "name": "stderr",
     "output_type": "stream",
     "text": [
      "Epoch=10 Loss=5.2990617752075195 Batch_id=195 Training Accuracy=0.47: 100%|██████████| 196/196 [04:15<00:00,  1.30s/it]\n"
     ]
    },
    {
     "name": "stdout",
     "output_type": "stream",
     "text": [
      "\n",
      "Test set: Average loss: 0.0106, Accuracy: 0/10000 (0.00%)\n",
      "\n",
      "Epoch     9: reducing learning rate of group 0 to 2.5515e-01.\n",
      "Learning rate = 0.25515000000000004  for epoch:  11\n"
     ]
    },
    {
     "name": "stderr",
     "output_type": "stream",
     "text": [
      "Epoch=11 Loss=5.302028179168701 Batch_id=195 Training Accuracy=0.48: 100%|███████████| 196/196 [04:37<00:00,  1.42s/it]\n"
     ]
    },
    {
     "name": "stdout",
     "output_type": "stream",
     "text": [
      "\n",
      "Test set: Average loss: 0.0106, Accuracy: 0/10000 (0.00%)\n",
      "\n",
      "Learning rate = 0.25515000000000004  for epoch:  12\n"
     ]
    },
    {
     "name": "stderr",
     "output_type": "stream",
     "text": [
      "Epoch=12 Loss=5.300408363342285 Batch_id=195 Training Accuracy=0.47: 100%|███████████| 196/196 [04:14<00:00,  1.30s/it]\n"
     ]
    },
    {
     "name": "stdout",
     "output_type": "stream",
     "text": [
      "\n",
      "Test set: Average loss: 0.0105, Accuracy: 0/10000 (0.00%)\n",
      "\n",
      "Learning rate = 0.25515000000000004  for epoch:  13\n"
     ]
    },
    {
     "name": "stderr",
     "output_type": "stream",
     "text": [
      "Epoch=13 Loss=5.298793792724609 Batch_id=195 Training Accuracy=0.43: 100%|███████████| 196/196 [03:46<00:00,  1.16s/it]\n"
     ]
    },
    {
     "name": "stdout",
     "output_type": "stream",
     "text": [
      "\n",
      "Test set: Average loss: 0.0105, Accuracy: 0/10000 (0.00%)\n",
      "\n",
      "Epoch    12: reducing learning rate of group 0 to 2.2964e-01.\n",
      "Learning rate = 0.22963500000000003  for epoch:  14\n"
     ]
    },
    {
     "name": "stderr",
     "output_type": "stream",
     "text": [
      "Epoch=14 Loss=5.301914691925049 Batch_id=195 Training Accuracy=0.44: 100%|███████████| 196/196 [03:43<00:00,  1.14s/it]\n"
     ]
    },
    {
     "name": "stdout",
     "output_type": "stream",
     "text": [
      "\n",
      "Test set: Average loss: 0.0107, Accuracy: 0/10000 (0.00%)\n",
      "\n",
      "Learning rate = 0.22963500000000003  for epoch:  15\n"
     ]
    },
    {
     "name": "stderr",
     "output_type": "stream",
     "text": [
      "Epoch=15 Loss=5.299315929412842 Batch_id=195 Training Accuracy=0.46: 100%|███████████| 196/196 [03:45<00:00,  1.15s/it]\n"
     ]
    },
    {
     "name": "stdout",
     "output_type": "stream",
     "text": [
      "\n",
      "Test set: Average loss: 0.0107, Accuracy: 0/10000 (0.00%)\n",
      "\n",
      "Learning rate = 0.22963500000000003  for epoch:  16\n"
     ]
    },
    {
     "name": "stderr",
     "output_type": "stream",
     "text": [
      "Epoch=16 Loss=5.301296710968018 Batch_id=195 Training Accuracy=0.45: 100%|███████████| 196/196 [03:56<00:00,  1.21s/it]\n"
     ]
    },
    {
     "name": "stdout",
     "output_type": "stream",
     "text": [
      "\n",
      "Test set: Average loss: 0.0106, Accuracy: 0/10000 (0.00%)\n",
      "\n",
      "Epoch    15: reducing learning rate of group 0 to 2.0667e-01.\n",
      "Learning rate = 0.20667150000000004  for epoch:  17\n"
     ]
    },
    {
     "name": "stderr",
     "output_type": "stream",
     "text": [
      "Epoch=17 Loss=5.299290657043457 Batch_id=195 Training Accuracy=0.50: 100%|███████████| 196/196 [04:04<00:00,  1.25s/it]\n"
     ]
    },
    {
     "name": "stdout",
     "output_type": "stream",
     "text": [
      "\n",
      "Test set: Average loss: 0.0105, Accuracy: 0/10000 (0.00%)\n",
      "\n",
      "Learning rate = 0.20667150000000004  for epoch:  18\n"
     ]
    },
    {
     "name": "stderr",
     "output_type": "stream",
     "text": [
      "Epoch=18 Loss=5.301155090332031 Batch_id=195 Training Accuracy=0.43: 100%|███████████| 196/196 [03:55<00:00,  1.20s/it]\n"
     ]
    },
    {
     "name": "stdout",
     "output_type": "stream",
     "text": [
      "\n",
      "Test set: Average loss: 0.0106, Accuracy: 0/10000 (0.00%)\n",
      "\n",
      "Learning rate = 0.20667150000000004  for epoch:  19\n"
     ]
    },
    {
     "name": "stderr",
     "output_type": "stream",
     "text": [
      "Epoch=19 Loss=5.303610324859619 Batch_id=195 Training Accuracy=0.45: 100%|███████████| 196/196 [04:08<00:00,  1.27s/it]\n"
     ]
    },
    {
     "name": "stdout",
     "output_type": "stream",
     "text": [
      "\n",
      "Test set: Average loss: 0.0106, Accuracy: 0/10000 (0.00%)\n",
      "\n",
      "Epoch    18: reducing learning rate of group 0 to 1.8600e-01.\n",
      "Learning rate = 0.18600435000000004  for epoch:  20\n"
     ]
    },
    {
     "name": "stderr",
     "output_type": "stream",
     "text": [
      "Epoch=20 Loss=5.302268981933594 Batch_id=195 Training Accuracy=0.47: 100%|███████████| 196/196 [03:48<00:00,  1.16s/it]\n"
     ]
    },
    {
     "name": "stdout",
     "output_type": "stream",
     "text": [
      "\n",
      "Test set: Average loss: 0.0105, Accuracy: 0/10000 (0.00%)\n",
      "\n",
      "Learning rate = 0.18600435000000004  for epoch:  21\n"
     ]
    },
    {
     "name": "stderr",
     "output_type": "stream",
     "text": [
      "Epoch=21 Loss=5.301290512084961 Batch_id=195 Training Accuracy=0.45: 100%|███████████| 196/196 [03:52<00:00,  1.18s/it]\n"
     ]
    },
    {
     "name": "stdout",
     "output_type": "stream",
     "text": [
      "\n",
      "Test set: Average loss: 0.0106, Accuracy: 0/10000 (0.00%)\n",
      "\n",
      "Learning rate = 0.18600435000000004  for epoch:  22\n"
     ]
    },
    {
     "name": "stderr",
     "output_type": "stream",
     "text": [
      "Epoch=22 Loss=5.298661708831787 Batch_id=195 Training Accuracy=0.42: 100%|███████████| 196/196 [04:10<00:00,  1.28s/it]\n"
     ]
    },
    {
     "name": "stdout",
     "output_type": "stream",
     "text": [
      "\n",
      "Test set: Average loss: 0.0106, Accuracy: 0/10000 (0.00%)\n",
      "\n",
      "Epoch    21: reducing learning rate of group 0 to 1.6740e-01.\n",
      "Learning rate = 0.16740391500000004  for epoch:  23\n"
     ]
    },
    {
     "name": "stderr",
     "output_type": "stream",
     "text": [
      "Epoch=23 Loss=5.302613735198975 Batch_id=195 Training Accuracy=0.42: 100%|███████████| 196/196 [03:54<00:00,  1.20s/it]\n"
     ]
    },
    {
     "name": "stdout",
     "output_type": "stream",
     "text": [
      "\n",
      "Test set: Average loss: 0.0106, Accuracy: 0/10000 (0.00%)\n",
      "\n",
      "Learning rate = 0.16740391500000004  for epoch:  24\n"
     ]
    },
    {
     "name": "stderr",
     "output_type": "stream",
     "text": [
      "Epoch=24 Loss=5.301461696624756 Batch_id=195 Training Accuracy=0.44: 100%|███████████| 196/196 [03:39<00:00,  1.12s/it]\n"
     ]
    },
    {
     "name": "stdout",
     "output_type": "stream",
     "text": [
      "\n",
      "Test set: Average loss: 0.0106, Accuracy: 0/10000 (0.00%)\n",
      "\n",
      "Learning rate = 0.16740391500000004  for epoch:  25\n"
     ]
    },
    {
     "name": "stderr",
     "output_type": "stream",
     "text": [
      "Epoch=25 Loss=5.300509452819824 Batch_id=195 Training Accuracy=0.48: 100%|███████████| 196/196 [03:38<00:00,  1.11s/it]\n"
     ]
    },
    {
     "name": "stdout",
     "output_type": "stream",
     "text": [
      "\n",
      "Test set: Average loss: 0.0106, Accuracy: 0/10000 (0.00%)\n",
      "\n",
      "Epoch    24: reducing learning rate of group 0 to 1.5066e-01.\n",
      "Learning rate = 0.15066352350000004  for epoch:  26\n"
     ]
    }
   ],
   "source": [
    "losses = []\n",
    "accuracy = []\n",
    "lr_data = []\n",
    "EPOCH =25\n",
    "import time\n",
    "assert torch.cuda.is_available()\n",
    "try:\n",
    "    for epoch in range(1, EPOCH + 1):\n",
    "        train(net, device, optimizer,criterion, epoch,trainloader)\n",
    "        test(net, device,criterion,testloader)\n",
    "        scheduler.step()\n",
    "        for param_groups in optimizer.param_groups:\n",
    "            print(\"Learning rate =\", param_groups['lr'], \" for epoch: \", epoch + 1)  # print LR for different epochs\n",
    "            lr_data.append(param_groups['lr'])\n",
    "        \n",
    "except KeyboardInterrupt:\n",
    "    print(\"Interrupted. Releasing resources...\")\n",
    "    \n",
    "finally:\n",
    "    # this is only required for old GPU\n",
    "    torch.cuda.empty_cache()"
   ]
  },
  {
   "cell_type": "code",
   "execution_count": null,
   "metadata": {},
   "outputs": [],
   "source": [
    "# torch.save(net.state_dict(), 'C:/Users/gajanana_ganjigatti/Documents/Gaju_data/Quest/eva4/S9/saved/cifat10.pth')"
   ]
  },
  {
   "cell_type": "code",
   "execution_count": null,
   "metadata": {},
   "outputs": [],
   "source": [
    "losses = []\n",
    "accuracy = []\n",
    "correct_samples = []\n",
    "incorrect_samples = []\n",
    "sample_count=25\n",
    "lr_data = []\n",
    "EPOCH =50\n",
    "last_epoch = False\n",
    "for epoch in range(1, EPOCH + 1):\n",
    "    print(f'Epoch {epoch}:')\n",
    "    if epoch == EPOCH:\n",
    "        last_epoch = True\n",
    "    train(net, device, optimizer,criterion, epoch,trainloader)\n",
    "    val_loss=test(net,testloader, device,criterion, losses,accuracy,correct_samples, incorrect_samples, sample_count, last_epoch=last_epoch)\n",
    "    scheduler.step(val_loss)\n",
    "    for param_groups in optimizer.param_groups:\n",
    "        print(\"Learning rate =\", param_groups['lr'], \" for epoch: \", epoch + 1)  # print LR for different epochs\n",
    "        lr_data.append(param_groups['lr'])"
   ]
  },
  {
   "cell_type": "code",
   "execution_count": null,
   "metadata": {},
   "outputs": [],
   "source": [
    "# from grad_cam import *"
   ]
  },
  {
   "cell_type": "code",
   "execution_count": null,
   "metadata": {
    "scrolled": true
   },
   "outputs": [],
   "source": [
    "# grid_image=grad_cam()"
   ]
  },
  {
   "cell_type": "markdown",
   "metadata": {},
   "source": [
    "### Group of dog image"
   ]
  },
  {
   "cell_type": "code",
   "execution_count": null,
   "metadata": {},
   "outputs": [],
   "source": [
    "# transforms.ToPILImage()(grid_image)"
   ]
  }
 ],
 "metadata": {
  "accelerator": "GPU",
  "colab": {
   "collapsed_sections": [],
   "name": "S7_test_1.ipynb",
   "provenance": []
  },
  "kernelspec": {
   "display_name": "Python 3",
   "language": "python",
   "name": "python3"
  },
  "language_info": {
   "codemirror_mode": {
    "name": "ipython",
    "version": 3
   },
   "file_extension": ".py",
   "mimetype": "text/x-python",
   "name": "python",
   "nbconvert_exporter": "python",
   "pygments_lexer": "ipython3",
   "version": "3.7.4"
  }
 },
 "nbformat": 4,
 "nbformat_minor": 1
}
