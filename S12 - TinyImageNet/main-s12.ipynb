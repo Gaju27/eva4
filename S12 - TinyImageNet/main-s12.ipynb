{
 "cells": [
  {
   "cell_type": "markdown",
   "metadata": {
    "colab_type": "text",
    "id": "fPogbueepoCh"
   },
   "source": [
    "Training an image classifier\n",
    "----------------------------\n",
    "\n",
    "Import all necessary packages from all.py file"
   ]
  },
  {
   "cell_type": "code",
   "execution_count": 1,
   "metadata": {
    "colab": {},
    "colab_type": "code",
    "id": "-yVpodAMpoCi",
    "scrolled": true
   },
   "outputs": [
    {
     "name": "stderr",
     "output_type": "stream",
     "text": [
      "C:\\ProgramData\\Anaconda3\\lib\\site-packages\\tqdm\\autonotebook.py:17: TqdmExperimentalWarning: Using `tqdm.autonotebook.tqdm` in notebook mode. Use `tqdm.tqdm` instead to force console mode (e.g. in jupyter console)\n",
      "  \" (e.g. in jupyter console)\", TqdmExperimentalWarning)\n",
      "WARNING:torch_lr_finder.lr_finder:To enable mixed precision training, please install `apex`. Or you can re-install this package by the following command:\n",
      "  pip install torch-lr-finder -v --global-option=\"amp\"\n"
     ]
    }
   ],
   "source": [
    "from all import *"
   ]
  },
  {
   "cell_type": "markdown",
   "metadata": {},
   "source": [
    "### Network Summary"
   ]
  },
  {
   "cell_type": "code",
   "execution_count": 2,
   "metadata": {
    "scrolled": false
   },
   "outputs": [
    {
     "name": "stdout",
     "output_type": "stream",
     "text": [
      "cuda\n"
     ]
    }
   ],
   "source": [
    "device = has_cuda()\n",
    "print(device)\n",
    "# net = ResNet18().to(device)\n",
    "net = torchvision.models.resnet18(pretrained=False, num_classes=200).to(device)"
   ]
  },
  {
   "cell_type": "markdown",
   "metadata": {
    "colab_type": "text",
    "id": "eDdwPBl8poDF"
   },
   "source": [
    "### Load train and test data for CIFAR10 with albumentation\n"
   ]
  },
  {
   "cell_type": "code",
   "execution_count": 3,
   "metadata": {
    "scrolled": true
   },
   "outputs": [],
   "source": [
    "dataloader = tinyImgNet_dataloader\n",
    "trainloader = dataloader(split='train')\n",
    "testloader = dataloader( split='val')\n",
    "criterion = nn.CrossEntropyLoss()\n",
    "# optimizer = optim.SGD(net.parameters(), lr=0.001, momentum=0.9)"
   ]
  },
  {
   "cell_type": "markdown",
   "metadata": {},
   "source": [
    "### Achieve 87 and above accuracy"
   ]
  },
  {
   "cell_type": "code",
   "execution_count": 4,
   "metadata": {},
   "outputs": [],
   "source": [
    "EPOCH =25\n",
    "optimizer = optim.SGD(net.parameters(), lr=0.01,momentum=0.9, weight_decay=0, nesterov=True)\n",
    "# scheduler = torch.optim.lr_scheduler.ReduceLROnPlateau(optimizer, mode='max',factor=0.9, patience=2, verbose=True)\n",
    "lmbda = lambda EPOCH: (EPOCH * 0.4)\n",
    "scheduler = LambdaLR(optimizer, lr_lambda=[lmbda])\n",
    "# scheduler = LambdaLR(optimizer, lr_lambda=[lambda1, lambda2])"
   ]
  },
  {
   "cell_type": "code",
   "execution_count": 5,
   "metadata": {
    "scrolled": true
   },
   "outputs": [
    {
     "name": "stderr",
     "output_type": "stream",
     "text": [
      "Epoch=1 Loss=5.424953937530518 Batch_id=195 Training Accuracy=0.48: 100%|████████████| 196/196 [03:44<00:00,  1.15s/it]\n"
     ]
    },
    {
     "name": "stdout",
     "output_type": "stream",
     "text": [
      "\n",
      "Test set: Average loss: 0.0112, Accuracy: 0/10000 (0.00%)\n",
      "\n",
      "Learning rate = 0.004  for epoch:  2\n"
     ]
    },
    {
     "name": "stderr",
     "output_type": "stream",
     "text": [
      "Epoch=2 Loss=4.931553363800049 Batch_id=195 Training Accuracy=2.36: 100%|████████████| 196/196 [03:57<00:00,  1.21s/it]\n"
     ]
    },
    {
     "name": "stdout",
     "output_type": "stream",
     "text": [
      "\n",
      "Test set: Average loss: 0.0115, Accuracy: 30/10000 (0.30%)\n",
      "\n",
      "Learning rate = 0.008  for epoch:  3\n"
     ]
    },
    {
     "name": "stderr",
     "output_type": "stream",
     "text": [
      "Epoch=3 Loss=4.1556501388549805 Batch_id=195 Training Accuracy=7.97: 100%|███████████| 196/196 [04:04<00:00,  1.25s/it]\n"
     ]
    },
    {
     "name": "stdout",
     "output_type": "stream",
     "text": [
      "\n",
      "Test set: Average loss: 0.0135, Accuracy: 122/10000 (1.22%)\n",
      "\n",
      "Learning rate = 0.012000000000000002  for epoch:  4\n"
     ]
    },
    {
     "name": "stderr",
     "output_type": "stream",
     "text": [
      "Epoch=4 Loss=3.7337355613708496 Batch_id=195 Training Accuracy=14.99: 100%|██████████| 196/196 [03:49<00:00,  1.17s/it]\n"
     ]
    },
    {
     "name": "stdout",
     "output_type": "stream",
     "text": [
      "\n",
      "Test set: Average loss: 0.0174, Accuracy: 20/10000 (0.20%)\n",
      "\n",
      "Learning rate = 0.016  for epoch:  5\n"
     ]
    },
    {
     "name": "stderr",
     "output_type": "stream",
     "text": [
      "Epoch=5 Loss=3.5995407104492188 Batch_id=195 Training Accuracy=21.31: 100%|██████████| 196/196 [03:49<00:00,  1.17s/it]\n"
     ]
    },
    {
     "name": "stdout",
     "output_type": "stream",
     "text": [
      "\n",
      "Test set: Average loss: 0.0158, Accuracy: 67/10000 (0.67%)\n",
      "\n",
      "Learning rate = 0.02  for epoch:  6\n"
     ]
    },
    {
     "name": "stderr",
     "output_type": "stream",
     "text": [
      "Epoch=6 Loss=3.1433119773864746 Batch_id=195 Training Accuracy=26.32: 100%|██████████| 196/196 [03:57<00:00,  1.21s/it]\n"
     ]
    },
    {
     "name": "stdout",
     "output_type": "stream",
     "text": [
      "\n",
      "Test set: Average loss: 0.0191, Accuracy: 25/10000 (0.25%)\n",
      "\n",
      "Learning rate = 0.024000000000000004  for epoch:  7\n"
     ]
    },
    {
     "name": "stderr",
     "output_type": "stream",
     "text": [
      "Epoch=7 Loss=2.737125873565674 Batch_id=195 Training Accuracy=30.44: 100%|███████████| 196/196 [03:51<00:00,  1.18s/it]\n"
     ]
    },
    {
     "name": "stdout",
     "output_type": "stream",
     "text": [
      "\n",
      "Test set: Average loss: 0.0185, Accuracy: 76/10000 (0.76%)\n",
      "\n",
      "Learning rate = 0.028000000000000004  for epoch:  8\n"
     ]
    },
    {
     "name": "stderr",
     "output_type": "stream",
     "text": [
      "Epoch=8 Loss=2.7559430599212646 Batch_id=195 Training Accuracy=34.40: 100%|██████████| 196/196 [03:52<00:00,  1.19s/it]\n"
     ]
    },
    {
     "name": "stdout",
     "output_type": "stream",
     "text": [
      "\n",
      "Test set: Average loss: 0.0181, Accuracy: 105/10000 (1.05%)\n",
      "\n",
      "Learning rate = 0.032  for epoch:  9\n"
     ]
    },
    {
     "name": "stderr",
     "output_type": "stream",
     "text": [
      "Epoch=9 Loss=2.738436222076416 Batch_id=195 Training Accuracy=37.66: 100%|███████████| 196/196 [03:42<00:00,  1.13s/it]\n"
     ]
    },
    {
     "name": "stdout",
     "output_type": "stream",
     "text": [
      "\n",
      "Test set: Average loss: 0.0192, Accuracy: 113/10000 (1.13%)\n",
      "\n",
      "Learning rate = 0.036000000000000004  for epoch:  10\n"
     ]
    },
    {
     "name": "stderr",
     "output_type": "stream",
     "text": [
      "Epoch=10 Loss=2.3776018619537354 Batch_id=195 Training Accuracy=40.98: 100%|█████████| 196/196 [03:36<00:00,  1.10s/it]\n"
     ]
    },
    {
     "name": "stdout",
     "output_type": "stream",
     "text": [
      "\n",
      "Test set: Average loss: 0.0201, Accuracy: 48/10000 (0.48%)\n",
      "\n",
      "Learning rate = 0.04  for epoch:  11\n"
     ]
    },
    {
     "name": "stderr",
     "output_type": "stream",
     "text": [
      "Epoch=11 Loss=2.617098808288574 Batch_id=195 Training Accuracy=44.25: 100%|██████████| 196/196 [03:36<00:00,  1.11s/it]\n"
     ]
    },
    {
     "name": "stdout",
     "output_type": "stream",
     "text": [
      "\n",
      "Test set: Average loss: 0.0212, Accuracy: 34/10000 (0.34%)\n",
      "\n",
      "Learning rate = 0.044000000000000004  for epoch:  12\n"
     ]
    },
    {
     "name": "stderr",
     "output_type": "stream",
     "text": [
      "Epoch=12 Loss=2.2103993892669678 Batch_id=195 Training Accuracy=47.77: 100%|█████████| 196/196 [03:37<00:00,  1.11s/it]\n"
     ]
    },
    {
     "name": "stdout",
     "output_type": "stream",
     "text": [
      "\n",
      "Test set: Average loss: 0.0190, Accuracy: 88/10000 (0.88%)\n",
      "\n",
      "Learning rate = 0.04800000000000001  for epoch:  13\n"
     ]
    },
    {
     "name": "stderr",
     "output_type": "stream",
     "text": [
      "Epoch=13 Loss=2.0233571529388428 Batch_id=195 Training Accuracy=51.28: 100%|█████████| 196/196 [03:36<00:00,  1.11s/it]\n"
     ]
    },
    {
     "name": "stdout",
     "output_type": "stream",
     "text": [
      "\n",
      "Test set: Average loss: 0.0214, Accuracy: 61/10000 (0.61%)\n",
      "\n",
      "Learning rate = 0.052000000000000005  for epoch:  14\n"
     ]
    },
    {
     "name": "stderr",
     "output_type": "stream",
     "text": [
      "Epoch=14 Loss=2.0861904621124268 Batch_id=195 Training Accuracy=54.54: 100%|█████████| 196/196 [03:39<00:00,  1.12s/it]\n"
     ]
    },
    {
     "name": "stdout",
     "output_type": "stream",
     "text": [
      "\n",
      "Test set: Average loss: 0.0227, Accuracy: 76/10000 (0.76%)\n",
      "\n",
      "Learning rate = 0.05600000000000001  for epoch:  15\n"
     ]
    },
    {
     "name": "stderr",
     "output_type": "stream",
     "text": [
      "Epoch=15 Loss=1.944075584411621 Batch_id=195 Training Accuracy=58.00: 100%|██████████| 196/196 [03:32<00:00,  1.08s/it]\n"
     ]
    },
    {
     "name": "stdout",
     "output_type": "stream",
     "text": [
      "\n",
      "Test set: Average loss: 0.0229, Accuracy: 77/10000 (0.77%)\n",
      "\n",
      "Learning rate = 0.06  for epoch:  16\n"
     ]
    },
    {
     "name": "stderr",
     "output_type": "stream",
     "text": [
      "Epoch=16 Loss=1.6581939458847046 Batch_id=195 Training Accuracy=61.43: 100%|█████████| 196/196 [03:39<00:00,  1.12s/it]\n"
     ]
    },
    {
     "name": "stdout",
     "output_type": "stream",
     "text": [
      "\n",
      "Test set: Average loss: 0.0250, Accuracy: 42/10000 (0.42%)\n",
      "\n",
      "Learning rate = 0.064  for epoch:  17\n"
     ]
    },
    {
     "name": "stderr",
     "output_type": "stream",
     "text": [
      "Epoch=17 Loss=1.3897628784179688 Batch_id=195 Training Accuracy=65.02: 100%|█████████| 196/196 [03:43<00:00,  1.14s/it]\n"
     ]
    },
    {
     "name": "stdout",
     "output_type": "stream",
     "text": [
      "\n",
      "Test set: Average loss: 0.0250, Accuracy: 42/10000 (0.42%)\n",
      "\n",
      "Learning rate = 0.068  for epoch:  18\n"
     ]
    },
    {
     "name": "stderr",
     "output_type": "stream",
     "text": [
      "Epoch=18 Loss=1.4693844318389893 Batch_id=195 Training Accuracy=68.10: 100%|█████████| 196/196 [03:34<00:00,  1.10s/it]\n"
     ]
    },
    {
     "name": "stdout",
     "output_type": "stream",
     "text": [
      "\n",
      "Test set: Average loss: 0.0303, Accuracy: 31/10000 (0.31%)\n",
      "\n",
      "Learning rate = 0.07200000000000001  for epoch:  19\n"
     ]
    },
    {
     "name": "stderr",
     "output_type": "stream",
     "text": [
      "Epoch=19 Loss=1.2663543224334717 Batch_id=195 Training Accuracy=71.36: 100%|█████████| 196/196 [03:30<00:00,  1.08s/it]\n"
     ]
    },
    {
     "name": "stdout",
     "output_type": "stream",
     "text": [
      "\n",
      "Test set: Average loss: 0.0281, Accuracy: 37/10000 (0.37%)\n",
      "\n",
      "Learning rate = 0.07600000000000001  for epoch:  20\n"
     ]
    },
    {
     "name": "stderr",
     "output_type": "stream",
     "text": [
      "Epoch=20 Loss=1.2255395650863647 Batch_id=195 Training Accuracy=74.41: 100%|█████████| 196/196 [03:40<00:00,  1.13s/it]\n"
     ]
    },
    {
     "name": "stdout",
     "output_type": "stream",
     "text": [
      "\n",
      "Test set: Average loss: 0.0266, Accuracy: 45/10000 (0.45%)\n",
      "\n",
      "Learning rate = 0.08  for epoch:  21\n"
     ]
    },
    {
     "name": "stderr",
     "output_type": "stream",
     "text": [
      "Epoch=21 Loss=1.0800774097442627 Batch_id=195 Training Accuracy=77.09: 100%|█████████| 196/196 [03:41<00:00,  1.13s/it]\n"
     ]
    },
    {
     "name": "stdout",
     "output_type": "stream",
     "text": [
      "\n",
      "Test set: Average loss: 0.0286, Accuracy: 37/10000 (0.37%)\n",
      "\n",
      "Learning rate = 0.084  for epoch:  22\n"
     ]
    },
    {
     "name": "stderr",
     "output_type": "stream",
     "text": [
      "Epoch=22 Loss=1.0816510915756226 Batch_id=195 Training Accuracy=79.44: 100%|█████████| 196/196 [03:38<00:00,  1.11s/it]\n"
     ]
    },
    {
     "name": "stdout",
     "output_type": "stream",
     "text": [
      "\n",
      "Test set: Average loss: 0.0292, Accuracy: 61/10000 (0.61%)\n",
      "\n",
      "Learning rate = 0.08800000000000001  for epoch:  23\n"
     ]
    },
    {
     "name": "stderr",
     "output_type": "stream",
     "text": [
      "Epoch=23 Loss=1.0036888122558594 Batch_id=195 Training Accuracy=81.67: 100%|█████████| 196/196 [05:22<00:00,  1.64s/it]\n"
     ]
    },
    {
     "name": "stdout",
     "output_type": "stream",
     "text": [
      "\n",
      "Test set: Average loss: 0.0342, Accuracy: 42/10000 (0.42%)\n",
      "\n",
      "Learning rate = 0.09200000000000001  for epoch:  24\n"
     ]
    },
    {
     "name": "stderr",
     "output_type": "stream",
     "text": [
      "Epoch=24 Loss=0.7016509771347046 Batch_id=195 Training Accuracy=83.41: 100%|█████████| 196/196 [05:08<00:00,  1.57s/it]\n"
     ]
    },
    {
     "name": "stdout",
     "output_type": "stream",
     "text": [
      "\n",
      "Test set: Average loss: 0.0309, Accuracy: 56/10000 (0.56%)\n",
      "\n",
      "Learning rate = 0.09600000000000002  for epoch:  25\n"
     ]
    },
    {
     "name": "stderr",
     "output_type": "stream",
     "text": [
      "Epoch=25 Loss=0.7056372761726379 Batch_id=195 Training Accuracy=85.03: 100%|█████████| 196/196 [05:05<00:00,  1.56s/it]\n"
     ]
    },
    {
     "name": "stdout",
     "output_type": "stream",
     "text": [
      "\n",
      "Test set: Average loss: 0.0310, Accuracy: 59/10000 (0.59%)\n",
      "\n",
      "Learning rate = 0.1  for epoch:  26\n"
     ]
    }
   ],
   "source": [
    "losses = []\n",
    "accuracy = []\n",
    "lr_data = []\n",
    "\n",
    "import time\n",
    "assert torch.cuda.is_available()\n",
    "try:\n",
    "    for epoch in range(1, EPOCH + 1):\n",
    "        train(net, device, optimizer,criterion, epoch,trainloader)\n",
    "        test(net, device,criterion,testloader)\n",
    "        scheduler.step()\n",
    "        for param_groups in optimizer.param_groups:\n",
    "            print(\"Learning rate =\", param_groups['lr'], \" for epoch: \", epoch + 1)  # print LR for different epochs\n",
    "            lr_data.append(param_groups['lr'])\n",
    "        \n",
    "except KeyboardInterrupt:\n",
    "    print(\"Interrupted. Releasing resources...\")\n",
    "    \n",
    "finally:\n",
    "    # this is only required for old GPU\n",
    "    torch.cuda.empty_cache()"
   ]
  }
 ],
 "metadata": {
  "accelerator": "GPU",
  "colab": {
   "collapsed_sections": [],
   "name": "S7_test_1.ipynb",
   "provenance": []
  },
  "kernelspec": {
   "display_name": "Python 3",
   "language": "python",
   "name": "python3"
  },
  "language_info": {
   "codemirror_mode": {
    "name": "ipython",
    "version": 3
   },
   "file_extension": ".py",
   "mimetype": "text/x-python",
   "name": "python",
   "nbconvert_exporter": "python",
   "pygments_lexer": "ipython3",
   "version": "3.7.4"
  }
 },
 "nbformat": 4,
 "nbformat_minor": 1
}
