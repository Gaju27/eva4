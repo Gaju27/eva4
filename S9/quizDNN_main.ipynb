{
 "cells": [
  {
   "cell_type": "code",
   "execution_count": 1,
   "metadata": {},
   "outputs": [],
   "source": [
    "from datetime import datetime"
   ]
  },
  {
   "cell_type": "code",
   "execution_count": 2,
   "metadata": {},
   "outputs": [
    {
     "name": "stdout",
     "output_type": "stream",
     "text": [
      "Current Date/Time:  2020-03-17 16:30:32.192877\n"
     ]
    }
   ],
   "source": [
    "print(\"Current Date/Time: \", datetime.now())"
   ]
  },
  {
   "cell_type": "code",
   "execution_count": 1,
   "metadata": {},
   "outputs": [],
   "source": [
    "import torch\n",
    "import torchvision\n",
    "import torchvision.transforms as transforms"
   ]
  },
  {
   "cell_type": "code",
   "execution_count": 2,
   "metadata": {},
   "outputs": [
    {
     "name": "stdout",
     "output_type": "stream",
     "text": [
      "CUDA Available? cuda:0\n",
      "Files already downloaded and verified\n",
      "Files already downloaded and verified\n"
     ]
    }
   ],
   "source": [
    "SEED = 1\n",
    "\n",
    "# CUDA?\n",
    "# cuda = torch.cuda.is_available()\n",
    "device = torch.device(\"cuda:0\" if torch.cuda.is_available() else \"cpu\")\n",
    "print(\"CUDA Available?\", device)\n",
    "\n",
    "# For reproducibility\n",
    "torch.manual_seed(SEED)\n",
    "\n",
    "if device:\n",
    "    torch.cuda.manual_seed(SEED)\n",
    "\n",
    "# dataloader arguments - something you'll fetch these from cmdprmt\n",
    "dataloader_args = dict(shuffle=True, batch_size=128, num_workers=2, pin_memory=True) if device else dict(shuffle=True, batch_size=64)\n",
    "\n",
    "transform = transforms.Compose(\n",
    "    [transforms.ToTensor(),\n",
    "     transforms.Normalize((0.5, 0.5, 0.5), (0.5, 0.5, 0.5))])\n",
    "\n",
    "trainset = torchvision.datasets.CIFAR10(root='./data', train=True, download=True, transform=transform)\n",
    "\n",
    "trainloader = torch.utils.data.DataLoader(trainset,** dataloader_args)\n",
    "\n",
    "testset = torchvision.datasets.CIFAR10(root='./data', train=False, download=True, transform=transform)\n",
    "\n",
    "testloader = torch.utils.data.DataLoader(testset, **dataloader_args)\n",
    "\n",
    "classes = ('plane', 'car', 'bird', 'cat',\n",
    "           'deer', 'dog', 'frog', 'horse', 'ship', 'truck')"
   ]
  },
  {
   "cell_type": "code",
   "execution_count": 3,
   "metadata": {},
   "outputs": [],
   "source": [
    "import torch.nn as nn\n",
    "import torch.nn.functional as F\n",
    "\n",
    "\n",
    "class Net(torch.nn.Module):\n",
    "    def __init__(self):\n",
    "        super(Net, self).__init__()\n",
    "        \n",
    "        self.con1=nn.Sequential(\n",
    "            nn.Conv2d(in_channels=3, out_channels=16, kernel_size=3, stride=1, padding=0), # input: 3x3 output: 32\tRec.field: 1\tJumpOut: 1\n",
    "            nn.ReLU(),\n",
    "            nn.BatchNorm2d(16), \n",
    "         )\n",
    "        \n",
    "        self.con2=nn.Sequential(\n",
    "            nn.Conv2d(in_channels=16, out_channels=32, kernel_size=3, stride=1, padding=1), # input: 32  output: 32\tRec.field: 3\tJumpOut: 1\n",
    "            nn.ReLU(),\n",
    "            nn.BatchNorm2d(32), \n",
    "         )\n",
    "        \n",
    "        self.con3=nn.Sequential(\n",
    "            nn.Conv2d(in_channels=32, out_channels=64, kernel_size=3, stride=1, padding=0), # input: 32  output: 30\tRec.field: 5\tJumpOut: 1\n",
    "            nn.ReLU(),\n",
    "            nn.BatchNorm2d(64), \n",
    "         )\n",
    "         \n",
    "        self.pool1=nn.MaxPool2d(2,2) # input: 30  output: 15\tRec.field: 6\tJumpOut: 1\n",
    "         \n",
    "        self.con4=nn.Sequential(\n",
    "            nn.Conv2d(in_channels=64, out_channels=128, kernel_size=3, stride=1, padding=1), # input: 15  output: 15\tRec.field: 10\tJumpOut: 2\n",
    "            nn.ReLU(),\n",
    "            nn.BatchNorm2d(128), \n",
    "         )\n",
    "         \n",
    "        self.con5=nn.Sequential(\n",
    "            nn.Conv2d(in_channels=128, out_channels=128, kernel_size=3, stride=1, padding=1), # input: 15  output: 15\tRec.field: 14\tJumpOut: 2\n",
    "            nn.ReLU(),\n",
    "            nn.BatchNorm2d(128), \n",
    "         )\n",
    "         \n",
    "        self.con6=nn.Sequential(\n",
    "            nn.Conv2d(in_channels=128, out_channels=64, kernel_size=3, stride=1, padding=1), # input: 15  output: 15\tRec.field: 18\tJumpOut: 2\n",
    "            nn.ReLU(),\n",
    "            nn.BatchNorm2d(64), \n",
    "         )\n",
    "         \n",
    "        self.pool2=nn.MaxPool2d(2,2) # input: 7   output: 7\tRec.field: 20\tJumpOut: 2\n",
    "        \n",
    "        self.con7=nn.Sequential(\n",
    "            nn.Conv2d(in_channels=64, out_channels=32, kernel_size=3, stride=1, padding=1), # input: 7   output: 7\tRec.field: 28\tJumpOut: 4\n",
    "            nn.ReLU(),\n",
    "            nn.BatchNorm2d(32), \n",
    "         )\n",
    "         \n",
    "        self.con8=nn.Sequential(\n",
    "            nn.Conv2d(in_channels=32, out_channels=16, kernel_size=3, stride=1, padding=1), # input: 7   output: 7\tRec.field: 36\tJumpOut: 4\n",
    "            nn.ReLU(),\n",
    "            nn.BatchNorm2d(16), \n",
    "         )\n",
    "         \n",
    "        self.con9=nn.Sequential(\n",
    "            nn.Conv2d(in_channels=16, out_channels=10, kernel_size=3, stride=1, padding=1), # input: 7   output: 7\tRec.field: 44\tJumpOut: 4\n",
    "         )\n",
    "\n",
    "        self.avg_pool=nn.AvgPool2d(kernel_size=7)\n",
    "        \n",
    "        \n",
    "\n",
    "    def forward(self, x):\n",
    "        x = self.con1(x)\n",
    "        x = self.con2(x)\n",
    "        x = self.con3(x)\n",
    "        x = self.pool1(x)\n",
    "        x = self.con4(x)\n",
    "        x = self.con5(x)\n",
    "        x = self.con6(x)\n",
    "        x = self.pool2(x)\n",
    "        x = self.con7(x)\n",
    "        x = self.con8(x)\n",
    "        x = self.con9(x)\n",
    "        x = self.avg_pool(x)\n",
    "        x = x.view(-1, 10)\n",
    "        return x"
   ]
  },
  {
   "cell_type": "code",
   "execution_count": 4,
   "metadata": {},
   "outputs": [
    {
     "name": "stdout",
     "output_type": "stream",
     "text": [
      "Requirement already satisfied: torchsummary in c:\\programdata\\anaconda3\\lib\\site-packages (1.5.1)\n",
      "cuda\n",
      "----------------------------------------------------------------\n",
      "        Layer (type)               Output Shape         Param #\n",
      "================================================================\n",
      "            Conv2d-1           [-1, 16, 30, 30]             448\n",
      "              ReLU-2           [-1, 16, 30, 30]               0\n",
      "       BatchNorm2d-3           [-1, 16, 30, 30]              32\n",
      "            Conv2d-4           [-1, 32, 30, 30]           4,640\n",
      "              ReLU-5           [-1, 32, 30, 30]               0\n",
      "       BatchNorm2d-6           [-1, 32, 30, 30]              64\n",
      "            Conv2d-7           [-1, 64, 28, 28]          18,496\n",
      "              ReLU-8           [-1, 64, 28, 28]               0\n",
      "       BatchNorm2d-9           [-1, 64, 28, 28]             128\n",
      "        MaxPool2d-10           [-1, 64, 14, 14]               0\n",
      "           Conv2d-11          [-1, 128, 14, 14]          73,856\n",
      "             ReLU-12          [-1, 128, 14, 14]               0\n",
      "      BatchNorm2d-13          [-1, 128, 14, 14]             256\n",
      "           Conv2d-14          [-1, 128, 14, 14]         147,584\n",
      "             ReLU-15          [-1, 128, 14, 14]               0\n",
      "      BatchNorm2d-16          [-1, 128, 14, 14]             256\n",
      "           Conv2d-17           [-1, 64, 14, 14]          73,792\n",
      "             ReLU-18           [-1, 64, 14, 14]               0\n",
      "      BatchNorm2d-19           [-1, 64, 14, 14]             128\n",
      "        MaxPool2d-20             [-1, 64, 7, 7]               0\n",
      "           Conv2d-21             [-1, 32, 7, 7]          18,464\n",
      "             ReLU-22             [-1, 32, 7, 7]               0\n",
      "      BatchNorm2d-23             [-1, 32, 7, 7]              64\n",
      "           Conv2d-24             [-1, 16, 7, 7]           4,624\n",
      "             ReLU-25             [-1, 16, 7, 7]               0\n",
      "      BatchNorm2d-26             [-1, 16, 7, 7]              32\n",
      "           Conv2d-27             [-1, 10, 7, 7]           1,450\n",
      "        AvgPool2d-28             [-1, 10, 1, 1]               0\n",
      "================================================================\n",
      "Total params: 344,314\n",
      "Trainable params: 344,314\n",
      "Non-trainable params: 0\n",
      "----------------------------------------------------------------\n",
      "Input size (MB): 0.01\n",
      "Forward/backward pass size (MB): 3.75\n",
      "Params size (MB): 1.31\n",
      "Estimated Total Size (MB): 5.08\n",
      "----------------------------------------------------------------\n"
     ]
    }
   ],
   "source": [
    "!pip install torchsummary\n",
    "from torchsummary import summary\n",
    "use_cuda = torch.cuda.is_available()\n",
    "device = torch.device(\"cuda\" if use_cuda else \"cpu\")\n",
    "print(device)\n",
    "net = Net().to(device)\n",
    "summary(net, input_size=(3, 32, 32))"
   ]
  },
  {
   "cell_type": "code",
   "execution_count": 5,
   "metadata": {},
   "outputs": [],
   "source": [
    "import torch.optim as optim\n",
    "\n",
    "criterion = nn.CrossEntropyLoss()\n",
    "optimizer = optim.SGD(net.parameters(), lr=0.001, momentum=0.9, weight_decay=1e-5)"
   ]
  },
  {
   "cell_type": "code",
   "execution_count": 6,
   "metadata": {},
   "outputs": [],
   "source": [
    "from tqdm import tqdm\n",
    "\n",
    "train_losses = []\n",
    "test_losses = []\n",
    "train_acc = []\n",
    "test_acc = []\n",
    "\n",
    "\n",
    "def train(net, device, optimizer,criterion, epoch,trainloader):\n",
    "  #trainloader = dataloader_cifar10(root='./data',, split='train', batch_size=args.batch_size)\n",
    "  net.train()\n",
    "  pbar = tqdm(trainloader)\n",
    "  correct = 0\n",
    "  processed = 0\n",
    "  for batch_idx, (input, labels) in enumerate(pbar):\n",
    "    # get samples\n",
    "    input, labels = input.to(device), labels.to(device)\n",
    "\n",
    "    # Init\n",
    "    optimizer.zero_grad()\n",
    "    # In PyTorch, we need to set the gradients to zero before starting to do backpropragation because PyTorch accumulates the gradients on subsequent backward passes. \n",
    "    # Because of this, when you start your training loop, ideally you should zero out the gradients so that you do the parameter update correctly.\n",
    "\n",
    "    # Predict\n",
    "    outputs = net(input)\n",
    "\n",
    "    # Calculate loss\n",
    "#     loss = F.nll_loss(outputs, target)\n",
    "    loss = criterion(outputs, labels)\n",
    "    train_losses.append(loss)\n",
    "\n",
    "    # Backpropagation\n",
    "    loss.backward()\n",
    "    optimizer.step()\n",
    "\n",
    "    # Update pbar-tqdm\n",
    "    \n",
    "    _, pred = torch.max(outputs, 1)  # get the index of the max log-probability\n",
    "    correct += pred.eq(labels.view_as(pred)).sum().item()\n",
    "    processed += len(input)\n",
    "\n",
    "    pbar.set_description(desc= f'Epoch={epoch} Loss={loss.item()} Batch_id={batch_idx} Training Accuracy={100*correct/processed:0.2f}')\n",
    "    train_acc.append(100*correct/processed)\n",
    "    \n",
    "    \n",
    "def test(net, device,criterion, testloader):\n",
    "    #testloader = dataloader_cifar10(root='./data',, split='test', batch_size=dataloader_args.batch_size)\n",
    "    net.eval()\n",
    "    test_loss = 0\n",
    "    correct = 0\n",
    "    total = 0\n",
    "    accuracy = 0\n",
    "    classes = ('plane', 'car', 'bird', 'cat',\n",
    "           'deer', 'dog', 'frog', 'horse', 'ship', 'truck')\n",
    "    with torch.no_grad():\n",
    "        for batch_idx, (inputs, targets) in enumerate(testloader):\n",
    "            inputs, targets = inputs.to(device), targets.to(device)\n",
    "            outputs = net(inputs)\n",
    "            loss = criterion(outputs, targets)\n",
    "\n",
    "            test_loss += loss.item()\n",
    "            _, predicted = outputs.max(1)\n",
    "            total += targets.size(0)\n",
    "            correct += predicted.eq(targets).sum().item()\n",
    "\n",
    "            # progress_bar(batch_idx, len(testloader), 'Loss: %.3f | Acc: %.3f%% (%d/%d)'\n",
    "            #     % (test_loss/(batch_idx+1), 100.*correct/total, correct, total))\n",
    "        test_loss /= len(testloader.dataset)\n",
    "        \n",
    "        accuracy=100.00 * correct / len(testloader.dataset)\n",
    "        \n",
    "        print('\\nTest set: Average loss: {:.4f}, Accuracy: {}/{} ({:.0f}%)\\n'.format(\n",
    "                test_loss, correct, len(testloader.dataset),\n",
    "                accuracy))\n",
    "                \n",
    "        if accuracy >=87:\n",
    "            class_correct = list(0. for i in range(10))\n",
    "            class_total = list(0. for i in range(10))\n",
    "            with torch.no_grad():\n",
    "                for data in testloader:\n",
    "                    images, labels = data\n",
    "                    images, labels = images.to(device), labels.to(device)\n",
    "                    outputs = net(images)\n",
    "                    _, predicted = torch.max(outputs, 1)\n",
    "                    c = (predicted == labels).squeeze()\n",
    "                    for i in range(4):\n",
    "                        label = labels[i]\n",
    "                        class_correct[label] += c[i].item()\n",
    "                        class_total[label] += 1\n",
    "\n",
    "\n",
    "            for i in range(10):\n",
    "                print('Accuracy of %5s : %2d %%' % (\n",
    "                    classes[i], 100 * class_correct[i] / class_total[i]))"
   ]
  },
  {
   "cell_type": "code",
   "execution_count": 7,
   "metadata": {},
   "outputs": [
    {
     "name": "stderr",
     "output_type": "stream",
     "text": [
      "Epoch=0 Loss=1.4171139001846313 Batch_id=390 Training Accuracy=40.71: 100%|██████████| 391/391 [00:33<00:00, 11.76it/s]\n"
     ]
    },
    {
     "name": "stdout",
     "output_type": "stream",
     "text": [
      "\n",
      "Test set: Average loss: 0.0105, Accuracy: 5296/10000 (53%)\n",
      "\n"
     ]
    },
    {
     "name": "stderr",
     "output_type": "stream",
     "text": [
      "Epoch=1 Loss=0.9564102292060852 Batch_id=390 Training Accuracy=58.89: 100%|██████████| 391/391 [00:33<00:00, 11.67it/s]\n"
     ]
    },
    {
     "name": "stdout",
     "output_type": "stream",
     "text": [
      "\n",
      "Test set: Average loss: 0.0084, Accuracy: 6269/10000 (63%)\n",
      "\n"
     ]
    },
    {
     "name": "stderr",
     "output_type": "stream",
     "text": [
      "Epoch=2 Loss=0.8374382853507996 Batch_id=390 Training Accuracy=66.72: 100%|██████████| 391/391 [00:33<00:00, 11.76it/s]\n"
     ]
    },
    {
     "name": "stdout",
     "output_type": "stream",
     "text": [
      "\n",
      "Test set: Average loss: 0.0072, Accuracy: 6725/10000 (67%)\n",
      "\n"
     ]
    },
    {
     "name": "stderr",
     "output_type": "stream",
     "text": [
      "Epoch=3 Loss=0.9584182500839233 Batch_id=390 Training Accuracy=72.09: 100%|██████████| 391/391 [00:34<00:00, 11.48it/s]\n"
     ]
    },
    {
     "name": "stdout",
     "output_type": "stream",
     "text": [
      "\n",
      "Test set: Average loss: 0.0068, Accuracy: 7006/10000 (70%)\n",
      "\n"
     ]
    },
    {
     "name": "stderr",
     "output_type": "stream",
     "text": [
      "Epoch=4 Loss=0.7720623016357422 Batch_id=390 Training Accuracy=76.03: 100%|██████████| 391/391 [00:34<00:00, 11.44it/s]\n"
     ]
    },
    {
     "name": "stdout",
     "output_type": "stream",
     "text": [
      "\n",
      "Test set: Average loss: 0.0066, Accuracy: 7061/10000 (71%)\n",
      "\n"
     ]
    },
    {
     "name": "stderr",
     "output_type": "stream",
     "text": [
      "Epoch=5 Loss=0.485147088766098 Batch_id=390 Training Accuracy=79.14: 100%|███████████| 391/391 [00:32<00:00, 11.99it/s]\n"
     ]
    },
    {
     "name": "stdout",
     "output_type": "stream",
     "text": [
      "\n",
      "Test set: Average loss: 0.0060, Accuracy: 7338/10000 (73%)\n",
      "\n"
     ]
    },
    {
     "name": "stderr",
     "output_type": "stream",
     "text": [
      "Epoch=6 Loss=0.5374692678451538 Batch_id=390 Training Accuracy=81.80: 100%|██████████| 391/391 [00:33<00:00, 11.53it/s]\n"
     ]
    },
    {
     "name": "stdout",
     "output_type": "stream",
     "text": [
      "\n",
      "Test set: Average loss: 0.0058, Accuracy: 7479/10000 (75%)\n",
      "\n"
     ]
    },
    {
     "name": "stderr",
     "output_type": "stream",
     "text": [
      "Epoch=7 Loss=0.41486063599586487 Batch_id=390 Training Accuracy=84.26: 100%|█████████| 391/391 [00:32<00:00, 12.01it/s]\n"
     ]
    },
    {
     "name": "stdout",
     "output_type": "stream",
     "text": [
      "\n",
      "Test set: Average loss: 0.0057, Accuracy: 7551/10000 (76%)\n",
      "\n"
     ]
    },
    {
     "name": "stderr",
     "output_type": "stream",
     "text": [
      "Epoch=8 Loss=0.44973891973495483 Batch_id=390 Training Accuracy=86.39: 100%|█████████| 391/391 [00:34<00:00, 11.39it/s]\n"
     ]
    },
    {
     "name": "stdout",
     "output_type": "stream",
     "text": [
      "\n",
      "Test set: Average loss: 0.0056, Accuracy: 7668/10000 (77%)\n",
      "\n"
     ]
    },
    {
     "name": "stderr",
     "output_type": "stream",
     "text": [
      "Epoch=9 Loss=0.46148166060447693 Batch_id=390 Training Accuracy=88.39: 100%|█████████| 391/391 [00:33<00:00, 11.54it/s]\n"
     ]
    },
    {
     "name": "stdout",
     "output_type": "stream",
     "text": [
      "\n",
      "Test set: Average loss: 0.0063, Accuracy: 7462/10000 (75%)\n",
      "\n"
     ]
    }
   ],
   "source": [
    "for epoch in range(10):\n",
    "    train(net, device, optimizer,criterion, epoch,trainloader)\n",
    "    test(net, device,criterion, testloader)"
   ]
  }
 ],
 "metadata": {
  "kernelspec": {
   "display_name": "Python 3",
   "language": "python",
   "name": "python3"
  },
  "language_info": {
   "codemirror_mode": {
    "name": "ipython",
    "version": 3
   },
   "file_extension": ".py",
   "mimetype": "text/x-python",
   "name": "python",
   "nbconvert_exporter": "python",
   "pygments_lexer": "ipython3",
   "version": "3.7.4"
  }
 },
 "nbformat": 4,
 "nbformat_minor": 2
}
