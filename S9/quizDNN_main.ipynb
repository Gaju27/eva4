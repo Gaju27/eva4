{
 "cells": [
  {
   "cell_type": "markdown",
   "metadata": {},
   "source": [
    "# Mark Start of time"
   ]
  },
  {
   "cell_type": "code",
   "execution_count": 1,
   "metadata": {},
   "outputs": [],
   "source": [
    "from datetime import datetime"
   ]
  },
  {
   "cell_type": "code",
   "execution_count": 2,
   "metadata": {},
   "outputs": [
    {
     "name": "stdout",
     "output_type": "stream",
     "text": [
      "Current Date/Time:  2020-03-17 17:41:16.159007\n"
     ]
    }
   ],
   "source": [
    "print(\"Current Date/Time: \", datetime.now())"
   ]
  },
  {
   "cell_type": "markdown",
   "metadata": {
    "colab_type": "text",
    "id": "fPogbueepoCh"
   },
   "source": [
    "Training an image classifier\n",
    "----------------------------\n",
    "\n",
    "Import all necessary packages from all.py file"
   ]
  },
  {
   "cell_type": "code",
   "execution_count": 3,
   "metadata": {
    "colab": {},
    "colab_type": "code",
    "id": "-yVpodAMpoCi",
    "scrolled": true
   },
   "outputs": [],
   "source": [
    "from all import *"
   ]
  },
  {
   "cell_type": "markdown",
   "metadata": {},
   "source": [
    "### Network Summary"
   ]
  },
  {
   "cell_type": "code",
   "execution_count": 4,
   "metadata": {
    "scrolled": false
   },
   "outputs": [
    {
     "name": "stdout",
     "output_type": "stream",
     "text": [
      "cuda\n",
      "----------------------------------------------------------------\n",
      "        Layer (type)               Output Shape         Param #\n",
      "================================================================\n",
      "            Conv2d-1           [-1, 64, 32, 32]           1,728\n",
      "       BatchNorm2d-2           [-1, 64, 32, 32]             128\n",
      "            Conv2d-3           [-1, 64, 32, 32]          36,864\n",
      "       BatchNorm2d-4           [-1, 64, 32, 32]             128\n",
      "            Conv2d-5           [-1, 64, 32, 32]          36,864\n",
      "       BatchNorm2d-6           [-1, 64, 32, 32]             128\n",
      "        BasicBlock-7           [-1, 64, 32, 32]               0\n",
      "            Conv2d-8           [-1, 64, 32, 32]          36,864\n",
      "       BatchNorm2d-9           [-1, 64, 32, 32]             128\n",
      "           Conv2d-10           [-1, 64, 32, 32]          36,864\n",
      "      BatchNorm2d-11           [-1, 64, 32, 32]             128\n",
      "       BasicBlock-12           [-1, 64, 32, 32]               0\n",
      "          Dropout-13           [-1, 64, 32, 32]               0\n",
      "           Conv2d-14          [-1, 128, 16, 16]          73,728\n",
      "      BatchNorm2d-15          [-1, 128, 16, 16]             256\n",
      "           Conv2d-16          [-1, 128, 16, 16]         147,456\n",
      "      BatchNorm2d-17          [-1, 128, 16, 16]             256\n",
      "           Conv2d-18          [-1, 128, 16, 16]           8,192\n",
      "      BatchNorm2d-19          [-1, 128, 16, 16]             256\n",
      "       BasicBlock-20          [-1, 128, 16, 16]               0\n",
      "           Conv2d-21          [-1, 128, 16, 16]         147,456\n",
      "      BatchNorm2d-22          [-1, 128, 16, 16]             256\n",
      "           Conv2d-23          [-1, 128, 16, 16]         147,456\n",
      "      BatchNorm2d-24          [-1, 128, 16, 16]             256\n",
      "       BasicBlock-25          [-1, 128, 16, 16]               0\n",
      "          Dropout-26          [-1, 128, 16, 16]               0\n",
      "           Conv2d-27            [-1, 256, 8, 8]         294,912\n",
      "      BatchNorm2d-28            [-1, 256, 8, 8]             512\n",
      "           Conv2d-29            [-1, 256, 8, 8]         589,824\n",
      "      BatchNorm2d-30            [-1, 256, 8, 8]             512\n",
      "           Conv2d-31            [-1, 256, 8, 8]          32,768\n",
      "      BatchNorm2d-32            [-1, 256, 8, 8]             512\n",
      "       BasicBlock-33            [-1, 256, 8, 8]               0\n",
      "           Conv2d-34            [-1, 256, 8, 8]         589,824\n",
      "      BatchNorm2d-35            [-1, 256, 8, 8]             512\n",
      "           Conv2d-36            [-1, 256, 8, 8]         589,824\n",
      "      BatchNorm2d-37            [-1, 256, 8, 8]             512\n",
      "       BasicBlock-38            [-1, 256, 8, 8]               0\n",
      "          Dropout-39            [-1, 256, 8, 8]               0\n",
      "           Conv2d-40            [-1, 512, 4, 4]       1,179,648\n",
      "      BatchNorm2d-41            [-1, 512, 4, 4]           1,024\n",
      "           Conv2d-42            [-1, 512, 4, 4]       2,359,296\n",
      "      BatchNorm2d-43            [-1, 512, 4, 4]           1,024\n",
      "           Conv2d-44            [-1, 512, 4, 4]         131,072\n",
      "      BatchNorm2d-45            [-1, 512, 4, 4]           1,024\n",
      "       BasicBlock-46            [-1, 512, 4, 4]               0\n",
      "           Conv2d-47            [-1, 512, 4, 4]       2,359,296\n",
      "      BatchNorm2d-48            [-1, 512, 4, 4]           1,024\n",
      "           Conv2d-49            [-1, 512, 4, 4]       2,359,296\n",
      "      BatchNorm2d-50            [-1, 512, 4, 4]           1,024\n",
      "       BasicBlock-51            [-1, 512, 4, 4]               0\n",
      "           Linear-52                   [-1, 10]           5,130\n",
      "================================================================\n",
      "Total params: 11,173,962\n",
      "Trainable params: 11,173,962\n",
      "Non-trainable params: 0\n",
      "----------------------------------------------------------------\n",
      "Input size (MB): 0.01\n",
      "Forward/backward pass size (MB): 12.13\n",
      "Params size (MB): 42.63\n",
      "Estimated Total Size (MB): 54.76\n",
      "----------------------------------------------------------------\n"
     ]
    }
   ],
   "source": [
    "device = has_cuda()\n",
    "print(device)\n",
    "net = ResNet18().to(device)\n",
    "summary(net, input_size=(3, 32, 32))"
   ]
  },
  {
   "cell_type": "markdown",
   "metadata": {
    "colab_type": "text",
    "id": "eDdwPBl8poDF"
   },
   "source": [
    "### Load train and test data for CIFAR10 with albumentation\n"
   ]
  },
  {
   "cell_type": "code",
   "execution_count": 5,
   "metadata": {
    "scrolled": true
   },
   "outputs": [
    {
     "name": "stdout",
     "output_type": "stream",
     "text": [
      "Files already downloaded and verified\n",
      "Files already downloaded and verified\n"
     ]
    }
   ],
   "source": [
    "dataloader = dataloader_cifar10\n",
    "trainloader = dataloader(split='train')\n",
    "testloader = dataloader( split='test')\n",
    "optimizer= get_optimizer(net)\n",
    "criterion = nn.CrossEntropyLoss()"
   ]
  },
  {
   "cell_type": "markdown",
   "metadata": {},
   "source": [
    "### Achieve 87 and above accuracy"
   ]
  },
  {
   "cell_type": "code",
   "execution_count": 6,
   "metadata": {
    "scrolled": true
   },
   "outputs": [
    {
     "name": "stderr",
     "output_type": "stream",
     "text": [
      "Epoch=0 Loss=1.5784211158752441 Batch_id=781 Training Accuracy=41.07: 100%|██████████| 782/782 [03:26<00:00,  3.80it/s]\n"
     ]
    },
    {
     "name": "stdout",
     "output_type": "stream",
     "text": [
      "\n",
      "Test set: Average loss: 0.0189, Accuracy: 5600/10000 (56%)\n",
      "\n"
     ]
    },
    {
     "name": "stderr",
     "output_type": "stream",
     "text": [
      "Epoch=1 Loss=0.5920684337615967 Batch_id=781 Training Accuracy=57.74: 100%|██████████| 782/782 [03:30<00:00,  3.71it/s]\n"
     ]
    },
    {
     "name": "stdout",
     "output_type": "stream",
     "text": [
      "\n",
      "Test set: Average loss: 0.0159, Accuracy: 6400/10000 (64%)\n",
      "\n"
     ]
    },
    {
     "name": "stderr",
     "output_type": "stream",
     "text": [
      "Epoch=2 Loss=0.8109285831451416 Batch_id=781 Training Accuracy=65.01: 100%|██████████| 782/782 [03:36<00:00,  3.61it/s]\n"
     ]
    },
    {
     "name": "stdout",
     "output_type": "stream",
     "text": [
      "\n",
      "Test set: Average loss: 0.0133, Accuracy: 7074/10000 (71%)\n",
      "\n"
     ]
    },
    {
     "name": "stderr",
     "output_type": "stream",
     "text": [
      "Epoch=3 Loss=1.059904932975769 Batch_id=781 Training Accuracy=70.01: 100%|███████████| 782/782 [03:44<00:00,  3.48it/s]\n"
     ]
    },
    {
     "name": "stdout",
     "output_type": "stream",
     "text": [
      "\n",
      "Test set: Average loss: 0.0118, Accuracy: 7451/10000 (75%)\n",
      "\n"
     ]
    },
    {
     "name": "stderr",
     "output_type": "stream",
     "text": [
      "Epoch=4 Loss=0.6945492625236511 Batch_id=781 Training Accuracy=73.18: 100%|██████████| 782/782 [03:36<00:00,  3.61it/s]\n"
     ]
    },
    {
     "name": "stdout",
     "output_type": "stream",
     "text": [
      "\n",
      "Test set: Average loss: 0.0109, Accuracy: 7593/10000 (76%)\n",
      "\n"
     ]
    },
    {
     "name": "stderr",
     "output_type": "stream",
     "text": [
      "Epoch=5 Loss=0.7200725078582764 Batch_id=781 Training Accuracy=75.68: 100%|██████████| 782/782 [03:42<00:00,  3.51it/s]\n"
     ]
    },
    {
     "name": "stdout",
     "output_type": "stream",
     "text": [
      "\n",
      "Test set: Average loss: 0.0098, Accuracy: 7865/10000 (79%)\n",
      "\n"
     ]
    },
    {
     "name": "stderr",
     "output_type": "stream",
     "text": [
      "Epoch=6 Loss=1.0945653915405273 Batch_id=781 Training Accuracy=77.64: 100%|██████████| 782/782 [03:41<00:00,  3.52it/s]\n"
     ]
    },
    {
     "name": "stdout",
     "output_type": "stream",
     "text": [
      "\n",
      "Test set: Average loss: 0.0093, Accuracy: 7997/10000 (80%)\n",
      "\n"
     ]
    },
    {
     "name": "stderr",
     "output_type": "stream",
     "text": [
      "Epoch=7 Loss=0.6614662408828735 Batch_id=781 Training Accuracy=79.34: 100%|██████████| 782/782 [03:42<00:00,  3.52it/s]\n"
     ]
    },
    {
     "name": "stdout",
     "output_type": "stream",
     "text": [
      "\n",
      "Test set: Average loss: 0.0082, Accuracy: 8216/10000 (82%)\n",
      "\n"
     ]
    },
    {
     "name": "stderr",
     "output_type": "stream",
     "text": [
      "Epoch=8 Loss=0.7147565484046936 Batch_id=781 Training Accuracy=80.74: 100%|██████████| 782/782 [03:41<00:00,  3.53it/s]\n"
     ]
    },
    {
     "name": "stdout",
     "output_type": "stream",
     "text": [
      "\n",
      "Test set: Average loss: 0.0083, Accuracy: 8229/10000 (82%)\n",
      "\n"
     ]
    },
    {
     "name": "stderr",
     "output_type": "stream",
     "text": [
      "Epoch=9 Loss=0.5376799702644348 Batch_id=781 Training Accuracy=81.79: 100%|██████████| 782/782 [03:42<00:00,  3.51it/s]\n"
     ]
    },
    {
     "name": "stdout",
     "output_type": "stream",
     "text": [
      "\n",
      "Test set: Average loss: 0.0080, Accuracy: 8264/10000 (83%)\n",
      "\n"
     ]
    },
    {
     "name": "stderr",
     "output_type": "stream",
     "text": [
      "Epoch=10 Loss=0.706478476524353 Batch_id=781 Training Accuracy=82.73: 100%|██████████| 782/782 [03:39<00:00,  3.57it/s]\n"
     ]
    },
    {
     "name": "stdout",
     "output_type": "stream",
     "text": [
      "\n",
      "Test set: Average loss: 0.0075, Accuracy: 8406/10000 (84%)\n",
      "\n"
     ]
    },
    {
     "name": "stderr",
     "output_type": "stream",
     "text": [
      "Epoch=11 Loss=0.5138777494430542 Batch_id=781 Training Accuracy=83.36: 100%|█████████| 782/782 [03:40<00:00,  3.55it/s]\n"
     ]
    },
    {
     "name": "stdout",
     "output_type": "stream",
     "text": [
      "\n",
      "Test set: Average loss: 0.0067, Accuracy: 8550/10000 (86%)\n",
      "\n"
     ]
    },
    {
     "name": "stderr",
     "output_type": "stream",
     "text": [
      "Epoch=12 Loss=0.6138372421264648 Batch_id=781 Training Accuracy=84.51: 100%|█████████| 782/782 [03:39<00:00,  3.56it/s]\n"
     ]
    },
    {
     "name": "stdout",
     "output_type": "stream",
     "text": [
      "\n",
      "Test set: Average loss: 0.0069, Accuracy: 8497/10000 (85%)\n",
      "\n"
     ]
    },
    {
     "name": "stderr",
     "output_type": "stream",
     "text": [
      "Epoch=13 Loss=0.8160228729248047 Batch_id=781 Training Accuracy=84.87: 100%|█████████| 782/782 [03:37<00:00,  3.59it/s]\n"
     ]
    },
    {
     "name": "stdout",
     "output_type": "stream",
     "text": [
      "\n",
      "Test set: Average loss: 0.0071, Accuracy: 8504/10000 (85%)\n",
      "\n"
     ]
    },
    {
     "name": "stderr",
     "output_type": "stream",
     "text": [
      "Epoch=14 Loss=0.889887809753418 Batch_id=781 Training Accuracy=85.82: 100%|██████████| 782/782 [03:41<00:00,  3.53it/s]\n"
     ]
    },
    {
     "name": "stdout",
     "output_type": "stream",
     "text": [
      "\n",
      "Test set: Average loss: 0.0065, Accuracy: 8603/10000 (86%)\n",
      "\n"
     ]
    },
    {
     "name": "stderr",
     "output_type": "stream",
     "text": [
      "Epoch=15 Loss=0.7673585414886475 Batch_id=781 Training Accuracy=86.28: 100%|█████████| 782/782 [03:28<00:00,  3.75it/s]\n"
     ]
    },
    {
     "name": "stdout",
     "output_type": "stream",
     "text": [
      "\n",
      "Test set: Average loss: 0.0063, Accuracy: 8668/10000 (87%)\n",
      "\n"
     ]
    },
    {
     "name": "stderr",
     "output_type": "stream",
     "text": [
      "Epoch=16 Loss=0.34687697887420654 Batch_id=781 Training Accuracy=86.62: 100%|████████| 782/782 [03:26<00:00,  3.79it/s]\n"
     ]
    },
    {
     "name": "stdout",
     "output_type": "stream",
     "text": [
      "\n",
      "Test set: Average loss: 0.0058, Accuracy: 8740/10000 (87%)\n",
      "\n",
      "Accuracy of plane : 90 %\n",
      "Accuracy of   car : 90 %\n",
      "Accuracy of  bird : 84 %\n",
      "Accuracy of   cat : 71 %\n",
      "Accuracy of  deer : 91 %\n",
      "Accuracy of   dog : 76 %\n",
      "Accuracy of  frog : 88 %\n",
      "Accuracy of horse : 81 %\n",
      "Accuracy of  ship : 94 %\n",
      "Accuracy of truck : 88 %\n"
     ]
    },
    {
     "name": "stderr",
     "output_type": "stream",
     "text": [
      "Epoch=17 Loss=0.5459592938423157 Batch_id=781 Training Accuracy=87.58: 100%|█████████| 782/782 [03:19<00:00,  3.93it/s]\n"
     ]
    },
    {
     "name": "stdout",
     "output_type": "stream",
     "text": [
      "\n",
      "Test set: Average loss: 0.0059, Accuracy: 8760/10000 (88%)\n",
      "\n",
      "Accuracy of plane : 92 %\n",
      "Accuracy of   car : 95 %\n",
      "Accuracy of  bird : 87 %\n",
      "Accuracy of   cat : 81 %\n",
      "Accuracy of  deer : 87 %\n",
      "Accuracy of   dog : 75 %\n",
      "Accuracy of  frog : 95 %\n",
      "Accuracy of horse : 95 %\n",
      "Accuracy of  ship : 93 %\n",
      "Accuracy of truck : 92 %\n"
     ]
    },
    {
     "name": "stderr",
     "output_type": "stream",
     "text": [
      "Epoch=18 Loss=0.8545124530792236 Batch_id=781 Training Accuracy=87.94: 100%|█████████| 782/782 [03:33<00:00,  3.67it/s]\n"
     ]
    },
    {
     "name": "stdout",
     "output_type": "stream",
     "text": [
      "\n",
      "Test set: Average loss: 0.0061, Accuracy: 8715/10000 (87%)\n",
      "\n",
      "Accuracy of plane : 81 %\n",
      "Accuracy of   car : 95 %\n",
      "Accuracy of  bird : 79 %\n",
      "Accuracy of   cat : 77 %\n",
      "Accuracy of  deer : 88 %\n",
      "Accuracy of   dog : 76 %\n",
      "Accuracy of  frog : 98 %\n",
      "Accuracy of horse : 91 %\n",
      "Accuracy of  ship : 95 %\n",
      "Accuracy of truck : 94 %\n"
     ]
    },
    {
     "name": "stderr",
     "output_type": "stream",
     "text": [
      "Epoch=19 Loss=0.3457593619823456 Batch_id=781 Training Accuracy=88.22: 100%|█████████| 782/782 [04:35<00:00,  2.84it/s]\n"
     ]
    },
    {
     "name": "stdout",
     "output_type": "stream",
     "text": [
      "\n",
      "Test set: Average loss: 0.0058, Accuracy: 8826/10000 (88%)\n",
      "\n",
      "Accuracy of plane : 90 %\n",
      "Accuracy of   car : 93 %\n",
      "Accuracy of  bird : 79 %\n",
      "Accuracy of   cat : 75 %\n",
      "Accuracy of  deer : 93 %\n",
      "Accuracy of   dog : 82 %\n",
      "Accuracy of  frog : 83 %\n",
      "Accuracy of horse : 92 %\n",
      "Accuracy of  ship : 96 %\n",
      "Accuracy of truck : 96 %\n"
     ]
    },
    {
     "name": "stderr",
     "output_type": "stream",
     "text": [
      "Epoch=20 Loss=0.2905535101890564 Batch_id=781 Training Accuracy=88.95: 100%|█████████| 782/782 [07:50<00:00,  1.66it/s]\n"
     ]
    },
    {
     "name": "stdout",
     "output_type": "stream",
     "text": [
      "\n",
      "Test set: Average loss: 0.0058, Accuracy: 8783/10000 (88%)\n",
      "\n",
      "Accuracy of plane : 88 %\n",
      "Accuracy of   car : 100 %\n",
      "Accuracy of  bird : 72 %\n",
      "Accuracy of   cat : 65 %\n",
      "Accuracy of  deer : 86 %\n",
      "Accuracy of   dog : 87 %\n",
      "Accuracy of  frog : 95 %\n",
      "Accuracy of horse : 94 %\n",
      "Accuracy of  ship : 94 %\n",
      "Accuracy of truck : 95 %\n"
     ]
    },
    {
     "name": "stderr",
     "output_type": "stream",
     "text": [
      "Epoch=21 Loss=0.36126095056533813 Batch_id=781 Training Accuracy=89.03: 100%|████████| 782/782 [07:50<00:00,  1.66it/s]\n"
     ]
    },
    {
     "name": "stdout",
     "output_type": "stream",
     "text": [
      "\n",
      "Test set: Average loss: 0.0065, Accuracy: 8732/10000 (87%)\n",
      "\n",
      "Accuracy of plane : 87 %\n",
      "Accuracy of   car : 93 %\n",
      "Accuracy of  bird : 80 %\n",
      "Accuracy of   cat : 55 %\n",
      "Accuracy of  deer : 84 %\n",
      "Accuracy of   dog : 75 %\n",
      "Accuracy of  frog : 100 %\n",
      "Accuracy of horse : 96 %\n",
      "Accuracy of  ship : 98 %\n",
      "Accuracy of truck : 94 %\n"
     ]
    },
    {
     "name": "stderr",
     "output_type": "stream",
     "text": [
      "Epoch=22 Loss=0.36945641040802 Batch_id=781 Training Accuracy=89.47: 100%|███████████| 782/782 [04:48<00:00,  2.71it/s]\n"
     ]
    },
    {
     "name": "stdout",
     "output_type": "stream",
     "text": [
      "\n",
      "Test set: Average loss: 0.0057, Accuracy: 8820/10000 (88%)\n",
      "\n",
      "Accuracy of plane : 87 %\n",
      "Accuracy of   car : 96 %\n",
      "Accuracy of  bird : 83 %\n",
      "Accuracy of   cat : 65 %\n",
      "Accuracy of  deer : 91 %\n",
      "Accuracy of   dog : 81 %\n",
      "Accuracy of  frog : 95 %\n",
      "Accuracy of horse : 91 %\n",
      "Accuracy of  ship : 94 %\n",
      "Accuracy of truck : 89 %\n"
     ]
    },
    {
     "name": "stderr",
     "output_type": "stream",
     "text": [
      "Epoch=23 Loss=0.1509273499250412 Batch_id=781 Training Accuracy=90.02: 100%|█████████| 782/782 [03:51<00:00,  3.38it/s]\n"
     ]
    },
    {
     "name": "stdout",
     "output_type": "stream",
     "text": [
      "\n",
      "Test set: Average loss: 0.0054, Accuracy: 8909/10000 (89%)\n",
      "\n",
      "Accuracy of plane : 96 %\n",
      "Accuracy of   car : 96 %\n",
      "Accuracy of  bird : 83 %\n",
      "Accuracy of   cat : 80 %\n",
      "Accuracy of  deer : 88 %\n",
      "Accuracy of   dog : 71 %\n",
      "Accuracy of  frog : 98 %\n",
      "Accuracy of horse : 90 %\n",
      "Accuracy of  ship : 98 %\n",
      "Accuracy of truck : 91 %\n"
     ]
    },
    {
     "name": "stderr",
     "output_type": "stream",
     "text": [
      "Epoch=24 Loss=0.6550154685974121 Batch_id=781 Training Accuracy=90.17: 100%|█████████| 782/782 [03:42<00:00,  3.51it/s]\n"
     ]
    },
    {
     "name": "stdout",
     "output_type": "stream",
     "text": [
      "\n",
      "Test set: Average loss: 0.0055, Accuracy: 8867/10000 (89%)\n",
      "\n",
      "Accuracy of plane : 90 %\n",
      "Accuracy of   car : 96 %\n",
      "Accuracy of  bird : 85 %\n",
      "Accuracy of   cat : 67 %\n",
      "Accuracy of  deer : 94 %\n",
      "Accuracy of   dog : 91 %\n",
      "Accuracy of  frog : 98 %\n",
      "Accuracy of horse : 92 %\n",
      "Accuracy of  ship : 96 %\n",
      "Accuracy of truck : 93 %\n"
     ]
    },
    {
     "name": "stderr",
     "output_type": "stream",
     "text": [
      "Epoch=25 Loss=0.8080810308456421 Batch_id=781 Training Accuracy=90.60: 100%|█████████| 782/782 [03:27<00:00,  3.78it/s]\n"
     ]
    },
    {
     "name": "stdout",
     "output_type": "stream",
     "text": [
      "\n",
      "Test set: Average loss: 0.0056, Accuracy: 8872/10000 (89%)\n",
      "\n",
      "Accuracy of plane : 92 %\n",
      "Accuracy of   car : 91 %\n",
      "Accuracy of  bird : 87 %\n",
      "Accuracy of   cat : 73 %\n",
      "Accuracy of  deer : 88 %\n",
      "Accuracy of   dog : 78 %\n",
      "Accuracy of  frog : 96 %\n",
      "Accuracy of horse : 98 %\n",
      "Accuracy of  ship : 97 %\n",
      "Accuracy of truck : 89 %\n"
     ]
    },
    {
     "name": "stderr",
     "output_type": "stream",
     "text": [
      "Epoch=26 Loss=0.4524171054363251 Batch_id=781 Training Accuracy=90.85: 100%|█████████| 782/782 [03:25<00:00,  3.81it/s]\n"
     ]
    },
    {
     "name": "stdout",
     "output_type": "stream",
     "text": [
      "\n",
      "Test set: Average loss: 0.0053, Accuracy: 8878/10000 (89%)\n",
      "\n",
      "Accuracy of plane : 89 %\n",
      "Accuracy of   car : 98 %\n",
      "Accuracy of  bird : 92 %\n",
      "Accuracy of   cat : 74 %\n",
      "Accuracy of  deer : 93 %\n",
      "Accuracy of   dog : 91 %\n",
      "Accuracy of  frog : 95 %\n",
      "Accuracy of horse : 93 %\n",
      "Accuracy of  ship : 94 %\n",
      "Accuracy of truck : 93 %\n"
     ]
    },
    {
     "name": "stderr",
     "output_type": "stream",
     "text": [
      "Epoch=27 Loss=0.11200264096260071 Batch_id=781 Training Accuracy=90.92: 100%|████████| 782/782 [03:25<00:00,  3.80it/s]\n"
     ]
    },
    {
     "name": "stdout",
     "output_type": "stream",
     "text": [
      "\n",
      "Test set: Average loss: 0.0055, Accuracy: 8913/10000 (89%)\n",
      "\n",
      "Accuracy of plane : 91 %\n",
      "Accuracy of   car : 88 %\n",
      "Accuracy of  bird : 93 %\n",
      "Accuracy of   cat : 80 %\n",
      "Accuracy of  deer : 92 %\n",
      "Accuracy of   dog : 77 %\n",
      "Accuracy of  frog : 96 %\n",
      "Accuracy of horse : 88 %\n",
      "Accuracy of  ship : 95 %\n",
      "Accuracy of truck : 86 %\n"
     ]
    },
    {
     "name": "stderr",
     "output_type": "stream",
     "text": [
      "Epoch=28 Loss=0.6253308057785034 Batch_id=781 Training Accuracy=91.25: 100%|█████████| 782/782 [03:27<00:00,  3.78it/s]\n"
     ]
    },
    {
     "name": "stdout",
     "output_type": "stream",
     "text": [
      "\n",
      "Test set: Average loss: 0.0059, Accuracy: 8805/10000 (88%)\n",
      "\n",
      "Accuracy of plane : 86 %\n",
      "Accuracy of   car : 93 %\n",
      "Accuracy of  bird : 74 %\n",
      "Accuracy of   cat : 67 %\n",
      "Accuracy of  deer : 90 %\n",
      "Accuracy of   dog : 82 %\n",
      "Accuracy of  frog : 92 %\n",
      "Accuracy of horse : 93 %\n",
      "Accuracy of  ship : 96 %\n",
      "Accuracy of truck : 97 %\n"
     ]
    },
    {
     "name": "stderr",
     "output_type": "stream",
     "text": [
      "Epoch=29 Loss=0.05410227179527283 Batch_id=781 Training Accuracy=91.58: 100%|████████| 782/782 [03:24<00:00,  3.82it/s]\n"
     ]
    },
    {
     "name": "stdout",
     "output_type": "stream",
     "text": [
      "\n",
      "Test set: Average loss: 0.0050, Accuracy: 9002/10000 (90%)\n",
      "\n",
      "Accuracy of plane : 90 %\n",
      "Accuracy of   car : 93 %\n",
      "Accuracy of  bird : 85 %\n",
      "Accuracy of   cat : 56 %\n",
      "Accuracy of  deer : 89 %\n",
      "Accuracy of   dog : 92 %\n",
      "Accuracy of  frog : 96 %\n",
      "Accuracy of horse : 98 %\n",
      "Accuracy of  ship : 95 %\n",
      "Accuracy of truck : 92 %\n"
     ]
    },
    {
     "name": "stderr",
     "output_type": "stream",
     "text": [
      "Epoch=30 Loss=0.04132243990898132 Batch_id=781 Training Accuracy=91.89: 100%|████████| 782/782 [04:11<00:00,  3.11it/s]\n"
     ]
    },
    {
     "name": "stdout",
     "output_type": "stream",
     "text": [
      "\n",
      "Test set: Average loss: 0.0054, Accuracy: 8905/10000 (89%)\n",
      "\n",
      "Accuracy of plane : 94 %\n",
      "Accuracy of   car : 90 %\n",
      "Accuracy of  bird : 75 %\n",
      "Accuracy of   cat : 68 %\n",
      "Accuracy of  deer : 94 %\n",
      "Accuracy of   dog : 92 %\n",
      "Accuracy of  frog : 96 %\n",
      "Accuracy of horse : 97 %\n",
      "Accuracy of  ship : 98 %\n",
      "Accuracy of truck : 92 %\n"
     ]
    },
    {
     "name": "stderr",
     "output_type": "stream",
     "text": [
      "Epoch=31 Loss=0.2890539765357971 Batch_id=781 Training Accuracy=92.06: 100%|█████████| 782/782 [03:59<00:00,  3.27it/s]\n"
     ]
    },
    {
     "name": "stdout",
     "output_type": "stream",
     "text": [
      "\n",
      "Test set: Average loss: 0.0054, Accuracy: 8920/10000 (89%)\n",
      "\n",
      "Accuracy of plane : 90 %\n",
      "Accuracy of   car : 98 %\n",
      "Accuracy of  bird : 90 %\n",
      "Accuracy of   cat : 70 %\n",
      "Accuracy of  deer : 76 %\n",
      "Accuracy of   dog : 82 %\n",
      "Accuracy of  frog : 92 %\n",
      "Accuracy of horse : 92 %\n",
      "Accuracy of  ship : 89 %\n",
      "Accuracy of truck : 91 %\n"
     ]
    },
    {
     "name": "stderr",
     "output_type": "stream",
     "text": [
      "Epoch=32 Loss=0.34287533164024353 Batch_id=781 Training Accuracy=92.34: 100%|████████| 782/782 [04:27<00:00,  2.92it/s]\n"
     ]
    },
    {
     "name": "stdout",
     "output_type": "stream",
     "text": [
      "\n",
      "Test set: Average loss: 0.0055, Accuracy: 8921/10000 (89%)\n",
      "\n",
      "Accuracy of plane : 96 %\n",
      "Accuracy of   car : 97 %\n",
      "Accuracy of  bird : 81 %\n",
      "Accuracy of   cat : 79 %\n",
      "Accuracy of  deer : 90 %\n",
      "Accuracy of   dog : 81 %\n",
      "Accuracy of  frog : 97 %\n",
      "Accuracy of horse : 98 %\n",
      "Accuracy of  ship : 91 %\n",
      "Accuracy of truck : 93 %\n"
     ]
    },
    {
     "name": "stderr",
     "output_type": "stream",
     "text": [
      "Epoch=33 Loss=0.3271505832672119 Batch_id=781 Training Accuracy=92.48: 100%|█████████| 782/782 [04:06<00:00,  3.18it/s]\n"
     ]
    },
    {
     "name": "stdout",
     "output_type": "stream",
     "text": [
      "\n",
      "Test set: Average loss: 0.0051, Accuracy: 9017/10000 (90%)\n",
      "\n",
      "Accuracy of plane : 79 %\n",
      "Accuracy of   car : 100 %\n",
      "Accuracy of  bird : 81 %\n",
      "Accuracy of   cat : 77 %\n",
      "Accuracy of  deer : 96 %\n",
      "Accuracy of   dog : 90 %\n",
      "Accuracy of  frog : 97 %\n",
      "Accuracy of horse : 93 %\n",
      "Accuracy of  ship : 98 %\n",
      "Accuracy of truck : 95 %\n"
     ]
    },
    {
     "name": "stderr",
     "output_type": "stream",
     "text": [
      "Epoch=34 Loss=0.20495083928108215 Batch_id=781 Training Accuracy=92.69: 100%|████████| 782/782 [04:04<00:00,  3.19it/s]\n"
     ]
    },
    {
     "name": "stdout",
     "output_type": "stream",
     "text": [
      "\n",
      "Test set: Average loss: 0.0054, Accuracy: 8981/10000 (90%)\n",
      "\n",
      "Accuracy of plane : 88 %\n",
      "Accuracy of   car : 92 %\n",
      "Accuracy of  bird : 88 %\n",
      "Accuracy of   cat : 65 %\n",
      "Accuracy of  deer : 95 %\n",
      "Accuracy of   dog : 76 %\n",
      "Accuracy of  frog : 98 %\n",
      "Accuracy of horse : 86 %\n",
      "Accuracy of  ship : 96 %\n",
      "Accuracy of truck : 98 %\n"
     ]
    },
    {
     "name": "stderr",
     "output_type": "stream",
     "text": [
      "Epoch=35 Loss=0.23217830061912537 Batch_id=781 Training Accuracy=92.72: 100%|████████| 782/782 [03:23<00:00,  3.84it/s]\n"
     ]
    },
    {
     "name": "stdout",
     "output_type": "stream",
     "text": [
      "\n",
      "Test set: Average loss: 0.0049, Accuracy: 9016/10000 (90%)\n",
      "\n",
      "Accuracy of plane : 81 %\n",
      "Accuracy of   car : 93 %\n",
      "Accuracy of  bird : 86 %\n",
      "Accuracy of   cat : 77 %\n",
      "Accuracy of  deer : 85 %\n",
      "Accuracy of   dog : 83 %\n",
      "Accuracy of  frog : 96 %\n",
      "Accuracy of horse : 92 %\n",
      "Accuracy of  ship : 95 %\n",
      "Accuracy of truck : 95 %\n"
     ]
    },
    {
     "name": "stderr",
     "output_type": "stream",
     "text": [
      "Epoch=36 Loss=0.3246006965637207 Batch_id=781 Training Accuracy=93.03: 100%|█████████| 782/782 [03:24<00:00,  3.83it/s]\n"
     ]
    },
    {
     "name": "stdout",
     "output_type": "stream",
     "text": [
      "\n",
      "Test set: Average loss: 0.0050, Accuracy: 9007/10000 (90%)\n",
      "\n",
      "Accuracy of plane : 88 %\n",
      "Accuracy of   car : 100 %\n",
      "Accuracy of  bird : 87 %\n",
      "Accuracy of   cat : 76 %\n",
      "Accuracy of  deer : 91 %\n",
      "Accuracy of   dog : 83 %\n",
      "Accuracy of  frog : 89 %\n",
      "Accuracy of horse : 95 %\n",
      "Accuracy of  ship : 93 %\n",
      "Accuracy of truck : 92 %\n"
     ]
    },
    {
     "name": "stderr",
     "output_type": "stream",
     "text": [
      "Epoch=37 Loss=0.1569664180278778 Batch_id=781 Training Accuracy=93.04: 100%|█████████| 782/782 [03:35<00:00,  3.62it/s]\n"
     ]
    },
    {
     "name": "stdout",
     "output_type": "stream",
     "text": [
      "\n",
      "Test set: Average loss: 0.0047, Accuracy: 9058/10000 (91%)\n",
      "\n",
      "Accuracy of plane : 89 %\n",
      "Accuracy of   car : 96 %\n",
      "Accuracy of  bird : 95 %\n",
      "Accuracy of   cat : 76 %\n",
      "Accuracy of  deer : 91 %\n",
      "Accuracy of   dog : 76 %\n",
      "Accuracy of  frog : 93 %\n",
      "Accuracy of horse : 91 %\n",
      "Accuracy of  ship : 98 %\n",
      "Accuracy of truck : 95 %\n"
     ]
    },
    {
     "name": "stderr",
     "output_type": "stream",
     "text": [
      "Epoch=38 Loss=0.2573215365409851 Batch_id=781 Training Accuracy=93.47: 100%|█████████| 782/782 [03:40<00:00,  3.54it/s]\n"
     ]
    },
    {
     "name": "stdout",
     "output_type": "stream",
     "text": [
      "\n",
      "Test set: Average loss: 0.0054, Accuracy: 8961/10000 (90%)\n",
      "\n",
      "Accuracy of plane : 92 %\n",
      "Accuracy of   car : 93 %\n",
      "Accuracy of  bird : 78 %\n",
      "Accuracy of   cat : 71 %\n",
      "Accuracy of  deer : 90 %\n",
      "Accuracy of   dog : 91 %\n",
      "Accuracy of  frog : 95 %\n",
      "Accuracy of horse : 90 %\n",
      "Accuracy of  ship : 93 %\n",
      "Accuracy of truck : 94 %\n"
     ]
    },
    {
     "name": "stderr",
     "output_type": "stream",
     "text": [
      "Epoch=39 Loss=0.052490681409835815 Batch_id=781 Training Accuracy=93.62: 100%|███████| 782/782 [03:47<00:00,  3.43it/s]\n"
     ]
    },
    {
     "name": "stdout",
     "output_type": "stream",
     "text": [
      "\n",
      "Test set: Average loss: 0.0053, Accuracy: 9029/10000 (90%)\n",
      "\n",
      "Accuracy of plane : 96 %\n",
      "Accuracy of   car : 90 %\n",
      "Accuracy of  bird : 78 %\n",
      "Accuracy of   cat : 76 %\n",
      "Accuracy of  deer : 95 %\n",
      "Accuracy of   dog : 88 %\n",
      "Accuracy of  frog : 98 %\n",
      "Accuracy of horse : 94 %\n",
      "Accuracy of  ship : 95 %\n",
      "Accuracy of truck : 93 %\n"
     ]
    }
   ],
   "source": [
    "for epoch in range(40):\n",
    "    train(net, device, optimizer,criterion, epoch,trainloader)\n",
    "    test(net, device,criterion,testloader)"
   ]
  },
  {
   "cell_type": "code",
   "execution_count": 7,
   "metadata": {},
   "outputs": [],
   "source": [
    "torch.save(net.state_dict(), 'C:/Users/gajanana_ganjigatti/Documents/Gaju_data/Quest/eva4/S9/saved/cifat10.pth')"
   ]
  },
  {
   "cell_type": "code",
   "execution_count": 8,
   "metadata": {},
   "outputs": [],
   "source": [
    "from grad_cam import *"
   ]
  },
  {
   "cell_type": "code",
   "execution_count": 9,
   "metadata": {
    "scrolled": true
   },
   "outputs": [
    {
     "name": "stderr",
     "output_type": "stream",
     "text": [
      "C:\\ProgramData\\Anaconda3\\lib\\site-packages\\torch\\nn\\functional.py:2390: UserWarning: nn.functional.upsample is deprecated. Use nn.functional.interpolate instead.\n",
      "  warnings.warn(\"nn.functional.upsample is deprecated. Use nn.functional.interpolate instead.\")\n"
     ]
    }
   ],
   "source": [
    "grid_image=grad_cam()"
   ]
  },
  {
   "cell_type": "markdown",
   "metadata": {},
   "source": [
    "### Group of dog image"
   ]
  },
  {
   "cell_type": "code",
   "execution_count": 10,
   "metadata": {},
   "outputs": [
    {
     "data": {
      "image/png": "[encoded data removed]",
      "text/plain": [
       "<PIL.Image.Image image mode=RGB size=292x60 at 0x18102AABA88>"
      ]
     },
     "execution_count": 10,
     "metadata": {},
     "output_type": "execute_result"
    }
   ],
   "source": [
    "transforms.ToPILImage()(grid_image)"
   ]
  }
 ],
 "metadata": {
  "accelerator": "GPU",
  "colab": {
   "collapsed_sections": [],
   "name": "S7_test_1.ipynb",
   "provenance": []
  },
  "kernelspec": {
   "display_name": "Python 3",
   "language": "python",
   "name": "python3"
  },
  "language_info": {
   "codemirror_mode": {
    "name": "ipython",
    "version": 3
   },
   "file_extension": ".py",
   "mimetype": "text/x-python",
   "name": "python",
   "nbconvert_exporter": "python",
   "pygments_lexer": "ipython3",
   "version": "3.7.4"
  }
 },
 "nbformat": 4,
 "nbformat_minor": 1
}
