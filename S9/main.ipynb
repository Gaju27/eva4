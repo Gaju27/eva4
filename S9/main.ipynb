{
 "cells": [
  {
   "cell_type": "markdown",
   "metadata": {
    "colab_type": "text",
    "id": "fPogbueepoCh"
   },
   "source": [
    "Training an image classifier\n",
    "----------------------------\n",
    "\n",
    "Import all necessary packages from all.py file"
   ]
  },
  {
   "cell_type": "code",
   "execution_count": 1,
   "metadata": {
    "colab": {},
    "colab_type": "code",
    "id": "-yVpodAMpoCi",
    "scrolled": true
   },
   "outputs": [],
   "source": [
    "from all import *"
   ]
  },
  {
   "cell_type": "markdown",
   "metadata": {},
   "source": [
    "### Network Summary"
   ]
  },
  {
   "cell_type": "code",
   "execution_count": 2,
   "metadata": {
    "scrolled": false
   },
   "outputs": [
    {
     "name": "stdout",
     "output_type": "stream",
     "text": [
      "cuda\n",
      "----------------------------------------------------------------\n",
      "        Layer (type)               Output Shape         Param #\n",
      "================================================================\n",
      "            Conv2d-1           [-1, 64, 32, 32]           1,728\n",
      "       BatchNorm2d-2           [-1, 64, 32, 32]             128\n",
      "            Conv2d-3           [-1, 64, 32, 32]          36,864\n",
      "       BatchNorm2d-4           [-1, 64, 32, 32]             128\n",
      "            Conv2d-5           [-1, 64, 32, 32]          36,864\n",
      "       BatchNorm2d-6           [-1, 64, 32, 32]             128\n",
      "        BasicBlock-7           [-1, 64, 32, 32]               0\n",
      "            Conv2d-8           [-1, 64, 32, 32]          36,864\n",
      "       BatchNorm2d-9           [-1, 64, 32, 32]             128\n",
      "           Conv2d-10           [-1, 64, 32, 32]          36,864\n",
      "      BatchNorm2d-11           [-1, 64, 32, 32]             128\n",
      "       BasicBlock-12           [-1, 64, 32, 32]               0\n",
      "           Conv2d-13          [-1, 128, 16, 16]          73,728\n",
      "      BatchNorm2d-14          [-1, 128, 16, 16]             256\n",
      "           Conv2d-15          [-1, 128, 16, 16]         147,456\n",
      "      BatchNorm2d-16          [-1, 128, 16, 16]             256\n",
      "           Conv2d-17          [-1, 128, 16, 16]           8,192\n",
      "      BatchNorm2d-18          [-1, 128, 16, 16]             256\n",
      "       BasicBlock-19          [-1, 128, 16, 16]               0\n",
      "           Conv2d-20          [-1, 128, 16, 16]         147,456\n",
      "      BatchNorm2d-21          [-1, 128, 16, 16]             256\n",
      "           Conv2d-22          [-1, 128, 16, 16]         147,456\n",
      "      BatchNorm2d-23          [-1, 128, 16, 16]             256\n",
      "       BasicBlock-24          [-1, 128, 16, 16]               0\n",
      "           Conv2d-25            [-1, 256, 8, 8]         294,912\n",
      "      BatchNorm2d-26            [-1, 256, 8, 8]             512\n",
      "           Conv2d-27            [-1, 256, 8, 8]         589,824\n",
      "      BatchNorm2d-28            [-1, 256, 8, 8]             512\n",
      "           Conv2d-29            [-1, 256, 8, 8]          32,768\n",
      "      BatchNorm2d-30            [-1, 256, 8, 8]             512\n",
      "       BasicBlock-31            [-1, 256, 8, 8]               0\n",
      "           Conv2d-32            [-1, 256, 8, 8]         589,824\n",
      "      BatchNorm2d-33            [-1, 256, 8, 8]             512\n",
      "           Conv2d-34            [-1, 256, 8, 8]         589,824\n",
      "      BatchNorm2d-35            [-1, 256, 8, 8]             512\n",
      "       BasicBlock-36            [-1, 256, 8, 8]               0\n",
      "           Conv2d-37            [-1, 512, 4, 4]       1,179,648\n",
      "      BatchNorm2d-38            [-1, 512, 4, 4]           1,024\n",
      "           Conv2d-39            [-1, 512, 4, 4]       2,359,296\n",
      "      BatchNorm2d-40            [-1, 512, 4, 4]           1,024\n",
      "           Conv2d-41            [-1, 512, 4, 4]         131,072\n",
      "      BatchNorm2d-42            [-1, 512, 4, 4]           1,024\n",
      "       BasicBlock-43            [-1, 512, 4, 4]               0\n",
      "           Conv2d-44            [-1, 512, 4, 4]       2,359,296\n",
      "      BatchNorm2d-45            [-1, 512, 4, 4]           1,024\n",
      "           Conv2d-46            [-1, 512, 4, 4]       2,359,296\n",
      "      BatchNorm2d-47            [-1, 512, 4, 4]           1,024\n",
      "       BasicBlock-48            [-1, 512, 4, 4]               0\n",
      "           Linear-49                   [-1, 10]           5,130\n",
      "================================================================\n",
      "Total params: 11,173,962\n",
      "Trainable params: 11,173,962\n",
      "Non-trainable params: 0\n",
      "----------------------------------------------------------------\n",
      "Input size (MB): 0.01\n",
      "Forward/backward pass size (MB): 11.25\n",
      "Params size (MB): 42.63\n",
      "Estimated Total Size (MB): 53.89\n",
      "----------------------------------------------------------------\n"
     ]
    }
   ],
   "source": [
    "device = has_cuda()\n",
    "print(device)\n",
    "net = ResNet18().to(device)\n",
    "summary(net, input_size=(3, 32, 32))"
   ]
  },
  {
   "cell_type": "markdown",
   "metadata": {
    "colab_type": "text",
    "id": "eDdwPBl8poDF"
   },
   "source": [
    "### Load train and test data for CIFAR10 with albumentation\n"
   ]
  },
  {
   "cell_type": "code",
   "execution_count": 3,
   "metadata": {
    "scrolled": true
   },
   "outputs": [
    {
     "name": "stdout",
     "output_type": "stream",
     "text": [
      "Files already downloaded and verified\n",
      "Files already downloaded and verified\n"
     ]
    }
   ],
   "source": [
    "dataloader = dataloader_cifar10\n",
    "trainloader = dataloader(split='train')\n",
    "testloader = dataloader( split='test')\n",
    "optimizer= get_optimizer(net)\n",
    "criterion = nn.CrossEntropyLoss()"
   ]
  },
  {
   "cell_type": "markdown",
   "metadata": {},
   "source": [
    "### Achieve 87 and above accuracy"
   ]
  },
  {
   "cell_type": "code",
   "execution_count": 4,
   "metadata": {
    "scrolled": true
   },
   "outputs": [
    {
     "name": "stderr",
     "output_type": "stream",
     "text": [
      "Epoch=0 Loss=1.4837346076965332 Batch_id=781 Training Accuracy=44.78: 100%|██████████| 782/782 [03:34<00:00,  3.65it/s]\n"
     ]
    },
    {
     "name": "stdout",
     "output_type": "stream",
     "text": [
      "\n",
      "Test set: Average loss: 0.0178, Accuracy: 5924/10000 (59%)\n",
      "\n"
     ]
    },
    {
     "name": "stderr",
     "output_type": "stream",
     "text": [
      "Epoch=1 Loss=0.3914797902107239 Batch_id=781 Training Accuracy=61.78: 100%|██████████| 782/782 [03:31<00:00,  3.70it/s]\n"
     ]
    },
    {
     "name": "stdout",
     "output_type": "stream",
     "text": [
      "\n",
      "Test set: Average loss: 0.0137, Accuracy: 6919/10000 (69%)\n",
      "\n"
     ]
    },
    {
     "name": "stderr",
     "output_type": "stream",
     "text": [
      "Epoch=2 Loss=0.6932303309440613 Batch_id=781 Training Accuracy=69.60: 100%|██████████| 782/782 [03:34<00:00,  3.64it/s]\n"
     ]
    },
    {
     "name": "stdout",
     "output_type": "stream",
     "text": [
      "\n",
      "Test set: Average loss: 0.0118, Accuracy: 7384/10000 (74%)\n",
      "\n"
     ]
    },
    {
     "name": "stderr",
     "output_type": "stream",
     "text": [
      "Epoch=3 Loss=1.2327463626861572 Batch_id=781 Training Accuracy=74.17: 100%|██████████| 782/782 [03:36<00:00,  3.62it/s]\n"
     ]
    },
    {
     "name": "stdout",
     "output_type": "stream",
     "text": [
      "\n",
      "Test set: Average loss: 0.0097, Accuracy: 7854/10000 (79%)\n",
      "\n"
     ]
    },
    {
     "name": "stderr",
     "output_type": "stream",
     "text": [
      "Epoch=4 Loss=0.6628842353820801 Batch_id=781 Training Accuracy=77.34: 100%|██████████| 782/782 [03:35<00:00,  3.62it/s]\n"
     ]
    },
    {
     "name": "stdout",
     "output_type": "stream",
     "text": [
      "\n",
      "Test set: Average loss: 0.0095, Accuracy: 7910/10000 (79%)\n",
      "\n"
     ]
    },
    {
     "name": "stderr",
     "output_type": "stream",
     "text": [
      "Epoch=5 Loss=0.7770532369613647 Batch_id=781 Training Accuracy=79.62: 100%|██████████| 782/782 [03:34<00:00,  3.65it/s]\n"
     ]
    },
    {
     "name": "stdout",
     "output_type": "stream",
     "text": [
      "\n",
      "Test set: Average loss: 0.0092, Accuracy: 8002/10000 (80%)\n",
      "\n"
     ]
    },
    {
     "name": "stderr",
     "output_type": "stream",
     "text": [
      "Epoch=6 Loss=0.5233073830604553 Batch_id=781 Training Accuracy=81.20: 100%|██████████| 782/782 [03:32<00:00,  3.68it/s]\n"
     ]
    },
    {
     "name": "stdout",
     "output_type": "stream",
     "text": [
      "\n",
      "Test set: Average loss: 0.0083, Accuracy: 8211/10000 (82%)\n",
      "\n"
     ]
    },
    {
     "name": "stderr",
     "output_type": "stream",
     "text": [
      "Epoch=7 Loss=0.32354581356048584 Batch_id=781 Training Accuracy=82.94: 100%|█████████| 782/782 [03:45<00:00,  3.47it/s]\n"
     ]
    },
    {
     "name": "stdout",
     "output_type": "stream",
     "text": [
      "\n",
      "Test set: Average loss: 0.0081, Accuracy: 8287/10000 (83%)\n",
      "\n"
     ]
    },
    {
     "name": "stderr",
     "output_type": "stream",
     "text": [
      "Epoch=8 Loss=0.9449512958526611 Batch_id=781 Training Accuracy=84.16: 100%|██████████| 782/782 [03:34<00:00,  3.65it/s]\n"
     ]
    },
    {
     "name": "stdout",
     "output_type": "stream",
     "text": [
      "\n",
      "Test set: Average loss: 0.0073, Accuracy: 8476/10000 (85%)\n",
      "\n"
     ]
    },
    {
     "name": "stderr",
     "output_type": "stream",
     "text": [
      "Epoch=9 Loss=0.4582424461841583 Batch_id=781 Training Accuracy=85.37: 100%|██████████| 782/782 [03:58<00:00,  3.27it/s]\n"
     ]
    },
    {
     "name": "stdout",
     "output_type": "stream",
     "text": [
      "\n",
      "Test set: Average loss: 0.0068, Accuracy: 8499/10000 (85%)\n",
      "\n"
     ]
    },
    {
     "name": "stderr",
     "output_type": "stream",
     "text": [
      "Epoch=10 Loss=0.19068224728107452 Batch_id=781 Training Accuracy=86.13: 100%|████████| 782/782 [04:29<00:00,  2.90it/s]\n"
     ]
    },
    {
     "name": "stdout",
     "output_type": "stream",
     "text": [
      "\n",
      "Test set: Average loss: 0.0071, Accuracy: 8485/10000 (85%)\n",
      "\n"
     ]
    },
    {
     "name": "stderr",
     "output_type": "stream",
     "text": [
      "Epoch=11 Loss=0.43492090702056885 Batch_id=781 Training Accuracy=87.03: 100%|████████| 782/782 [04:41<00:00,  2.78it/s]\n"
     ]
    },
    {
     "name": "stdout",
     "output_type": "stream",
     "text": [
      "\n",
      "Test set: Average loss: 0.0066, Accuracy: 8606/10000 (86%)\n",
      "\n"
     ]
    },
    {
     "name": "stderr",
     "output_type": "stream",
     "text": [
      "Epoch=12 Loss=0.5708069801330566 Batch_id=781 Training Accuracy=87.91: 100%|█████████| 782/782 [04:30<00:00,  2.89it/s]\n"
     ]
    },
    {
     "name": "stdout",
     "output_type": "stream",
     "text": [
      "\n",
      "Test set: Average loss: 0.0071, Accuracy: 8523/10000 (85%)\n",
      "\n"
     ]
    },
    {
     "name": "stderr",
     "output_type": "stream",
     "text": [
      "Epoch=13 Loss=0.6413232088088989 Batch_id=781 Training Accuracy=88.62: 100%|█████████| 782/782 [04:38<00:00,  2.81it/s]\n"
     ]
    },
    {
     "name": "stdout",
     "output_type": "stream",
     "text": [
      "\n",
      "Test set: Average loss: 0.0075, Accuracy: 8475/10000 (85%)\n",
      "\n"
     ]
    },
    {
     "name": "stderr",
     "output_type": "stream",
     "text": [
      "Epoch=14 Loss=0.663457989692688 Batch_id=781 Training Accuracy=89.42: 100%|██████████| 782/782 [04:30<00:00,  2.89it/s]\n"
     ]
    },
    {
     "name": "stdout",
     "output_type": "stream",
     "text": [
      "\n",
      "Test set: Average loss: 0.0065, Accuracy: 8666/10000 (87%)\n",
      "\n"
     ]
    },
    {
     "name": "stderr",
     "output_type": "stream",
     "text": [
      "Epoch=15 Loss=0.34735825657844543 Batch_id=781 Training Accuracy=89.92: 100%|████████| 782/782 [04:28<00:00,  2.91it/s]\n"
     ]
    },
    {
     "name": "stdout",
     "output_type": "stream",
     "text": [
      "\n",
      "Test set: Average loss: 0.0063, Accuracy: 8664/10000 (87%)\n",
      "\n"
     ]
    },
    {
     "name": "stderr",
     "output_type": "stream",
     "text": [
      "Epoch=16 Loss=0.0613844096660614 Batch_id=781 Training Accuracy=90.23: 100%|█████████| 782/782 [04:43<00:00,  2.76it/s]\n"
     ]
    },
    {
     "name": "stdout",
     "output_type": "stream",
     "text": [
      "\n",
      "Test set: Average loss: 0.0063, Accuracy: 8707/10000 (87%)\n",
      "\n",
      "Accuracy of plane : 88 %\n",
      "Accuracy of   car : 93 %\n",
      "Accuracy of  bird : 89 %\n",
      "Accuracy of   cat : 73 %\n",
      "Accuracy of  deer : 79 %\n",
      "Accuracy of   dog : 70 %\n",
      "Accuracy of  frog : 88 %\n",
      "Accuracy of horse : 87 %\n",
      "Accuracy of  ship : 98 %\n",
      "Accuracy of truck : 93 %\n"
     ]
    },
    {
     "name": "stderr",
     "output_type": "stream",
     "text": [
      "Epoch=17 Loss=0.3687092661857605 Batch_id=781 Training Accuracy=91.00: 100%|█████████| 782/782 [04:34<00:00,  2.85it/s]\n"
     ]
    },
    {
     "name": "stdout",
     "output_type": "stream",
     "text": [
      "\n",
      "Test set: Average loss: 0.0061, Accuracy: 8748/10000 (87%)\n",
      "\n",
      "Accuracy of plane : 87 %\n",
      "Accuracy of   car : 94 %\n",
      "Accuracy of  bird : 89 %\n",
      "Accuracy of   cat : 80 %\n",
      "Accuracy of  deer : 92 %\n",
      "Accuracy of   dog : 88 %\n",
      "Accuracy of  frog : 89 %\n",
      "Accuracy of horse : 97 %\n",
      "Accuracy of  ship : 89 %\n",
      "Accuracy of truck : 94 %\n"
     ]
    },
    {
     "name": "stderr",
     "output_type": "stream",
     "text": [
      "Epoch=18 Loss=0.5366775989532471 Batch_id=781 Training Accuracy=91.18: 100%|█████████| 782/782 [04:55<00:00,  2.65it/s]\n"
     ]
    },
    {
     "name": "stdout",
     "output_type": "stream",
     "text": [
      "\n",
      "Test set: Average loss: 0.0060, Accuracy: 8740/10000 (87%)\n",
      "\n",
      "Accuracy of plane : 79 %\n",
      "Accuracy of   car : 91 %\n",
      "Accuracy of  bird : 84 %\n",
      "Accuracy of   cat : 84 %\n",
      "Accuracy of  deer : 88 %\n",
      "Accuracy of   dog : 67 %\n",
      "Accuracy of  frog : 96 %\n",
      "Accuracy of horse : 93 %\n",
      "Accuracy of  ship : 91 %\n",
      "Accuracy of truck : 94 %\n"
     ]
    },
    {
     "name": "stderr",
     "output_type": "stream",
     "text": [
      "Epoch=19 Loss=0.3612107038497925 Batch_id=781 Training Accuracy=91.48: 100%|█████████| 782/782 [04:58<00:00,  2.62it/s]\n"
     ]
    },
    {
     "name": "stdout",
     "output_type": "stream",
     "text": [
      "\n",
      "Test set: Average loss: 0.0060, Accuracy: 8780/10000 (88%)\n",
      "\n",
      "Accuracy of plane : 90 %\n",
      "Accuracy of   car : 95 %\n",
      "Accuracy of  bird : 82 %\n",
      "Accuracy of   cat : 85 %\n",
      "Accuracy of  deer : 86 %\n",
      "Accuracy of   dog : 79 %\n",
      "Accuracy of  frog : 94 %\n",
      "Accuracy of horse : 96 %\n",
      "Accuracy of  ship : 93 %\n",
      "Accuracy of truck : 98 %\n"
     ]
    },
    {
     "name": "stderr",
     "output_type": "stream",
     "text": [
      "Epoch=20 Loss=0.2794877886772156 Batch_id=781 Training Accuracy=91.92: 100%|█████████| 782/782 [04:44<00:00,  2.74it/s]\n"
     ]
    },
    {
     "name": "stdout",
     "output_type": "stream",
     "text": [
      "\n",
      "Test set: Average loss: 0.0058, Accuracy: 8787/10000 (88%)\n",
      "\n",
      "Accuracy of plane : 90 %\n",
      "Accuracy of   car : 95 %\n",
      "Accuracy of  bird : 81 %\n",
      "Accuracy of   cat : 77 %\n",
      "Accuracy of  deer : 89 %\n",
      "Accuracy of   dog : 87 %\n",
      "Accuracy of  frog : 90 %\n",
      "Accuracy of horse : 86 %\n",
      "Accuracy of  ship : 92 %\n",
      "Accuracy of truck : 92 %\n"
     ]
    },
    {
     "name": "stderr",
     "output_type": "stream",
     "text": [
      "Epoch=21 Loss=0.5567929744720459 Batch_id=781 Training Accuracy=92.29: 100%|█████████| 782/782 [04:59<00:00,  2.61it/s]\n"
     ]
    },
    {
     "name": "stdout",
     "output_type": "stream",
     "text": [
      "\n",
      "Test set: Average loss: 0.0067, Accuracy: 8681/10000 (87%)\n",
      "\n"
     ]
    },
    {
     "name": "stderr",
     "output_type": "stream",
     "text": [
      "Epoch=22 Loss=0.2713077664375305 Batch_id=781 Training Accuracy=92.38: 100%|█████████| 782/782 [05:03<00:00,  2.57it/s]\n"
     ]
    },
    {
     "name": "stdout",
     "output_type": "stream",
     "text": [
      "\n",
      "Test set: Average loss: 0.0059, Accuracy: 8792/10000 (88%)\n",
      "\n",
      "Accuracy of plane : 89 %\n",
      "Accuracy of   car : 93 %\n",
      "Accuracy of  bird : 76 %\n",
      "Accuracy of   cat : 79 %\n",
      "Accuracy of  deer : 95 %\n",
      "Accuracy of   dog : 75 %\n",
      "Accuracy of  frog : 88 %\n",
      "Accuracy of horse : 93 %\n",
      "Accuracy of  ship : 91 %\n",
      "Accuracy of truck : 95 %\n"
     ]
    },
    {
     "name": "stderr",
     "output_type": "stream",
     "text": [
      "Epoch=23 Loss=0.2120298147201538 Batch_id=781 Training Accuracy=93.02: 100%|█████████| 782/782 [05:10<00:00,  2.52it/s]\n"
     ]
    },
    {
     "name": "stdout",
     "output_type": "stream",
     "text": [
      "\n",
      "Test set: Average loss: 0.0058, Accuracy: 8850/10000 (88%)\n",
      "\n",
      "Accuracy of plane : 92 %\n",
      "Accuracy of   car : 96 %\n",
      "Accuracy of  bird : 81 %\n",
      "Accuracy of   cat : 72 %\n",
      "Accuracy of  deer : 87 %\n",
      "Accuracy of   dog : 81 %\n",
      "Accuracy of  frog : 83 %\n",
      "Accuracy of horse : 86 %\n",
      "Accuracy of  ship : 91 %\n",
      "Accuracy of truck : 89 %\n"
     ]
    },
    {
     "name": "stderr",
     "output_type": "stream",
     "text": [
      "Epoch=24 Loss=0.41206079721450806 Batch_id=781 Training Accuracy=93.13: 100%|████████| 782/782 [05:24<00:00,  2.41it/s]\n"
     ]
    },
    {
     "name": "stdout",
     "output_type": "stream",
     "text": [
      "\n",
      "Test set: Average loss: 0.0058, Accuracy: 8778/10000 (88%)\n",
      "\n",
      "Accuracy of plane : 96 %\n",
      "Accuracy of   car : 92 %\n",
      "Accuracy of  bird : 80 %\n",
      "Accuracy of   cat : 73 %\n",
      "Accuracy of  deer : 87 %\n",
      "Accuracy of   dog : 84 %\n",
      "Accuracy of  frog : 90 %\n",
      "Accuracy of horse : 89 %\n",
      "Accuracy of  ship : 92 %\n",
      "Accuracy of truck : 100 %\n"
     ]
    },
    {
     "name": "stderr",
     "output_type": "stream",
     "text": [
      "Epoch=25 Loss=0.3393799066543579 Batch_id=781 Training Accuracy=93.40: 100%|█████████| 782/782 [05:18<00:00,  2.46it/s]\n"
     ]
    },
    {
     "name": "stdout",
     "output_type": "stream",
     "text": [
      "\n",
      "Test set: Average loss: 0.0057, Accuracy: 8854/10000 (89%)\n",
      "\n",
      "Accuracy of plane : 91 %\n",
      "Accuracy of   car : 98 %\n",
      "Accuracy of  bird : 86 %\n",
      "Accuracy of   cat : 70 %\n",
      "Accuracy of  deer : 89 %\n",
      "Accuracy of   dog : 90 %\n",
      "Accuracy of  frog : 92 %\n",
      "Accuracy of horse : 90 %\n",
      "Accuracy of  ship : 96 %\n",
      "Accuracy of truck : 89 %\n"
     ]
    },
    {
     "name": "stderr",
     "output_type": "stream",
     "text": [
      "Epoch=26 Loss=0.18449518084526062 Batch_id=781 Training Accuracy=93.65: 100%|████████| 782/782 [05:01<00:00,  2.59it/s]\n"
     ]
    },
    {
     "name": "stdout",
     "output_type": "stream",
     "text": [
      "\n",
      "Test set: Average loss: 0.0062, Accuracy: 8793/10000 (88%)\n",
      "\n",
      "Accuracy of plane : 93 %\n",
      "Accuracy of   car : 96 %\n",
      "Accuracy of  bird : 84 %\n",
      "Accuracy of   cat : 72 %\n",
      "Accuracy of  deer : 84 %\n",
      "Accuracy of   dog : 77 %\n",
      "Accuracy of  frog : 100 %\n",
      "Accuracy of horse : 100 %\n",
      "Accuracy of  ship : 91 %\n",
      "Accuracy of truck : 95 %\n"
     ]
    },
    {
     "name": "stderr",
     "output_type": "stream",
     "text": [
      "Epoch=27 Loss=0.24747446179389954 Batch_id=781 Training Accuracy=93.93: 100%|████████| 782/782 [04:43<00:00,  2.75it/s]\n"
     ]
    },
    {
     "name": "stdout",
     "output_type": "stream",
     "text": [
      "\n",
      "Test set: Average loss: 0.0060, Accuracy: 8827/10000 (88%)\n",
      "\n",
      "Accuracy of plane : 91 %\n",
      "Accuracy of   car : 88 %\n",
      "Accuracy of  bird : 88 %\n",
      "Accuracy of   cat : 67 %\n",
      "Accuracy of  deer : 81 %\n",
      "Accuracy of   dog : 89 %\n",
      "Accuracy of  frog : 92 %\n",
      "Accuracy of horse : 91 %\n",
      "Accuracy of  ship : 87 %\n",
      "Accuracy of truck : 96 %\n"
     ]
    },
    {
     "name": "stderr",
     "output_type": "stream",
     "text": [
      "Epoch=28 Loss=0.4401160478591919 Batch_id=781 Training Accuracy=93.91: 100%|█████████| 782/782 [04:43<00:00,  2.76it/s]\n"
     ]
    },
    {
     "name": "stdout",
     "output_type": "stream",
     "text": [
      "\n",
      "Test set: Average loss: 0.0057, Accuracy: 8855/10000 (89%)\n",
      "\n",
      "Accuracy of plane : 89 %\n",
      "Accuracy of   car : 90 %\n",
      "Accuracy of  bird : 93 %\n",
      "Accuracy of   cat : 80 %\n",
      "Accuracy of  deer : 91 %\n",
      "Accuracy of   dog : 74 %\n",
      "Accuracy of  frog : 90 %\n",
      "Accuracy of horse : 85 %\n",
      "Accuracy of  ship : 94 %\n",
      "Accuracy of truck : 92 %\n"
     ]
    },
    {
     "name": "stderr",
     "output_type": "stream",
     "text": [
      "Epoch=29 Loss=0.27274248003959656 Batch_id=781 Training Accuracy=94.12: 100%|████████| 782/782 [03:54<00:00,  3.34it/s]\n"
     ]
    },
    {
     "name": "stdout",
     "output_type": "stream",
     "text": [
      "\n",
      "Test set: Average loss: 0.0060, Accuracy: 8824/10000 (88%)\n",
      "\n",
      "Accuracy of plane : 91 %\n",
      "Accuracy of   car : 90 %\n",
      "Accuracy of  bird : 75 %\n",
      "Accuracy of   cat : 77 %\n",
      "Accuracy of  deer : 96 %\n",
      "Accuracy of   dog : 71 %\n",
      "Accuracy of  frog : 91 %\n",
      "Accuracy of horse : 89 %\n",
      "Accuracy of  ship : 98 %\n",
      "Accuracy of truck : 96 %\n"
     ]
    },
    {
     "name": "stderr",
     "output_type": "stream",
     "text": [
      "Epoch=30 Loss=0.1494583785533905 Batch_id=781 Training Accuracy=94.33: 100%|█████████| 782/782 [03:37<00:00,  3.60it/s]\n"
     ]
    },
    {
     "name": "stdout",
     "output_type": "stream",
     "text": [
      "\n",
      "Test set: Average loss: 0.0058, Accuracy: 8860/10000 (89%)\n",
      "\n",
      "Accuracy of plane : 87 %\n",
      "Accuracy of   car : 92 %\n",
      "Accuracy of  bird : 77 %\n",
      "Accuracy of   cat : 71 %\n",
      "Accuracy of  deer : 85 %\n",
      "Accuracy of   dog : 89 %\n",
      "Accuracy of  frog : 91 %\n",
      "Accuracy of horse : 81 %\n",
      "Accuracy of  ship : 92 %\n",
      "Accuracy of truck : 92 %\n"
     ]
    },
    {
     "name": "stderr",
     "output_type": "stream",
     "text": [
      "Epoch=31 Loss=0.3235812485218048 Batch_id=781 Training Accuracy=94.57: 100%|█████████| 782/782 [04:40<00:00,  2.79it/s]\n"
     ]
    },
    {
     "name": "stdout",
     "output_type": "stream",
     "text": [
      "\n",
      "Test set: Average loss: 0.0056, Accuracy: 8915/10000 (89%)\n",
      "\n",
      "Accuracy of plane : 84 %\n",
      "Accuracy of   car : 98 %\n",
      "Accuracy of  bird : 85 %\n",
      "Accuracy of   cat : 89 %\n",
      "Accuracy of  deer : 95 %\n",
      "Accuracy of   dog : 87 %\n",
      "Accuracy of  frog : 96 %\n",
      "Accuracy of horse : 94 %\n",
      "Accuracy of  ship : 95 %\n",
      "Accuracy of truck : 90 %\n"
     ]
    },
    {
     "name": "stderr",
     "output_type": "stream",
     "text": [
      "Epoch=32 Loss=0.15139150619506836 Batch_id=781 Training Accuracy=94.60: 100%|████████| 782/782 [05:26<00:00,  2.39it/s]\n"
     ]
    },
    {
     "name": "stdout",
     "output_type": "stream",
     "text": [
      "\n",
      "Test set: Average loss: 0.0057, Accuracy: 8918/10000 (89%)\n",
      "\n",
      "Accuracy of plane : 88 %\n",
      "Accuracy of   car : 96 %\n",
      "Accuracy of  bird : 94 %\n",
      "Accuracy of   cat : 80 %\n",
      "Accuracy of  deer : 90 %\n",
      "Accuracy of   dog : 83 %\n",
      "Accuracy of  frog : 88 %\n",
      "Accuracy of horse : 89 %\n",
      "Accuracy of  ship : 92 %\n",
      "Accuracy of truck : 97 %\n"
     ]
    },
    {
     "name": "stderr",
     "output_type": "stream",
     "text": [
      "Epoch=33 Loss=0.4240909814834595 Batch_id=781 Training Accuracy=95.04: 100%|█████████| 782/782 [06:02<00:00,  2.16it/s]\n"
     ]
    },
    {
     "name": "stdout",
     "output_type": "stream",
     "text": [
      "\n",
      "Test set: Average loss: 0.0061, Accuracy: 8844/10000 (88%)\n",
      "\n",
      "Accuracy of plane : 93 %\n",
      "Accuracy of   car : 96 %\n",
      "Accuracy of  bird : 90 %\n",
      "Accuracy of   cat : 70 %\n",
      "Accuracy of  deer : 93 %\n",
      "Accuracy of   dog : 65 %\n",
      "Accuracy of  frog : 94 %\n",
      "Accuracy of horse : 91 %\n",
      "Accuracy of  ship : 88 %\n",
      "Accuracy of truck : 96 %\n"
     ]
    },
    {
     "name": "stderr",
     "output_type": "stream",
     "text": [
      "Epoch=34 Loss=0.19136007130146027 Batch_id=781 Training Accuracy=94.97: 100%|████████| 782/782 [09:00<00:00,  1.45it/s]\n"
     ]
    },
    {
     "name": "stdout",
     "output_type": "stream",
     "text": [
      "\n",
      "Test set: Average loss: 0.0058, Accuracy: 8867/10000 (89%)\n",
      "\n",
      "Accuracy of plane : 88 %\n",
      "Accuracy of   car : 98 %\n",
      "Accuracy of  bird : 89 %\n",
      "Accuracy of   cat : 78 %\n",
      "Accuracy of  deer : 86 %\n",
      "Accuracy of   dog : 94 %\n",
      "Accuracy of  frog : 93 %\n",
      "Accuracy of horse : 87 %\n",
      "Accuracy of  ship : 96 %\n",
      "Accuracy of truck : 92 %\n"
     ]
    },
    {
     "name": "stderr",
     "output_type": "stream",
     "text": [
      "Epoch=35 Loss=0.20806589722633362 Batch_id=781 Training Accuracy=95.19: 100%|████████| 782/782 [09:11<00:00,  1.42it/s]\n"
     ]
    },
    {
     "name": "stdout",
     "output_type": "stream",
     "text": [
      "\n",
      "Test set: Average loss: 0.0053, Accuracy: 8964/10000 (90%)\n",
      "\n",
      "Accuracy of plane : 95 %\n",
      "Accuracy of   car : 91 %\n",
      "Accuracy of  bird : 77 %\n",
      "Accuracy of   cat : 83 %\n",
      "Accuracy of  deer : 89 %\n",
      "Accuracy of   dog : 84 %\n",
      "Accuracy of  frog : 92 %\n",
      "Accuracy of horse : 88 %\n",
      "Accuracy of  ship : 98 %\n",
      "Accuracy of truck : 91 %\n"
     ]
    },
    {
     "name": "stderr",
     "output_type": "stream",
     "text": [
      "Epoch=36 Loss=0.03322151303291321 Batch_id=781 Training Accuracy=95.36: 100%|████████| 782/782 [08:39<00:00,  1.51it/s]\n"
     ]
    },
    {
     "name": "stdout",
     "output_type": "stream",
     "text": [
      "\n",
      "Test set: Average loss: 0.0054, Accuracy: 8990/10000 (90%)\n",
      "\n",
      "Accuracy of plane : 93 %\n",
      "Accuracy of   car : 96 %\n",
      "Accuracy of  bird : 89 %\n",
      "Accuracy of   cat : 80 %\n",
      "Accuracy of  deer : 84 %\n",
      "Accuracy of   dog : 95 %\n",
      "Accuracy of  frog : 98 %\n",
      "Accuracy of horse : 93 %\n",
      "Accuracy of  ship : 93 %\n",
      "Accuracy of truck : 98 %\n"
     ]
    },
    {
     "name": "stderr",
     "output_type": "stream",
     "text": [
      "Epoch=37 Loss=0.006921917200088501 Batch_id=781 Training Accuracy=95.40: 100%|███████| 782/782 [08:29<00:00,  1.53it/s]\n"
     ]
    },
    {
     "name": "stdout",
     "output_type": "stream",
     "text": [
      "\n",
      "Test set: Average loss: 0.0052, Accuracy: 9007/10000 (90%)\n",
      "\n",
      "Accuracy of plane : 85 %\n",
      "Accuracy of   car : 95 %\n",
      "Accuracy of  bird : 83 %\n",
      "Accuracy of   cat : 66 %\n",
      "Accuracy of  deer : 90 %\n",
      "Accuracy of   dog : 90 %\n",
      "Accuracy of  frog : 93 %\n",
      "Accuracy of horse : 96 %\n",
      "Accuracy of  ship : 94 %\n",
      "Accuracy of truck : 92 %\n"
     ]
    },
    {
     "name": "stderr",
     "output_type": "stream",
     "text": [
      "Epoch=38 Loss=0.04318004846572876 Batch_id=781 Training Accuracy=95.45: 100%|████████| 782/782 [08:21<00:00,  1.56it/s]\n"
     ]
    },
    {
     "name": "stdout",
     "output_type": "stream",
     "text": [
      "\n",
      "Test set: Average loss: 0.0055, Accuracy: 8979/10000 (90%)\n",
      "\n",
      "Accuracy of plane : 96 %\n",
      "Accuracy of   car : 94 %\n",
      "Accuracy of  bird : 83 %\n",
      "Accuracy of   cat : 77 %\n",
      "Accuracy of  deer : 93 %\n",
      "Accuracy of   dog : 85 %\n",
      "Accuracy of  frog : 96 %\n",
      "Accuracy of horse : 91 %\n",
      "Accuracy of  ship : 98 %\n",
      "Accuracy of truck : 95 %\n"
     ]
    },
    {
     "name": "stderr",
     "output_type": "stream",
     "text": [
      "Epoch=39 Loss=0.31674107909202576 Batch_id=781 Training Accuracy=95.52: 100%|████████| 782/782 [08:41<00:00,  1.50it/s]\n"
     ]
    },
    {
     "name": "stdout",
     "output_type": "stream",
     "text": [
      "\n",
      "Test set: Average loss: 0.0054, Accuracy: 8960/10000 (90%)\n",
      "\n",
      "Accuracy of plane : 86 %\n",
      "Accuracy of   car : 100 %\n",
      "Accuracy of  bird : 85 %\n",
      "Accuracy of   cat : 68 %\n",
      "Accuracy of  deer : 88 %\n",
      "Accuracy of   dog : 84 %\n",
      "Accuracy of  frog : 96 %\n",
      "Accuracy of horse : 94 %\n",
      "Accuracy of  ship : 93 %\n",
      "Accuracy of truck : 94 %\n"
     ]
    }
   ],
   "source": [
    "for epoch in range(40):\n",
    "    train(net, device, optimizer,criterion, epoch,trainloader)\n",
    "    test(net, device,criterion,testloader)"
   ]
  },
  {
   "cell_type": "code",
   "execution_count": 5,
   "metadata": {},
   "outputs": [],
   "source": [
    "torch.save(net.state_dict(), 'C:/Users/Gaju/Documents/Gaju_data/Quest/eva4/S9/saved/cifat10.pth')"
   ]
  },
  {
   "cell_type": "code",
   "execution_count": 6,
   "metadata": {},
   "outputs": [],
   "source": [
    "from grad_cam import *"
   ]
  },
  {
   "cell_type": "code",
   "execution_count": 7,
   "metadata": {
    "scrolled": true
   },
   "outputs": [
    {
     "name": "stderr",
     "output_type": "stream",
     "text": [
      "C:\\ProgramData\\Anaconda3\\lib\\site-packages\\torch\\nn\\functional.py:2390: UserWarning: nn.functional.upsample is deprecated. Use nn.functional.interpolate instead.\n",
      "  warnings.warn(\"nn.functional.upsample is deprecated. Use nn.functional.interpolate instead.\")\n"
     ]
    }
   ],
   "source": [
    "grid_image=grad_cam()"
   ]
  },
  {
   "cell_type": "markdown",
   "metadata": {},
   "source": [
    "### Group of dog image"
   ]
  },
  {
   "cell_type": "code",
   "execution_count": 8,
   "metadata": {},
   "outputs": [
    {
     "data": {
      "image/png": "[encoded data removed]",
      "text/plain": [
       "<PIL.Image.Image image mode=RGB size=292x60 at 0x1F8371D3B88>"
      ]
     },
     "execution_count": 8,
     "metadata": {},
     "output_type": "execute_result"
    }
   ],
   "source": [
    "transforms.ToPILImage()(grid_image)"
   ]
  }
 ],
 "metadata": {
  "accelerator": "GPU",
  "colab": {
   "collapsed_sections": [],
   "name": "S7_test_1.ipynb",
   "provenance": []
  },
  "kernelspec": {
   "display_name": "Python 3",
   "language": "python",
   "name": "python3"
  },
  "language_info": {
   "codemirror_mode": {
    "name": "ipython",
    "version": 3
   },
   "file_extension": ".py",
   "mimetype": "text/x-python",
   "name": "python",
   "nbconvert_exporter": "python",
   "pygments_lexer": "ipython3",
   "version": "3.7.4"
  }
 },
 "nbformat": 4,
 "nbformat_minor": 1
}
