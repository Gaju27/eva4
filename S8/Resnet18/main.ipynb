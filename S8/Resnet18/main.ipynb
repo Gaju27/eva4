{
 "cells": [
  {
   "cell_type": "code",
   "execution_count": 1,
   "metadata": {
    "colab": {},
    "colab_type": "code",
    "id": "QVbdg0z4poCc"
   },
   "outputs": [],
   "source": [
    "%matplotlib inline"
   ]
  },
  {
   "cell_type": "markdown",
   "metadata": {
    "colab_type": "text",
    "id": "fPogbueepoCh"
   },
   "source": [
    "Training an image classifier\n",
    "----------------------------\n",
    "\n",
    "We will do the following steps in order:\n",
    "\n",
    "1. Load and normalizing the CIFAR10 training and test datasets using\n",
    "   ``torchvision``\n",
    "2. Define a Convolution Neural Network\n",
    "3. Define a loss function\n",
    "4. Train the network on the training data\n",
    "5. Test the network on the test data\n",
    "\n",
    "1. Loading and normalizing CIFAR10\n",
    "^^^^^^^^^^^^^^^^^^^^^^^^^^^^^^^^^^\n",
    "\n",
    "Using ``torchvision``, it’s extremely easy to load CIFAR10.\n",
    "\n"
   ]
  },
  {
   "cell_type": "code",
   "execution_count": 2,
   "metadata": {
    "colab": {},
    "colab_type": "code",
    "id": "-yVpodAMpoCi"
   },
   "outputs": [],
   "source": [
    "import torch\n",
    "import torchvision\n",
    "import torchvision.transforms as transforms\n",
    "from models import *\n",
    "from imshow import *\n",
    "from train import *\n",
    "from test import *"
   ]
  },
  {
   "cell_type": "markdown",
   "metadata": {
    "colab_type": "text",
    "id": "5kjt4e2TpoCk"
   },
   "source": [
    "#### Transform\n",
    "\n",
    "Checking for GPU and using that in the code below\n"
   ]
  },
  {
   "cell_type": "code",
   "execution_count": 3,
   "metadata": {
    "colab": {
     "base_uri": "https://localhost:8080/",
     "height": 70
    },
    "colab_type": "code",
    "id": "D8Tjigo2poCl",
    "outputId": "e98df9fe-8bf0-4024-8bb4-6ec917f56cfa",
    "scrolled": true
   },
   "outputs": [
    {
     "name": "stdout",
     "output_type": "stream",
     "text": [
      "CUDA Available? cuda:0\n",
      "Downloading https://www.cs.toronto.edu/~kriz/cifar-10-python.tar.gz to ./data\\cifar-10-python.tar.gz\n"
     ]
    },
    {
     "name": "stderr",
     "output_type": "stream",
     "text": [
      " 99%|███████████████████████████████████████████████████████████████▍| 169025536/170498071 [03:08<00:02, 716375.51it/s]"
     ]
    },
    {
     "name": "stdout",
     "output_type": "stream",
     "text": [
      "Extracting ./data\\cifar-10-python.tar.gz to ./data\n",
      "Files already downloaded and verified\n"
     ]
    }
   ],
   "source": [
    "SEED = 1\n",
    "\n",
    "# CUDA?\n",
    "# cuda = torch.cuda.is_available()\n",
    "device = torch.device(\"cuda:0\" if torch.cuda.is_available() else \"cpu\")\n",
    "print(\"CUDA Available?\", device)\n",
    "\n",
    "# For reproducibility\n",
    "torch.manual_seed(SEED)\n",
    "\n",
    "if device:\n",
    "    torch.cuda.manual_seed(SEED)\n",
    "\n",
    "# dataloader arguments - something you'll fetch these from cmdprmt\n",
    "dataloader_args = dict(shuffle=True, batch_size=4, num_workers=2, pin_memory=True) if device else dict(shuffle=True, batch_size=4)\n",
    "\n",
    "transform = transforms.Compose(\n",
    "    [transforms.ToTensor(),\n",
    "     transforms.Normalize((0.5, 0.5, 0.5), (0.5, 0.5, 0.5))])\n",
    "\n",
    "trainset = torchvision.datasets.CIFAR10(root='./data', train=True, download=True, transform=transform)\n",
    "\n",
    "trainloader = torch.utils.data.DataLoader(trainset,** dataloader_args)\n",
    "\n",
    "testset = torchvision.datasets.CIFAR10(root='./data', train=False, download=True, transform=transform)\n",
    "\n",
    "testloader = torch.utils.data.DataLoader(testset, **dataloader_args)\n",
    "# testloader=transformers(test)\n",
    "# trainloader=transformers(train)\n",
    "\n",
    "classes = ('plane', 'car', 'bird', 'cat',\n",
    "           'deer', 'dog', 'frog', 'horse', 'ship', 'truck')"
   ]
  },
  {
   "cell_type": "markdown",
   "metadata": {
    "colab_type": "text",
    "id": "_cj433rtpoCn"
   },
   "source": [
    "Let us show some of the training images, for fun.\n",
    "\n"
   ]
  },
  {
   "cell_type": "code",
   "execution_count": 4,
   "metadata": {
    "colab": {
     "base_uri": "https://localhost:8080/",
     "height": 155
    },
    "colab_type": "code",
    "id": "daA7bADhpoCo",
    "outputId": "4bc420bf-007e-4d42-895f-52d2785de817"
   },
   "outputs": [
    {
     "name": "stdout",
     "output_type": "stream",
     "text": [
      "plane   dog  deer  deer\n"
     ]
    },
    {
     "data": {
      "image/png": "[encoded data removed]",
      "text/plain": [
       "<Figure size 432x288 with 1 Axes>"
      ]
     },
     "metadata": {
      "needs_background": "light"
     },
     "output_type": "display_data"
    }
   ],
   "source": [
    "# get some random training images\n",
    "dataiter = iter(trainloader)\n",
    "images, labels = dataiter.next()\n",
    "\n",
    "\n",
    "# show images\n",
    "imshow(torchvision.utils.make_grid(images))\n",
    "# print labels\n",
    "print(' '.join('%5s' % classes[labels[j]] for j in range(4)))"
   ]
  },
  {
   "cell_type": "markdown",
   "metadata": {},
   "source": [
    "### Summary"
   ]
  },
  {
   "cell_type": "code",
   "execution_count": 5,
   "metadata": {
    "scrolled": false
   },
   "outputs": [
    {
     "name": "stderr",
     "output_type": "stream",
     "text": [
      "\r",
      "170500096it [03:20, 716375.51it/s]                                                                                     "
     ]
    },
    {
     "name": "stdout",
     "output_type": "stream",
     "text": [
      "Requirement already satisfied: torchsummary in c:\\programdata\\anaconda3\\lib\\site-packages (1.5.1)\n",
      "cuda\n",
      "----------------------------------------------------------------\n",
      "        Layer (type)               Output Shape         Param #\n",
      "================================================================\n",
      "            Conv2d-1           [-1, 64, 32, 32]           1,728\n",
      "       BatchNorm2d-2           [-1, 64, 32, 32]             128\n",
      "            Conv2d-3           [-1, 64, 32, 32]          36,864\n",
      "       BatchNorm2d-4           [-1, 64, 32, 32]             128\n",
      "            Conv2d-5           [-1, 64, 32, 32]          36,864\n",
      "       BatchNorm2d-6           [-1, 64, 32, 32]             128\n",
      "        BasicBlock-7           [-1, 64, 32, 32]               0\n",
      "            Conv2d-8           [-1, 64, 32, 32]          36,864\n",
      "       BatchNorm2d-9           [-1, 64, 32, 32]             128\n",
      "           Conv2d-10           [-1, 64, 32, 32]          36,864\n",
      "      BatchNorm2d-11           [-1, 64, 32, 32]             128\n",
      "       BasicBlock-12           [-1, 64, 32, 32]               0\n",
      "           Conv2d-13          [-1, 128, 16, 16]          73,728\n",
      "      BatchNorm2d-14          [-1, 128, 16, 16]             256\n",
      "           Conv2d-15          [-1, 128, 16, 16]         147,456\n",
      "      BatchNorm2d-16          [-1, 128, 16, 16]             256\n",
      "           Conv2d-17          [-1, 128, 16, 16]           8,192\n",
      "      BatchNorm2d-18          [-1, 128, 16, 16]             256\n",
      "       BasicBlock-19          [-1, 128, 16, 16]               0\n",
      "           Conv2d-20          [-1, 128, 16, 16]         147,456\n",
      "      BatchNorm2d-21          [-1, 128, 16, 16]             256\n",
      "           Conv2d-22          [-1, 128, 16, 16]         147,456\n",
      "      BatchNorm2d-23          [-1, 128, 16, 16]             256\n",
      "       BasicBlock-24          [-1, 128, 16, 16]               0\n",
      "           Conv2d-25            [-1, 256, 8, 8]         294,912\n",
      "      BatchNorm2d-26            [-1, 256, 8, 8]             512\n",
      "           Conv2d-27            [-1, 256, 8, 8]         589,824\n",
      "      BatchNorm2d-28            [-1, 256, 8, 8]             512\n",
      "           Conv2d-29            [-1, 256, 8, 8]          32,768\n",
      "      BatchNorm2d-30            [-1, 256, 8, 8]             512\n",
      "       BasicBlock-31            [-1, 256, 8, 8]               0\n",
      "           Conv2d-32            [-1, 256, 8, 8]         589,824\n",
      "      BatchNorm2d-33            [-1, 256, 8, 8]             512\n",
      "           Conv2d-34            [-1, 256, 8, 8]         589,824\n",
      "      BatchNorm2d-35            [-1, 256, 8, 8]             512\n",
      "       BasicBlock-36            [-1, 256, 8, 8]               0\n",
      "           Conv2d-37            [-1, 512, 4, 4]       1,179,648\n",
      "      BatchNorm2d-38            [-1, 512, 4, 4]           1,024\n",
      "           Conv2d-39            [-1, 512, 4, 4]       2,359,296\n",
      "      BatchNorm2d-40            [-1, 512, 4, 4]           1,024\n",
      "           Conv2d-41            [-1, 512, 4, 4]         131,072\n",
      "      BatchNorm2d-42            [-1, 512, 4, 4]           1,024\n",
      "       BasicBlock-43            [-1, 512, 4, 4]               0\n",
      "           Conv2d-44            [-1, 512, 4, 4]       2,359,296\n",
      "      BatchNorm2d-45            [-1, 512, 4, 4]           1,024\n",
      "           Conv2d-46            [-1, 512, 4, 4]       2,359,296\n",
      "      BatchNorm2d-47            [-1, 512, 4, 4]           1,024\n",
      "       BasicBlock-48            [-1, 512, 4, 4]               0\n",
      "           Linear-49                   [-1, 10]           5,130\n",
      "================================================================\n",
      "Total params: 11,173,962\n",
      "Trainable params: 11,173,962\n",
      "Non-trainable params: 0\n",
      "----------------------------------------------------------------\n",
      "Input size (MB): 0.01\n",
      "Forward/backward pass size (MB): 11.25\n",
      "Params size (MB): 42.63\n",
      "Estimated Total Size (MB): 53.89\n",
      "----------------------------------------------------------------\n"
     ]
    }
   ],
   "source": [
    "!pip install torchsummary\n",
    "from torchsummary import summary\n",
    "use_cuda = torch.cuda.is_available()\n",
    "device = torch.device(\"cuda\" if use_cuda else \"cpu\")\n",
    "print(device)\n",
    "net = ResNet18().to(device)\n",
    "summary(net, input_size=(3, 32, 32))"
   ]
  },
  {
   "cell_type": "markdown",
   "metadata": {
    "colab_type": "text",
    "id": "Wdw2NNCUpoCu"
   },
   "source": [
    "### 3. Define a Loss function and optimizer\n",
    "\n",
    "Let's use a Classification Cross-Entropy loss and SGD with momentum.\n",
    "\n"
   ]
  },
  {
   "cell_type": "code",
   "execution_count": 6,
   "metadata": {
    "colab": {},
    "colab_type": "code",
    "id": "M4xBbDROpoCv"
   },
   "outputs": [],
   "source": [
    "import torch.optim as optim\n",
    "\n",
    "criterion = nn.CrossEntropyLoss()\n",
    "optimizer = optim.SGD(net.parameters(), lr=0.001, momentum=0.9, weight_decay=5e-4)"
   ]
  },
  {
   "cell_type": "code",
   "execution_count": 7,
   "metadata": {
    "colab": {
     "base_uri": "https://localhost:8080/",
     "height": 155
    },
    "colab_type": "code",
    "id": "nizbsvw9poC6",
    "outputId": "c3bd71eb-4546-4bf1-e384-9707e9d1182c"
   },
   "outputs": [
    {
     "name": "stdout",
     "output_type": "stream",
     "text": [
      "GroundTruth:   frog plane truck  frog\n"
     ]
    },
    {
     "data": {
      "image/png": "[encoded data removed]",
      "text/plain": [
       "<Figure size 432x288 with 1 Axes>"
      ]
     },
     "metadata": {
      "needs_background": "light"
     },
     "output_type": "display_data"
    }
   ],
   "source": [
    "dataiter = iter(testloader)\n",
    "images, labels = dataiter.next()\n",
    "\n",
    "# print images\n",
    "imshow(torchvision.utils.make_grid(images))\n",
    "print('GroundTruth: ', ' '.join('%5s' % classes[labels[j]] for j in range(4)))"
   ]
  },
  {
   "cell_type": "code",
   "execution_count": 8,
   "metadata": {
    "colab": {},
    "colab_type": "code",
    "id": "HVLjlssWpoC9"
   },
   "outputs": [],
   "source": [
    "images = images.to(device)\n",
    "outputs = net(images)\n"
   ]
  },
  {
   "cell_type": "code",
   "execution_count": 9,
   "metadata": {
    "colab": {
     "base_uri": "https://localhost:8080/",
     "height": 35
    },
    "colab_type": "code",
    "id": "ABRIDW3lpoDA",
    "outputId": "ed4b85a8-b1c7-49e8-f92f-134b7e8e4973"
   },
   "outputs": [
    {
     "name": "stdout",
     "output_type": "stream",
     "text": [
      "Predicted:    dog  bird   dog  bird\n"
     ]
    }
   ],
   "source": [
    "_, predicted = torch.max(outputs, 1)\n",
    "print('Predicted: ', ' '.join('%5s' % classes[predicted[j]]\n",
    "                              for j in range(4)))"
   ]
  },
  {
   "cell_type": "markdown",
   "metadata": {
    "colab_type": "text",
    "id": "eDdwPBl8poDF"
   },
   "source": [
    "### Achieve 85 and above accuracy\n"
   ]
  },
  {
   "cell_type": "code",
   "execution_count": 10,
   "metadata": {},
   "outputs": [
    {
     "name": "stdout",
     "output_type": "stream",
     "text": [
      "[1,  2000] loss: 1.962\n",
      "[1,  4000] loss: 1.602\n",
      "[1,  6000] loss: 1.381\n",
      "[1,  8000] loss: 1.205\n",
      "[1, 10000] loss: 1.133\n",
      "[1, 12000] loss: 1.045\n",
      "Finished Training for EPCOH:  0\n",
      "\n",
      "Test set: Average loss: 0.2264, Accuracy: 6779/10000 (68%)\n",
      "\n",
      "[2,  2000] loss: 0.888\n",
      "[2,  4000] loss: 0.883\n",
      "[2,  6000] loss: 0.825\n",
      "[2,  8000] loss: 0.806\n",
      "[2, 10000] loss: 0.764\n",
      "[2, 12000] loss: 0.749\n",
      "Finished Training for EPCOH:  1\n",
      "\n",
      "Test set: Average loss: 0.1745, Accuracy: 7555/10000 (76%)\n",
      "\n",
      "[3,  2000] loss: 0.638\n",
      "[3,  4000] loss: 0.639\n",
      "[3,  6000] loss: 0.639\n",
      "[3,  8000] loss: 0.620\n",
      "[3, 10000] loss: 0.623\n",
      "[3, 12000] loss: 0.602\n",
      "Finished Training for EPCOH:  2\n",
      "\n",
      "Test set: Average loss: 0.1501, Accuracy: 7958/10000 (80%)\n",
      "\n",
      "[4,  2000] loss: 0.483\n",
      "[4,  4000] loss: 0.505\n",
      "[4,  6000] loss: 0.511\n",
      "[4,  8000] loss: 0.491\n",
      "[4, 10000] loss: 0.490\n",
      "[4, 12000] loss: 0.498\n",
      "Finished Training for EPCOH:  3\n",
      "\n",
      "Test set: Average loss: 0.1371, Accuracy: 8108/10000 (81%)\n",
      "\n",
      "[5,  2000] loss: 0.379\n",
      "[5,  4000] loss: 0.386\n",
      "[5,  6000] loss: 0.398\n",
      "[5,  8000] loss: 0.418\n",
      "[5, 10000] loss: 0.413\n",
      "[5, 12000] loss: 0.395\n",
      "Finished Training for EPCOH:  4\n",
      "\n",
      "Test set: Average loss: 0.1302, Accuracy: 8228/10000 (82%)\n",
      "\n",
      "[6,  2000] loss: 0.285\n",
      "[6,  4000] loss: 0.298\n",
      "[6,  6000] loss: 0.322\n",
      "[6,  8000] loss: 0.333\n",
      "[6, 10000] loss: 0.345\n",
      "[6, 12000] loss: 0.346\n",
      "Finished Training for EPCOH:  5\n",
      "\n",
      "Test set: Average loss: 0.1294, Accuracy: 8253/10000 (83%)\n",
      "\n",
      "[7,  2000] loss: 0.206\n",
      "[7,  4000] loss: 0.238\n",
      "[7,  6000] loss: 0.249\n",
      "[7,  8000] loss: 0.263\n",
      "[7, 10000] loss: 0.286\n",
      "[7, 12000] loss: 0.266\n",
      "Finished Training for EPCOH:  6\n",
      "\n",
      "Test set: Average loss: 0.1404, Accuracy: 8227/10000 (82%)\n",
      "\n",
      "[8,  2000] loss: 0.173\n",
      "[8,  4000] loss: 0.188\n",
      "[8,  6000] loss: 0.216\n",
      "[8,  8000] loss: 0.208\n",
      "[8, 10000] loss: 0.222\n",
      "[8, 12000] loss: 0.233\n",
      "Finished Training for EPCOH:  7\n",
      "\n",
      "Test set: Average loss: 0.1415, Accuracy: 8211/10000 (82%)\n",
      "\n",
      "[9,  2000] loss: 0.132\n",
      "[9,  4000] loss: 0.130\n",
      "[9,  6000] loss: 0.169\n",
      "[9,  8000] loss: 0.183\n",
      "[9, 10000] loss: 0.191\n",
      "[9, 12000] loss: 0.200\n",
      "Finished Training for EPCOH:  8\n",
      "\n",
      "Test set: Average loss: 0.1382, Accuracy: 8285/10000 (83%)\n",
      "\n",
      "[10,  2000] loss: 0.117\n",
      "[10,  4000] loss: 0.114\n",
      "[10,  6000] loss: 0.134\n",
      "[10,  8000] loss: 0.137\n",
      "[10, 10000] loss: 0.171\n",
      "[10, 12000] loss: 0.162\n",
      "Finished Training for EPCOH:  9\n",
      "\n",
      "Test set: Average loss: 0.1284, Accuracy: 8355/10000 (84%)\n",
      "\n",
      "[11,  2000] loss: 0.097\n",
      "[11,  4000] loss: 0.104\n",
      "[11,  6000] loss: 0.126\n",
      "[11,  8000] loss: 0.134\n",
      "[11, 10000] loss: 0.147\n",
      "[11, 12000] loss: 0.153\n",
      "Finished Training for EPCOH:  10\n",
      "\n",
      "Test set: Average loss: 0.1423, Accuracy: 8245/10000 (82%)\n",
      "\n",
      "[12,  2000] loss: 0.084\n",
      "[12,  4000] loss: 0.082\n",
      "[12,  6000] loss: 0.094\n",
      "[12,  8000] loss: 0.111\n",
      "[12, 10000] loss: 0.125\n",
      "[12, 12000] loss: 0.126\n",
      "Finished Training for EPCOH:  11\n",
      "\n",
      "Test set: Average loss: 0.1403, Accuracy: 8315/10000 (83%)\n",
      "\n",
      "[13,  2000] loss: 0.083\n",
      "[13,  4000] loss: 0.085\n",
      "[13,  6000] loss: 0.094\n",
      "[13,  8000] loss: 0.114\n",
      "[13, 10000] loss: 0.099\n",
      "[13, 12000] loss: 0.105\n",
      "Finished Training for EPCOH:  12\n",
      "\n",
      "Test set: Average loss: 0.1463, Accuracy: 8298/10000 (83%)\n",
      "\n",
      "[14,  2000] loss: 0.065\n",
      "[14,  4000] loss: 0.067\n",
      "[14,  6000] loss: 0.079\n",
      "[14,  8000] loss: 0.095\n",
      "[14, 10000] loss: 0.118\n",
      "[14, 12000] loss: 0.112\n",
      "Finished Training for EPCOH:  13\n",
      "\n",
      "Test set: Average loss: 0.1522, Accuracy: 8186/10000 (82%)\n",
      "\n",
      "[15,  2000] loss: 0.072\n",
      "[15,  4000] loss: 0.076\n",
      "[15,  6000] loss: 0.088\n",
      "[15,  8000] loss: 0.104\n",
      "[15, 10000] loss: 0.097\n",
      "[15, 12000] loss: 0.107\n",
      "Finished Training for EPCOH:  14\n",
      "\n",
      "Test set: Average loss: 0.1593, Accuracy: 8225/10000 (82%)\n",
      "\n",
      "[16,  2000] loss: 0.067\n",
      "[16,  4000] loss: 0.076\n",
      "[16,  6000] loss: 0.079\n",
      "[16,  8000] loss: 0.089\n",
      "[16, 10000] loss: 0.110\n",
      "[16, 12000] loss: 0.104\n",
      "Finished Training for EPCOH:  15\n",
      "\n",
      "Test set: Average loss: 0.1499, Accuracy: 8312/10000 (83%)\n",
      "\n",
      "[17,  2000] loss: 0.066\n",
      "[17,  4000] loss: 0.070\n",
      "[17,  6000] loss: 0.077\n",
      "[17,  8000] loss: 0.089\n",
      "[17, 10000] loss: 0.093\n",
      "[17, 12000] loss: 0.108\n",
      "Finished Training for EPCOH:  16\n",
      "\n",
      "Test set: Average loss: 0.1434, Accuracy: 8290/10000 (83%)\n",
      "\n",
      "[18,  2000] loss: 0.068\n",
      "[18,  4000] loss: 0.060\n",
      "[18,  6000] loss: 0.072\n",
      "[18,  8000] loss: 0.088\n",
      "[18, 10000] loss: 0.104\n",
      "[18, 12000] loss: 0.089\n",
      "Finished Training for EPCOH:  17\n",
      "\n",
      "Test set: Average loss: 0.1387, Accuracy: 8362/10000 (84%)\n",
      "\n",
      "[19,  2000] loss: 0.053\n",
      "[19,  4000] loss: 0.056\n",
      "[19,  6000] loss: 0.082\n",
      "[19,  8000] loss: 0.078\n",
      "[19, 10000] loss: 0.087\n",
      "[19, 12000] loss: 0.100\n",
      "Finished Training for EPCOH:  18\n",
      "\n",
      "Test set: Average loss: 0.1429, Accuracy: 8329/10000 (83%)\n",
      "\n",
      "[20,  2000] loss: 0.058\n",
      "[20,  4000] loss: 0.049\n",
      "[20,  6000] loss: 0.068\n",
      "[20,  8000] loss: 0.080\n",
      "[20, 10000] loss: 0.082\n",
      "[20, 12000] loss: 0.101\n",
      "Finished Training for EPCOH:  19\n",
      "\n",
      "Test set: Average loss: 0.1563, Accuracy: 8256/10000 (83%)\n",
      "\n",
      "[21,  2000] loss: 0.066\n",
      "[21,  4000] loss: 0.077\n",
      "[21,  6000] loss: 0.079\n",
      "[21,  8000] loss: 0.093\n",
      "[21, 10000] loss: 0.101\n",
      "[21, 12000] loss: 0.110\n",
      "Finished Training for EPCOH:  20\n",
      "\n",
      "Test set: Average loss: 0.1729, Accuracy: 8000/10000 (80%)\n",
      "\n",
      "[22,  2000] loss: 0.074\n",
      "[22,  4000] loss: 0.079\n",
      "[22,  6000] loss: 0.083\n",
      "[22,  8000] loss: 0.081\n",
      "[22, 10000] loss: 0.108\n",
      "[22, 12000] loss: 0.109\n",
      "Finished Training for EPCOH:  21\n",
      "\n",
      "Test set: Average loss: 0.1437, Accuracy: 8304/10000 (83%)\n",
      "\n",
      "[23,  2000] loss: 0.071\n",
      "[23,  4000] loss: 0.069\n",
      "[23,  6000] loss: 0.078\n",
      "[23,  8000] loss: 0.091\n",
      "[23, 10000] loss: 0.105\n",
      "[23, 12000] loss: 0.107\n",
      "Finished Training for EPCOH:  22\n",
      "\n",
      "Test set: Average loss: 0.1387, Accuracy: 8393/10000 (84%)\n",
      "\n",
      "[24,  2000] loss: 0.058\n",
      "[24,  4000] loss: 0.068\n",
      "[24,  6000] loss: 0.071\n",
      "[24,  8000] loss: 0.093\n",
      "[24, 10000] loss: 0.108\n",
      "[24, 12000] loss: 0.116\n",
      "Finished Training for EPCOH:  23\n",
      "\n",
      "Test set: Average loss: 0.1461, Accuracy: 8273/10000 (83%)\n",
      "\n",
      "[25,  2000] loss: 0.060\n",
      "[25,  4000] loss: 0.066\n",
      "[25,  6000] loss: 0.073\n",
      "[25,  8000] loss: 0.097\n",
      "[25, 10000] loss: 0.103\n",
      "[25, 12000] loss: 0.093\n",
      "Finished Training for EPCOH:  24\n",
      "\n",
      "Test set: Average loss: 0.1622, Accuracy: 8211/10000 (82%)\n",
      "\n",
      "[26,  2000] loss: 0.065\n",
      "[26,  4000] loss: 0.070\n",
      "[26,  6000] loss: 0.080\n",
      "[26,  8000] loss: 0.086\n",
      "[26, 10000] loss: 0.091\n",
      "[26, 12000] loss: 0.118\n",
      "Finished Training for EPCOH:  25\n",
      "\n",
      "Test set: Average loss: 0.1433, Accuracy: 8292/10000 (83%)\n",
      "\n",
      "[27,  2000] loss: 0.072\n",
      "[27,  4000] loss: 0.072\n",
      "[27,  6000] loss: 0.070\n",
      "[27,  8000] loss: 0.089\n",
      "[27, 10000] loss: 0.099\n",
      "[27, 12000] loss: 0.108\n",
      "Finished Training for EPCOH:  26\n",
      "\n",
      "Test set: Average loss: 0.1541, Accuracy: 8152/10000 (82%)\n",
      "\n",
      "[28,  2000] loss: 0.057\n",
      "[28,  4000] loss: 0.053\n",
      "[28,  6000] loss: 0.084\n",
      "[28,  8000] loss: 0.090\n",
      "[28, 10000] loss: 0.097\n",
      "[28, 12000] loss: 0.128\n",
      "Finished Training for EPCOH:  27\n",
      "\n",
      "Test set: Average loss: 0.1473, Accuracy: 8274/10000 (83%)\n",
      "\n",
      "[29,  2000] loss: 0.076\n",
      "[29,  4000] loss: 0.065\n",
      "[29,  6000] loss: 0.063\n",
      "[29,  8000] loss: 0.100\n",
      "[29, 10000] loss: 0.101\n",
      "[29, 12000] loss: 0.111\n",
      "Finished Training for EPCOH:  28\n",
      "\n",
      "Test set: Average loss: 0.1455, Accuracy: 8309/10000 (83%)\n",
      "\n",
      "[30,  2000] loss: 0.078\n",
      "[30,  4000] loss: 0.069\n",
      "[30,  6000] loss: 0.079\n",
      "[30,  8000] loss: 0.094\n",
      "[30, 10000] loss: 0.090\n",
      "[30, 12000] loss: 0.120\n",
      "Finished Training for EPCOH:  29\n",
      "\n",
      "Test set: Average loss: 0.1427, Accuracy: 8321/10000 (83%)\n",
      "\n",
      "[31,  2000] loss: 0.057\n",
      "[31,  4000] loss: 0.067\n",
      "[31,  6000] loss: 0.084\n",
      "[31,  8000] loss: 0.092\n",
      "[31, 10000] loss: 0.093\n",
      "[31, 12000] loss: 0.109\n",
      "Finished Training for EPCOH:  30\n",
      "\n",
      "Test set: Average loss: 0.1573, Accuracy: 8236/10000 (82%)\n",
      "\n",
      "[32,  2000] loss: 0.065\n",
      "[32,  4000] loss: 0.066\n",
      "[32,  6000] loss: 0.072\n",
      "[32,  8000] loss: 0.093\n",
      "[32, 10000] loss: 0.103\n",
      "[32, 12000] loss: 0.113\n",
      "Finished Training for EPCOH:  31\n",
      "\n",
      "Test set: Average loss: 0.1445, Accuracy: 8290/10000 (83%)\n",
      "\n",
      "[33,  2000] loss: 0.068\n",
      "[33,  4000] loss: 0.059\n",
      "[33,  6000] loss: 0.067\n",
      "[33,  8000] loss: 0.096\n",
      "[33, 10000] loss: 0.109\n",
      "[33, 12000] loss: 0.118\n",
      "Finished Training for EPCOH:  32\n",
      "\n",
      "Test set: Average loss: 0.1472, Accuracy: 8223/10000 (82%)\n",
      "\n",
      "[34,  2000] loss: 0.073\n",
      "[34,  4000] loss: 0.072\n",
      "[34,  6000] loss: 0.072\n",
      "[34,  8000] loss: 0.087\n",
      "[34, 10000] loss: 0.086\n",
      "[34, 12000] loss: 0.112\n",
      "Finished Training for EPCOH:  33\n",
      "\n",
      "Test set: Average loss: 0.1703, Accuracy: 8049/10000 (80%)\n",
      "\n",
      "[35,  2000] loss: 0.074\n",
      "[35,  4000] loss: 0.071\n",
      "[35,  6000] loss: 0.096\n",
      "[35,  8000] loss: 0.099\n",
      "[35, 10000] loss: 0.099\n",
      "[35, 12000] loss: 0.100\n"
     ]
    },
    {
     "name": "stdout",
     "output_type": "stream",
     "text": [
      "Finished Training for EPCOH:  34\n",
      "\n",
      "Test set: Average loss: 0.1548, Accuracy: 8187/10000 (82%)\n",
      "\n",
      "[36,  2000] loss: 0.078\n",
      "[36,  4000] loss: 0.064\n",
      "[36,  6000] loss: 0.060\n",
      "[36,  8000] loss: 0.080\n",
      "[36, 10000] loss: 0.092\n",
      "[36, 12000] loss: 0.095\n",
      "Finished Training for EPCOH:  35\n",
      "\n",
      "Test set: Average loss: 0.1583, Accuracy: 8182/10000 (82%)\n",
      "\n",
      "[37,  2000] loss: 0.052\n",
      "[37,  4000] loss: 0.071\n",
      "[37,  6000] loss: 0.092\n",
      "[37,  8000] loss: 0.087\n",
      "[37, 10000] loss: 0.084\n",
      "[37, 12000] loss: 0.107\n",
      "Finished Training for EPCOH:  36\n",
      "\n",
      "Test set: Average loss: 0.1514, Accuracy: 8266/10000 (83%)\n",
      "\n",
      "[38,  2000] loss: 0.065\n",
      "[38,  4000] loss: 0.062\n",
      "[38,  6000] loss: 0.082\n",
      "[38,  8000] loss: 0.098\n",
      "[38, 10000] loss: 0.110\n",
      "[38, 12000] loss: 0.109\n",
      "Finished Training for EPCOH:  37\n",
      "\n",
      "Test set: Average loss: 0.1418, Accuracy: 8266/10000 (83%)\n",
      "\n",
      "[39,  2000] loss: 0.067\n",
      "[39,  4000] loss: 0.076\n",
      "[39,  6000] loss: 0.070\n",
      "[39,  8000] loss: 0.091\n",
      "[39, 10000] loss: 0.102\n",
      "[39, 12000] loss: 0.098\n",
      "Finished Training for EPCOH:  38\n",
      "\n",
      "Test set: Average loss: 0.1563, Accuracy: 8254/10000 (83%)\n",
      "\n",
      "[40,  2000] loss: 0.064\n",
      "[40,  4000] loss: 0.067\n",
      "[40,  6000] loss: 0.067\n",
      "[40,  8000] loss: 0.089\n",
      "[40, 10000] loss: 0.094\n",
      "[40, 12000] loss: 0.092\n",
      "Finished Training for EPCOH:  39\n",
      "\n",
      "Test set: Average loss: 0.1662, Accuracy: 8156/10000 (82%)\n",
      "\n"
     ]
    }
   ],
   "source": [
    "for epoch in range(40):\n",
    "    train(net, device, trainloader, optimizer,criterion, epoch)\n",
    "    test(net, device, testloader, criterion)"
   ]
  },
  {
   "cell_type": "code",
   "execution_count": 11,
   "metadata": {
    "colab": {
     "base_uri": "https://localhost:8080/",
     "height": 193
    },
    "colab_type": "code",
    "id": "pDNFuDEDpoDG",
    "outputId": "43bca7a0-ef6f-48b8-d42f-5d0d89aba2dc"
   },
   "outputs": [
    {
     "name": "stdout",
     "output_type": "stream",
     "text": [
      "Accuracy of plane : 89 %\n",
      "Accuracy of   car : 85 %\n",
      "Accuracy of  bird : 79 %\n",
      "Accuracy of   cat : 60 %\n",
      "Accuracy of  deer : 86 %\n",
      "Accuracy of   dog : 69 %\n",
      "Accuracy of  frog : 84 %\n",
      "Accuracy of horse : 78 %\n",
      "Accuracy of  ship : 87 %\n",
      "Accuracy of truck : 94 %\n"
     ]
    }
   ],
   "source": [
    "class_correct = list(0. for i in range(10))\n",
    "class_total = list(0. for i in range(10))\n",
    "with torch.no_grad():\n",
    "    for data in testloader:\n",
    "        images, labels = data\n",
    "        images, labels = images.to(device), labels.to(device)\n",
    "        outputs = net(images)\n",
    "        _, predicted = torch.max(outputs, 1)\n",
    "        c = (predicted == labels).squeeze()\n",
    "        for i in range(4):\n",
    "            label = labels[i]\n",
    "            class_correct[label] += c[i].item()\n",
    "            class_total[label] += 1\n",
    "\n",
    "\n",
    "for i in range(10):\n",
    "    print('Accuracy of %5s : %2d %%' % (\n",
    "        classes[i], 100 * class_correct[i] / class_total[i]))"
   ]
  }
 ],
 "metadata": {
  "accelerator": "GPU",
  "colab": {
   "collapsed_sections": [],
   "name": "S7_test_1.ipynb",
   "provenance": []
  },
  "kernelspec": {
   "display_name": "Python 3",
   "language": "python",
   "name": "python3"
  },
  "language_info": {
   "codemirror_mode": {
    "name": "ipython",
    "version": 3
   },
   "file_extension": ".py",
   "mimetype": "text/x-python",
   "name": "python",
   "nbconvert_exporter": "python",
   "pygments_lexer": "ipython3",
   "version": "3.7.4"
  }
 },
 "nbformat": 4,
 "nbformat_minor": 1
}
